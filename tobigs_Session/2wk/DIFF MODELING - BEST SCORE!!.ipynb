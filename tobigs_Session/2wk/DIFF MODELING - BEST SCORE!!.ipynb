{
 "cells": [
  {
   "cell_type": "code",
   "execution_count": 1,
   "metadata": {},
   "outputs": [
    {
     "ename": "FileNotFoundError",
     "evalue": "[WinError 3] 지정된 경로를 찾을 수 없습니다: 'C:\\\\workspace\\\\DACON3\\\\Auction_master_test'",
     "output_type": "error",
     "traceback": [
      "\u001b[1;31m---------------------------------------------------------------------------\u001b[0m",
      "\u001b[1;31mFileNotFoundError\u001b[0m                         Traceback (most recent call last)",
      "\u001b[1;32m<ipython-input-1-a999752abae1>\u001b[0m in \u001b[0;36m<module>\u001b[1;34m()\u001b[0m\n\u001b[0;32m      5\u001b[0m \u001b[1;32mimport\u001b[0m \u001b[0mseaborn\u001b[0m \u001b[1;32mas\u001b[0m \u001b[0msns\u001b[0m\u001b[1;33m\u001b[0m\u001b[0m\n\u001b[0;32m      6\u001b[0m \u001b[1;32mimport\u001b[0m \u001b[0mmatplotlib\u001b[0m\u001b[1;33m.\u001b[0m\u001b[0mpyplot\u001b[0m \u001b[1;32mas\u001b[0m \u001b[0mplt\u001b[0m\u001b[1;33m\u001b[0m\u001b[0m\n\u001b[1;32m----> 7\u001b[1;33m \u001b[0mos\u001b[0m\u001b[1;33m.\u001b[0m\u001b[0mchdir\u001b[0m\u001b[1;33m(\u001b[0m\u001b[1;34m\"C:\\\\workspace\\\\DACON3\\\\Auction_master_test\"\u001b[0m\u001b[1;33m)\u001b[0m\u001b[1;33m\u001b[0m\u001b[0m\n\u001b[0m\u001b[0;32m      8\u001b[0m \u001b[1;32mdef\u001b[0m \u001b[0mwarn\u001b[0m\u001b[1;33m(\u001b[0m\u001b[1;33m*\u001b[0m\u001b[0margs\u001b[0m\u001b[1;33m,\u001b[0m \u001b[1;33m**\u001b[0m\u001b[0mkwargs\u001b[0m\u001b[1;33m)\u001b[0m\u001b[1;33m:\u001b[0m\u001b[1;33m\u001b[0m\u001b[0m\n\u001b[0;32m      9\u001b[0m     \u001b[1;32mpass\u001b[0m\u001b[1;33m\u001b[0m\u001b[0m\n",
      "\u001b[1;31mFileNotFoundError\u001b[0m: [WinError 3] 지정된 경로를 찾을 수 없습니다: 'C:\\\\workspace\\\\DACON3\\\\Auction_master_test'"
     ]
    }
   ],
   "source": [
    "import pandas as pd\n",
    "import numpy as np\n",
    "import os\n",
    "from tqdm import tnrange,tqdm_notebook\n",
    "import seaborn as sns\n",
    "import matplotlib.pyplot as plt\n",
    "os.chdir(\"C:\\\\workspace\\\\DACON3\\\\Auction_master_test\")\n",
    "def warn(*args, **kwargs):\n",
    "    pass\n",
    "import warnings\n",
    "warnings.warn = warn"
   ]
  },
  {
   "cell_type": "code",
   "execution_count": 2,
   "metadata": {},
   "outputs": [
    {
     "name": "stdout",
     "output_type": "stream",
     "text": [
      "['임의' '강제']\n",
      "[0 1]\n",
      "--------------------------------------------------\n",
      "['부산' '서울']\n",
      "[0 1]\n",
      "--------------------------------------------------\n",
      "['주상복합' '아파트']\n",
      "[0 1]\n",
      "--------------------------------------------------\n",
      "['N' 'Y']\n",
      "[0 1]\n",
      "--------------------------------------------------\n"
     ]
    }
   ],
   "source": [
    "AM_train = pd.read_csv(\"Auction_master_train.csv\")\n",
    "AM_test = pd.read_csv(\"Auction_master_test.csv\")\n",
    "AM_test.drop(index=[397], axis = 0, inplace=True)\n",
    "#AM_train = pd.concat([AM_train, AM_test], axis = 0)\n",
    "AM_train.shape\n",
    "\n",
    "del AM_train[\"point.x\"]\n",
    "del AM_train[\"point.y\"]\n",
    "del AM_train['Appraisal_company']\n",
    "del AM_train[\"Final_result\"]\n",
    "del AM_train[\"addr_si\"]\n",
    "del AM_train[\"addr_dong\"]\n",
    "del AM_train[\"addr_li\"]\n",
    "del AM_train[\"addr_san\"]\n",
    "del AM_train[\"addr_bunji1\"]\n",
    "del AM_train[\"addr_bunji2\"]\n",
    "del AM_train[\"addr_etc\"]\n",
    "del AM_train[\"Specific\"]\n",
    "del AM_train[\"road_name\"]\n",
    "del AM_train[\"road_bunji1\"]\n",
    "del AM_train[\"road_bunji2\"]\n",
    "del AM_train[\"Close_result\"]\n",
    "del AM_train[\"Creditor\"]\n",
    "###############################################################################\n",
    "\n",
    "#del AM_train['Total_land_gross_area']\n",
    "\n",
    "\n",
    "\n",
    "\n",
    "\n",
    "\n",
    "import datetime\n",
    "\n",
    "def change_datetime(x):\n",
    "    today = datetime.date.today()\n",
    "    someday = datetime.date(int(x[:4]), int(x[5:7]), int(x[8:10]))\n",
    "    diff = today - someday\n",
    "    return diff.days\n",
    "\n",
    "# del AM_train[\"Appraisal_date\"]\n",
    "# del AM_train[\"First_auction_date\"]\n",
    "# del AM_train[\"Preserve_regist_date\"]\n",
    "# del AM_train[\"Final_auction_date\"]\n",
    "# del AM_train[\"Close_date\"]\n",
    "AM_train[\"Appraisal_date\"] = AM_train[\"Appraisal_date\"].apply(lambda x : x[:10])\n",
    "AM_train[\"First_auction_date\"] = AM_train[\"First_auction_date\"].apply(lambda x : x[:10])\n",
    "AM_train[\"Final_auction_date\"] = AM_train[\"Final_auction_date\"].apply(lambda x : x[:10])\n",
    "AM_train[\"Preserve_regist_date\"] = AM_train[\"Preserve_regist_date\"].apply(lambda x : x[:10])\n",
    "AM_train[\"Close_date\"] = AM_train[\"Close_date\"].apply(lambda x : x[:10])\n",
    "AM_train[\"Appraisal_date\"] = AM_train[\"Appraisal_date\"].apply(change_datetime)\n",
    "AM_train[\"First_auction_date\"] = AM_train[\"First_auction_date\"].apply(change_datetime)\n",
    "AM_train[\"Final_auction_date\"] = AM_train[\"Final_auction_date\"].apply(change_datetime)\n",
    "AM_train[\"Preserve_regist_date\"] = AM_train[\"Preserve_regist_date\"].apply(change_datetime)\n",
    "AM_train[\"Close_date\"] = AM_train[\"Close_date\"].apply(change_datetime)\n",
    "\n",
    "AM_train[\"Diff_price\"] = AM_train['Total_appraisal_price'] - AM_train['Minimum_sales_price']\n",
    "AM_train[\"Diff_date\"] = AM_train['First_auction_date'] - AM_train['Final_auction_date']\n",
    "\n",
    "print(AM_train.Auction_class.unique())\n",
    "AM_train.Auction_class.replace({'임의':0, '강제':1},inplace=True)\n",
    "print(AM_train.Auction_class.unique())\n",
    "print(\"-\"*50)\n",
    "print(AM_train.addr_do.unique())\n",
    "AM_train.addr_do.replace({'부산':0, '서울':1},inplace=True)\n",
    "print(AM_train.addr_do.unique())\n",
    "print(\"-\"*50)\n",
    "print(AM_train.Apartment_usage.unique())\n",
    "AM_train.Apartment_usage.replace({'주상복합':0, '아파트':1},inplace=True)\n",
    "print(AM_train.Apartment_usage.unique())\n",
    "print(\"-\"*50)\n",
    "print(AM_train.Share_auction_YorN.unique())\n",
    "AM_train.Share_auction_YorN.replace({'N':0, 'Y':1},inplace=True)\n",
    "print(AM_train.Share_auction_YorN.unique())\n",
    "print(\"-\"*50)\n",
    "def change_spec(x):\n",
    "    if isinstance(x, str):\n",
    "        return int(1)\n",
    "    else:\n",
    "        return int(0)\n",
    "# AM_train.Creditor = AM_train.Creditor.apply(lambda x : x if x == 'Private' else 'Company')\n",
    "# print(AM_train.Creditor.unique())\n",
    "# AM_train.Creditor.replace({'Private':0, 'Company':1},inplace=True)\n",
    "# print(AM_train.Creditor.unique())\n",
    "#AM_train[\"Specific\"] = AM_train.Specific.apply(change_spec)\n",
    "#print(AM_train.Specific.unique())\n",
    "\n",
    "del AM_train[\"Preserve_regist_date\"]\n",
    "#del AM_train[\"Final_auction_date\"]\n",
    "del AM_train[\"First_auction_date\"]\n",
    "del AM_train[\"Close_date\"]\n",
    "#del AM_train[\"Appraisal_date\"]"
   ]
  },
  {
   "cell_type": "code",
   "execution_count": 30,
   "metadata": {},
   "outputs": [],
   "source": [
    "AM_train1 = AM_train.loc[AM_train.Total_appraisal_price == AM_train.Minimum_sales_price]\n",
    "AM_train2 = AM_train.loc[AM_train.Total_appraisal_price != AM_train.Minimum_sales_price]\n",
    "#del AM_train1['addr_do']\n",
    "#del AM_train2['addr_do']"
   ]
  },
  {
   "cell_type": "code",
   "execution_count": 31,
   "metadata": {},
   "outputs": [],
   "source": [
    "# AM_train2.drop(index=[1521], axis = 0, inplace=True) #제일 심한 이상치\n",
    "# AM_train2.drop(index=[1515], axis = 0, inplace=True) #2번 째 심한 이상치"
   ]
  },
  {
   "cell_type": "code",
   "execution_count": 32,
   "metadata": {},
   "outputs": [
    {
     "data": {
      "text/plain": [
       "(['Auction_key',\n",
       "  'Auction_class',\n",
       "  'Claim_price',\n",
       "  'Appraisal_date',\n",
       "  'Auction_count',\n",
       "  'Auction_miscarriage_count',\n",
       "  'Total_land_gross_area',\n",
       "  'Total_land_real_area',\n",
       "  'Total_land_auction_area',\n",
       "  'Total_building_area',\n",
       "  'Total_building_auction_area',\n",
       "  'Total_appraisal_price',\n",
       "  'Minimum_sales_price',\n",
       "  'Final_auction_date',\n",
       "  'addr_do',\n",
       "  'Apartment_usage',\n",
       "  'Total_floor',\n",
       "  'Current_floor',\n",
       "  'Share_auction_YorN',\n",
       "  'Hammer_price',\n",
       "  'Diff_price',\n",
       "  'Diff_date'],\n",
       " ['Bid_class'])"
      ]
     },
     "execution_count": 32,
     "metadata": {},
     "output_type": "execute_result"
    }
   ],
   "source": [
    "cate_features = AM_train.dtypes[AM_train.dtypes == \"object\"].index.format()\n",
    "conti_featrues = AM_train.dtypes[AM_train.dtypes != \"object\"].index.format()\n",
    "conti_featrues, cate_features"
   ]
  },
  {
   "cell_type": "code",
   "execution_count": 33,
   "metadata": {},
   "outputs": [],
   "source": [
    "conti_featrues.remove(\"Hammer_price\")\n",
    "conti_featrues.remove(\"Auction_key\")\n",
    "#conti_featrues.remove(\"addr_do\")"
   ]
  },
  {
   "cell_type": "code",
   "execution_count": 34,
   "metadata": {},
   "outputs": [],
   "source": [
    "from sklearn.preprocessing import MinMaxScaler\n",
    "scale = MinMaxScaler()\n",
    "AM_train1[conti_featrues] = scale.fit_transform(AM_train1[conti_featrues])\n",
    "AM_train2[conti_featrues] = scale.fit_transform(AM_train2[conti_featrues])"
   ]
  },
  {
   "cell_type": "code",
   "execution_count": 35,
   "metadata": {},
   "outputs": [
    {
     "name": "stdout",
     "output_type": "stream",
     "text": [
      "(685, 20) (685, 3)\n",
      "(1248, 20) (1248, 3)\n"
     ]
    }
   ],
   "source": [
    "print(AM_train1[conti_featrues].shape, pd.get_dummies(AM_train1[cate_features]).shape)\n",
    "print(AM_train2[conti_featrues].shape, pd.get_dummies(AM_train2[cate_features]).shape)"
   ]
  },
  {
   "cell_type": "code",
   "execution_count": 36,
   "metadata": {},
   "outputs": [
    {
     "name": "stdout",
     "output_type": "stream",
     "text": [
      "(685, 23) (685,)\n",
      "(1248, 23) (1248,)\n"
     ]
    }
   ],
   "source": [
    "X = pd.concat([AM_train1[conti_featrues], pd.get_dummies(AM_train1[cate_features])], axis= 1)\n",
    "y = AM_train1.Hammer_price.values\n",
    "print(X.shape, y.shape)\n",
    "\n",
    "X1 = pd.concat([AM_train2[conti_featrues], pd.get_dummies(AM_train2[cate_features])], axis= 1)\n",
    "y1 = AM_train2.Hammer_price.values\n",
    "print(X1.shape, y1.shape)"
   ]
  },
  {
   "cell_type": "code",
   "execution_count": 37,
   "metadata": {},
   "outputs": [
    {
     "data": {
      "text/plain": [
       "((1248, 23), (1248,))"
      ]
     },
     "execution_count": 37,
     "metadata": {},
     "output_type": "execute_result"
    }
   ],
   "source": [
    "X1 = pd.concat([AM_train2[conti_featrues], pd.get_dummies(AM_train2[cate_features])], axis= 1)\n",
    "y1 = AM_train2.Hammer_price.values\n",
    "X1.shape, y1.shape"
   ]
  },
  {
   "cell_type": "code",
   "execution_count": 38,
   "metadata": {},
   "outputs": [
    {
     "data": {
      "text/plain": [
       "((616, 23), (616,), (69, 23), (69,))"
      ]
     },
     "execution_count": 38,
     "metadata": {},
     "output_type": "execute_result"
    }
   ],
   "source": [
    "from sklearn.model_selection import train_test_split\n",
    "X_train, X_test, y_train, y_test = train_test_split(X, y, test_size=0.1, random_state = 42)\n",
    "X_train.shape, y_train.shape, X_test.shape, y_test.shape"
   ]
  },
  {
   "cell_type": "code",
   "execution_count": 39,
   "metadata": {},
   "outputs": [],
   "source": [
    "from sklearn.ensemble import RandomForestRegressor\n",
    "from sklearn.metrics import mean_squared_error\n",
    "from sklearn.linear_model import LinearRegression\n",
    "from sklearn.linear_model import Lasso, Ridge, ElasticNet\n",
    "from sklearn.model_selection import cross_validate\n",
    "from sklearn.model_selection import cross_val_score\n",
    "from sklearn.model_selection import LeaveOneOut"
   ]
  },
  {
   "cell_type": "code",
   "execution_count": 46,
   "metadata": {},
   "outputs": [
    {
     "name": "stdout",
     "output_type": "stream",
     "text": [
      "287186500.5831575\n"
     ]
    }
   ],
   "source": [
    "RF_rg = KNeighborsRegressor(n_neighbors=1)\n",
    "RF_rg.fit(X_train, y_train)\n",
    "\n",
    "pred1 = RF_rg.predict(X_test)\n",
    "print(np.sqrt(mean_squared_error(y_test, pred1)))"
   ]
  },
  {
   "cell_type": "code",
   "execution_count": 15,
   "metadata": {},
   "outputs": [
    {
     "name": "stdout",
     "output_type": "stream",
     "text": [
      "MSE of Lasso is  46561099.076571964\n",
      "MSE of Lasso is  44483341.592276834\n"
     ]
    }
   ],
   "source": [
    "lasso_regressor = Ridge(alpha = 0.48)\n",
    "ridge_regressor = Ridge(alpha = 0.00)\n",
    "lasso_scores = cross_val_score(lasso_regressor, X, y, cv=10, scoring='neg_mean_squared_error')\n",
    "ridge_scores= cross_val_score(ridge_regressor, X, y, cv=10, scoring='neg_mean_squared_error')\n",
    "print(\"MSE of Lasso is \", np.array(np.sqrt(np.abs(lasso_scores)).mean()))\n",
    "print(\"MSE of Lasso is \", np.array(np.sqrt(np.abs(ridge_scores)).mean()))"
   ]
  },
  {
   "cell_type": "code",
   "execution_count": 16,
   "metadata": {},
   "outputs": [],
   "source": [
    "# X2['Hammer_price'] = y2\n",
    "# X2.to_csv(\"C:\\\\Users\\\\korea\\\\Desktop\\\\SEOUL.csv\", encoding='utf-8', index= False)"
   ]
  },
  {
   "cell_type": "code",
   "execution_count": 17,
   "metadata": {},
   "outputs": [
    {
     "data": {
      "application/vnd.jupyter.widget-view+json": {
       "model_id": "4662b5b232624987b58ca44c6d3d1fed",
       "version_major": 2,
       "version_minor": 0
      },
      "text/plain": [
       "HBox(children=(IntProgress(value=0, max=30), HTML(value='')))"
      ]
     },
     "metadata": {},
     "output_type": "display_data"
    },
    {
     "name": "stdout",
     "output_type": "stream",
     "text": [
      "\n"
     ]
    },
    {
     "data": {
      "text/plain": [
       "<function matplotlib.pyplot.show(*args, **kw)>"
      ]
     },
     "execution_count": 17,
     "metadata": {},
     "output_type": "execute_result"
    },
    {
     "data": {
      "image/png": "[encoded data removed]",
      "text/plain": [
       "<Figure size 432x288 with 1 Axes>"
      ]
     },
     "metadata": {
      "needs_background": "light"
     },
     "output_type": "display_data"
    }
   ],
   "source": [
    "val_rmse_list = [[], []]\n",
    "for i in tqdm_notebook(np.linspace(0.01, 100, 30)):\n",
    "    RF_rg = Ridge(alpha=i)\n",
    "    RF_rg.fit(X_train, y_train)\n",
    "\n",
    "    pred1 = RF_rg.predict(X_test)\n",
    "    val_rmse_list[0].append(i)\n",
    "    val_rmse_list[1].append(np.sqrt(mean_squared_error(y_test, pred1)))\n",
    "val_rmse_list = np.array(val_rmse_list)\n",
    "plt.scatter(val_rmse_list[0], val_rmse_list[1])\n",
    "plt.show"
   ]
  },
  {
   "cell_type": "code",
   "execution_count": 18,
   "metadata": {},
   "outputs": [
    {
     "data": {
      "text/plain": [
       "array([0.01])"
      ]
     },
     "execution_count": 18,
     "metadata": {},
     "output_type": "execute_result"
    }
   ],
   "source": [
    "val_rmse_list[0][np.where(val_rmse_list[1] == val_rmse_list[1].min())]"
   ]
  },
  {
   "cell_type": "code",
   "execution_count": 19,
   "metadata": {},
   "outputs": [
    {
     "data": {
      "text/plain": [
       "((1123, 23), (1123,), (125, 23), (125,))"
      ]
     },
     "execution_count": 19,
     "metadata": {},
     "output_type": "execute_result"
    }
   ],
   "source": [
    "from sklearn.model_selection import train_test_split\n",
    "X_train, X_test, y_train, y_test = train_test_split(X1, y1, test_size=0.1, random_state = 42)\n",
    "X_train.shape, y_train.shape, X_test.shape, y_test.shape"
   ]
  },
  {
   "cell_type": "code",
   "execution_count": 20,
   "metadata": {},
   "outputs": [
    {
     "name": "stdout",
     "output_type": "stream",
     "text": [
      "60809514.76481833\n"
     ]
    }
   ],
   "source": [
    "RF_rg = LinearRegression()\n",
    "RF_rg.fit(X_train, y_train)\n",
    "\n",
    "pred1 = RF_rg.predict(X_test)\n",
    "print(np.sqrt(mean_squared_error(y_test, pred1)))"
   ]
  },
  {
   "cell_type": "code",
   "execution_count": 21,
   "metadata": {},
   "outputs": [
    {
     "name": "stdout",
     "output_type": "stream",
     "text": [
      "157440408.64226338\n"
     ]
    }
   ],
   "source": [
    "RF_rg = Ridge(alpha=0.48584858)\n",
    "RF_rg.fit(X_train, y_train)\n",
    "\n",
    "pred1 = RF_rg.predict(X_test)\n",
    "print(np.sqrt(mean_squared_error(y_test, pred1)))"
   ]
  },
  {
   "cell_type": "code",
   "execution_count": 22,
   "metadata": {},
   "outputs": [
    {
     "name": "stdout",
     "output_type": "stream",
     "text": [
      "MSE of Lasso is  139645940.3103538\n",
      "MSE of Lasso is  74417701.1667131\n"
     ]
    }
   ],
   "source": [
    "lasso_regressor = Ridge(alpha = 0.48)\n",
    "ridge_regressor = Ridge(alpha = 0.01)\n",
    "lasso_scores = cross_val_score(lasso_regressor, X1, y1, cv=10, scoring='neg_mean_squared_error')\n",
    "ridge_scores= cross_val_score(ridge_regressor, X1, y1, cv=10, scoring='neg_mean_squared_error')\n",
    "print(\"MSE of Lasso is \", np.array(np.sqrt(np.abs(lasso_scores)).mean()))\n",
    "print(\"MSE of Lasso is \", np.array(np.sqrt(np.abs(ridge_scores)).mean()))"
   ]
  },
  {
   "cell_type": "code",
   "execution_count": 23,
   "metadata": {},
   "outputs": [
    {
     "data": {
      "application/vnd.jupyter.widget-view+json": {
       "model_id": "d4ae01a6e804466cbbe12d0c919cdd92",
       "version_major": 2,
       "version_minor": 0
      },
      "text/plain": [
       "HBox(children=(IntProgress(value=0, max=10000), HTML(value='')))"
      ]
     },
     "metadata": {},
     "output_type": "display_data"
    },
    {
     "name": "stdout",
     "output_type": "stream",
     "text": [
      "\n"
     ]
    },
    {
     "data": {
      "text/plain": [
       "<function matplotlib.pyplot.show(*args, **kw)>"
      ]
     },
     "execution_count": 23,
     "metadata": {},
     "output_type": "execute_result"
    },
    {
     "data": {
      "image/png": "[encoded data removed]",
      "text/plain": [
       "<Figure size 432x288 with 1 Axes>"
      ]
     },
     "metadata": {
      "needs_background": "light"
     },
     "output_type": "display_data"
    }
   ],
   "source": [
    "val_rmse_list = [[], []]\n",
    "for i in tqdm_notebook(np.linspace(0.01, 1, 10000)):\n",
    "    RF_rg = Ridge(alpha=i)\n",
    "    RF_rg.fit(X_train, y_train)\n",
    "\n",
    "    pred1 = RF_rg.predict(X_test)\n",
    "    val_rmse_list[0].append(i)\n",
    "    val_rmse_list[1].append(np.sqrt(mean_squared_error(y_test, pred1)))\n",
    "val_rmse_list = np.array(val_rmse_list)\n",
    "plt.scatter(val_rmse_list[0], val_rmse_list[1])\n",
    "plt.show"
   ]
  },
  {
   "cell_type": "code",
   "execution_count": 466,
   "metadata": {},
   "outputs": [
    {
     "data": {
      "application/vnd.jupyter.widget-view+json": {
       "model_id": "e0b746e9ca1148768995f535b2d073da",
       "version_major": 2,
       "version_minor": 0
      },
      "text/plain": [
       "HBox(children=(IntProgress(value=0, max=10000), HTML(value='')))"
      ]
     },
     "metadata": {},
     "output_type": "display_data"
    },
    {
     "name": "stdout",
     "output_type": "stream",
     "text": [
      "\n"
     ]
    },
    {
     "data": {
      "text/plain": [
       "<function matplotlib.pyplot.show(*args, **kw)>"
      ]
     },
     "execution_count": 466,
     "metadata": {},
     "output_type": "execute_result"
    },
    {
     "data": {
      "image/png": "[encoded data removed]",
      "text/plain": [
       "<Figure size 432x288 with 1 Axes>"
      ]
     },
     "metadata": {
      "needs_background": "light"
     },
     "output_type": "display_data"
    }
   ],
   "source": [
    "val_rmse_list = [[], []]\n",
    "for i in tqdm_notebook(np.linspace(0.4, 0.6, 10000)):\n",
    "    RF_rg = Ridge(alpha=i)\n",
    "    RF_rg.fit(X_train, y_train)\n",
    "\n",
    "    pred1 = RF_rg.predict(X_test)\n",
    "    val_rmse_list[0].append(i)\n",
    "    val_rmse_list[1].append(np.sqrt(mean_squared_error(y_test, pred1)))\n",
    "val_rmse_list = np.array(val_rmse_list)\n",
    "plt.scatter(val_rmse_list[0], val_rmse_list[1])\n",
    "plt.show"
   ]
  },
  {
   "cell_type": "code",
   "execution_count": 467,
   "metadata": {},
   "outputs": [
    {
     "data": {
      "application/vnd.jupyter.widget-view+json": {
       "model_id": "5fa26b36ae714774b6bfefa84da406d9",
       "version_major": 2,
       "version_minor": 0
      },
      "text/plain": [
       "HBox(children=(IntProgress(value=0, max=10000), HTML(value='')))"
      ]
     },
     "metadata": {},
     "output_type": "display_data"
    },
    {
     "name": "stdout",
     "output_type": "stream",
     "text": [
      "\n"
     ]
    },
    {
     "data": {
      "text/plain": [
       "<function matplotlib.pyplot.show(*args, **kw)>"
      ]
     },
     "execution_count": 467,
     "metadata": {},
     "output_type": "execute_result"
    },
    {
     "data": {
      "image/png": "[encoded data removed]",
      "text/plain": [
       "<Figure size 432x288 with 1 Axes>"
      ]
     },
     "metadata": {
      "needs_background": "light"
     },
     "output_type": "display_data"
    }
   ],
   "source": [
    "val_rmse_list = [[], []]\n",
    "for i in tqdm_notebook(np.linspace(0.45, 0.5, 10000)):\n",
    "    RF_rg = Ridge(alpha=i)\n",
    "    RF_rg.fit(X_train, y_train)\n",
    "\n",
    "    pred1 = RF_rg.predict(X_test)\n",
    "    val_rmse_list[0].append(i)\n",
    "    val_rmse_list[1].append(np.sqrt(mean_squared_error(y_test, pred1)))\n",
    "val_rmse_list = np.array(val_rmse_list)\n",
    "plt.scatter(val_rmse_list[0], val_rmse_list[1])\n",
    "plt.show"
   ]
  },
  {
   "cell_type": "code",
   "execution_count": 468,
   "metadata": {},
   "outputs": [
    {
     "data": {
      "text/plain": [
       "array([0.48815882])"
      ]
     },
     "execution_count": 468,
     "metadata": {},
     "output_type": "execute_result"
    }
   ],
   "source": [
    "val_rmse_list[0][np.where(val_rmse_list[1] == val_rmse_list[1].min())]"
   ]
  },
  {
   "cell_type": "code",
   "execution_count": 176,
   "metadata": {},
   "outputs": [
    {
     "name": "stderr",
     "output_type": "stream",
     "text": [
      "C:\\Users\\korea\\Anaconda3\\envs\\ML\\lib\\site-packages\\sklearn\\linear_model\\coordinate_descent.py:491: ConvergenceWarning: Objective did not converge. You might want to increase the number of iterations. Fitting data with very small alpha may cause precision problems.\n",
      "  ConvergenceWarning)\n"
     ]
    },
    {
     "name": "stdout",
     "output_type": "stream",
     "text": [
      "66047530.57731842\n"
     ]
    }
   ],
   "source": [
    "RF_rg = Ridge(alpha=0.01)\n",
    "RF_rg.fit(X_train, y_train)\n",
    "\n",
    "pred1 = RF_rg.predict(X_test)\n",
    "print(np.sqrt(mean_squared_error(y_test, pred1)))"
   ]
  },
  {
   "cell_type": "code",
   "execution_count": null,
   "metadata": {},
   "outputs": [],
   "source": [
    "name = np.array(pd.concat([AM_train1[conti_featrues], pd.get_dummies(AM_train1[cate_features])], axis= 1).columns.tolist())\n",
    "values = np.abs(np.array(RF_rg.coef_.tolist()))\n",
    "\n",
    "for i,j in zip(values[np.argsort(values)], name[np.argsort(values)]):\n",
    "    print(j, \" = \", i)"
   ]
  },
  {
   "cell_type": "code",
   "execution_count": 211,
   "metadata": {
    "scrolled": true
   },
   "outputs": [
    {
     "data": {
      "application/vnd.jupyter.widget-view+json": {
       "model_id": "3c81acf575304d038b925eaa95eb9028",
       "version_major": 2,
       "version_minor": 0
      },
      "text/plain": [
       "HBox(children=(IntProgress(value=0, max=1000), HTML(value='')))"
      ]
     },
     "metadata": {},
     "output_type": "display_data"
    },
    {
     "name": "stdout",
     "output_type": "stream",
     "text": [
      "\n"
     ]
    }
   ],
   "source": [
    "cross_valid_rmse = [[], [], []]\n",
    "for i in tqdm_notebook(np.linspace(0., 20, 1000)):\n",
    "    lasso_regressor = Lasso(alpha = i, warm_start=False)\n",
    "    ridge_regressor = Ridge(alpha = i)\n",
    "    lasso_scores = cross_val_score(lasso_regressor, X, y, cv=10, scoring='neg_mean_squared_error')\n",
    "    ridge_scores= cross_val_score(ridge_regressor, X, y, cv=10, scoring='neg_mean_squared_error')\n",
    "    cross_valid_rmse[0].append(i)\n",
    "    cross_valid_rmse[1].append(np.sqrt(np.abs(lasso_scores)).mean())\n",
    "    cross_valid_rmse[2].append(np.sqrt(np.abs(ridge_scores)).mean())"
   ]
  },
  {
   "cell_type": "code",
   "execution_count": 216,
   "metadata": {},
   "outputs": [
    {
     "data": {
      "image/png": "[encoded data removed]",
      "text/plain": [
       "<Figure size 432x288 with 1 Axes>"
      ]
     },
     "metadata": {
      "needs_background": "light"
     },
     "output_type": "display_data"
    }
   ],
   "source": [
    "#plt.scatter(cross_valid_rmse[0], cross_valid_rmse[1])\n",
    "plt.scatter(cross_valid_rmse[0], cross_valid_rmse[1])\n",
    "plt.show()"
   ]
  },
  {
   "cell_type": "code",
   "execution_count": 213,
   "metadata": {},
   "outputs": [
    {
     "data": {
      "image/png": "[encoded data removed]",
      "text/plain": [
       "<Figure size 432x288 with 1 Axes>"
      ]
     },
     "metadata": {
      "needs_background": "light"
     },
     "output_type": "display_data"
    }
   ],
   "source": [
    "#plt.scatter(cross_valid_rmse[0], cross_valid_rmse[1])\n",
    "plt.scatter(cross_valid_rmse[0], cross_valid_rmse[2])\n",
    "plt.show()"
   ]
  },
  {
   "cell_type": "code",
   "execution_count": 225,
   "metadata": {},
   "outputs": [
    {
     "name": "stdout",
     "output_type": "stream",
     "text": [
      "Min MSE of Lasso is  20237893.061924644\n",
      "Min MSE of Ridge is  20134871.261138983\n"
     ]
    }
   ],
   "source": [
    "print(\"Min MSE of Lasso is \", np.array(cross_valid_rmse[1]).min())\n",
    "print(\"Min MSE of Ridge is \", np.array(cross_valid_rmse[2]).min())"
   ]
  },
  {
   "cell_type": "code",
   "execution_count": 226,
   "metadata": {},
   "outputs": [
    {
     "data": {
      "application/vnd.jupyter.widget-view+json": {
       "model_id": "03ef488f51bb45e8963092fbe4f026ae",
       "version_major": 2,
       "version_minor": 0
      },
      "text/plain": [
       "HBox(children=(IntProgress(value=0, max=1000), HTML(value='')))"
      ]
     },
     "metadata": {},
     "output_type": "display_data"
    },
    {
     "name": "stdout",
     "output_type": "stream",
     "text": [
      "\n"
     ]
    }
   ],
   "source": [
    "cross_valid_rmse = [[], [], []]\n",
    "for i in tqdm_notebook(np.linspace(0., 20, 1000)):\n",
    "    lasso_regressor = Lasso(alpha = i, warm_start=False)\n",
    "    ridge_regressor = Ridge(alpha = i)\n",
    "    lasso_scores = cross_val_score(lasso_regressor, X1, y1, cv=10, scoring='neg_mean_squared_error')\n",
    "    ridge_scores= cross_val_score(ridge_regressor, X1, y1, cv=10, scoring='neg_mean_squared_error')\n",
    "    cross_valid_rmse[0].append(i)\n",
    "    cross_valid_rmse[1].append(np.sqrt(np.abs(lasso_scores)).mean())\n",
    "    cross_valid_rmse[2].append(np.sqrt(np.abs(ridge_scores)).mean())"
   ]
  },
  {
   "cell_type": "code",
   "execution_count": 227,
   "metadata": {},
   "outputs": [
    {
     "data": {
      "image/png": "[encoded data removed]",
      "text/plain": [
       "<Figure size 432x288 with 1 Axes>"
      ]
     },
     "metadata": {
      "needs_background": "light"
     },
     "output_type": "display_data"
    }
   ],
   "source": [
    "#plt.scatter(cross_valid_rmse[0], cross_valid_rmse[1])\n",
    "plt.scatter(cross_valid_rmse[0], cross_valid_rmse[1])\n",
    "plt.show()"
   ]
  },
  {
   "cell_type": "code",
   "execution_count": 228,
   "metadata": {},
   "outputs": [
    {
     "data": {
      "image/png": "[encoded data removed]",
      "text/plain": [
       "<Figure size 432x288 with 1 Axes>"
      ]
     },
     "metadata": {
      "needs_background": "light"
     },
     "output_type": "display_data"
    }
   ],
   "source": [
    "#plt.scatter(cross_valid_rmse[0], cross_valid_rmse[1])\n",
    "plt.scatter(cross_valid_rmse[0], cross_valid_rmse[2])\n",
    "plt.show()"
   ]
  },
  {
   "cell_type": "code",
   "execution_count": 229,
   "metadata": {},
   "outputs": [
    {
     "name": "stdout",
     "output_type": "stream",
     "text": [
      "Min MSE of Lasso is  61601618.01628931\n",
      "Min MSE of Ridge is  61335786.96663551\n"
     ]
    }
   ],
   "source": [
    "print(\"Min MSE of Lasso is \", np.array(cross_valid_rmse[1]).min())\n",
    "print(\"Min MSE of Ridge is \", np.array(cross_valid_rmse[2]).min())"
   ]
  },
  {
   "cell_type": "code",
   "execution_count": 230,
   "metadata": {},
   "outputs": [],
   "source": [
    "# loo = LeaveOneOut()\n",
    "  \n",
    "# lasso_regressor = Lasso(alpha = 0.01, warm_start=False)\n",
    "# ridge_regressor = Ridge(alpha = 0.01)\n",
    "# lasso_scores = cross_val_score(lasso_regressor, X1, y1, cv=loo, scoring='neg_mean_squared_error')\n",
    "# ridge_scores= cross_val_score(ridge_regressor, X1, y1, cv=loo, scoring='neg_mean_squared_error')\n",
    "\n",
    "# np.mean(np.sqrt(abs(lasso_scores))),np.mean(np.sqrt(abs(ridge_scores)))"
   ]
  },
  {
   "cell_type": "code",
   "execution_count": null,
   "metadata": {},
   "outputs": [],
   "source": [
    "# nac = AM_train.groupby('addr_si')['Hammer_price', 'Claim_price'].median()\n",
    "\n",
    "# nac['per'] = nac.Claim_price / nac.Hammer_price\n",
    "# nac\n",
    "\n",
    "# 271953000*0.551934\n",
    "\n",
    "# part = AM_train[AM_train['addr_si'] == '중구'][['Claim_price','Total_building_auction_area','Total_appraisal_price', 'Hammer_price']]\n",
    "# part['per'] = part.Hammer_price / part.Claim_price\n",
    "# part['Diff'] = part.Total_appraisal_price - part.Claim_price\n",
    "# 101858574\n",
    "# 22100000\n",
    "\n",
    "# part = AM_test[AM_test['addr_si'] == '중구'][['Claim_price','Total_building_auction_area','Total_appraisal_price', 'Hammer_price']]\n",
    "# part['Diff'] = part.Total_appraisal_price - part.Claim_price\n",
    "# part"
   ]
  },
  {
   "cell_type": "markdown",
   "metadata": {},
   "source": [
    "# PCA REGRESSION"
   ]
  },
  {
   "cell_type": "code",
   "execution_count": 815,
   "metadata": {},
   "outputs": [
    {
     "name": "stdout",
     "output_type": "stream",
     "text": [
      "['임의' '강제']\n",
      "[0 1]\n",
      "--------------------------------------------------\n",
      "['부산' '서울']\n",
      "[0 1]\n",
      "--------------------------------------------------\n",
      "['주상복합' '아파트']\n",
      "[0 1]\n",
      "--------------------------------------------------\n",
      "['N' 'Y']\n",
      "[0 1]\n",
      "--------------------------------------------------\n",
      "[3 1]\n",
      "[1 0]\n",
      "[2 0]\n",
      "[1 0]\n"
     ]
    }
   ],
   "source": [
    "AM_train = pd.read_csv(\"Auction_master_train.csv\")\n",
    "AM_test = pd.read_csv(\"Auction_master_test.csv\")\n",
    "AM_test.drop(index=[397], axis = 0, inplace=True)\n",
    "AM_train = pd.concat([AM_train, AM_test], axis = 0)\n",
    "AM_train.shape\n",
    "\n",
    "#del AM_train[\"point.x\"]\n",
    "#del AM_train[\"point.y\"]\n",
    "del AM_train['Appraisal_company']\n",
    "del AM_train[\"Final_result\"]\n",
    "\n",
    "del AM_train[\"addr_si\"]\n",
    "del AM_train[\"addr_dong\"]\n",
    "del AM_train[\"addr_li\"]\n",
    "del AM_train[\"addr_san\"]\n",
    "del AM_train[\"addr_bunji1\"]\n",
    "del AM_train[\"addr_bunji2\"]\n",
    "del AM_train[\"addr_etc\"]\n",
    "del AM_train[\"Specific\"]\n",
    "del AM_train[\"road_name\"]\n",
    "del AM_train[\"road_bunji1\"]\n",
    "del AM_train[\"road_bunji2\"]\n",
    "del AM_train[\"Close_result\"]\n",
    "del AM_train[\"Creditor\"]\n",
    "###############################################################################\n",
    "\n",
    "#del AM_train['Total_land_gross_area']\n",
    "\n",
    "\n",
    "\n",
    "\n",
    "\n",
    "\n",
    "import datetime\n",
    "\n",
    "def change_datetime(x):\n",
    "    today = datetime.date.today()\n",
    "    someday = datetime.date(int(x[:4]), int(x[5:7]), int(x[8:10]))\n",
    "    diff = today - someday\n",
    "    return diff.days\n",
    "\n",
    "# del AM_train[\"Appraisal_date\"]\n",
    "# del AM_train[\"First_auction_date\"]\n",
    "# del AM_train[\"Preserve_regist_date\"]\n",
    "# del AM_train[\"Final_auction_date\"]\n",
    "# del AM_train[\"Close_date\"]\n",
    "AM_train[\"Appraisal_date\"] = AM_train[\"Appraisal_date\"].apply(lambda x : x[:10])\n",
    "AM_train[\"First_auction_date\"] = AM_train[\"First_auction_date\"].apply(lambda x : x[:10])\n",
    "AM_train[\"Final_auction_date\"] = AM_train[\"Final_auction_date\"].apply(lambda x : x[:10])\n",
    "AM_train[\"Preserve_regist_date\"] = AM_train[\"Preserve_regist_date\"].apply(lambda x : x[:10])\n",
    "AM_train[\"Close_date\"] = AM_train[\"Close_date\"].apply(lambda x : x[:10])\n",
    "AM_train[\"Appraisal_date\"] = AM_train[\"Appraisal_date\"].apply(change_datetime)\n",
    "AM_train[\"First_auction_date\"] = AM_train[\"First_auction_date\"].apply(change_datetime)\n",
    "AM_train[\"Final_auction_date\"] = AM_train[\"Final_auction_date\"].apply(change_datetime)\n",
    "AM_train[\"Preserve_regist_date\"] = AM_train[\"Preserve_regist_date\"].apply(change_datetime)\n",
    "AM_train[\"Close_date\"] = AM_train[\"Close_date\"].apply(change_datetime)\n",
    "\n",
    "AM_train[\"Diff_price\"] = AM_train['Total_appraisal_price'] - AM_train['Minimum_sales_price']\n",
    "AM_train[\"Diff_date\"] = AM_train['First_auction_date'] - AM_train['Final_auction_date']\n",
    "\n",
    "print(AM_train.Auction_class.unique())\n",
    "AM_train.Auction_class.replace({'임의':0, '강제':1},inplace=True)\n",
    "print(AM_train.Auction_class.unique())\n",
    "print(\"-\"*50)\n",
    "print(AM_train.addr_do.unique())\n",
    "AM_train.addr_do.replace({'부산':0, '서울':1},inplace=True)\n",
    "print(AM_train.addr_do.unique())\n",
    "print(\"-\"*50)\n",
    "print(AM_train.Apartment_usage.unique())\n",
    "AM_train.Apartment_usage.replace({'주상복합':0, '아파트':1},inplace=True)\n",
    "print(AM_train.Apartment_usage.unique())\n",
    "print(\"-\"*50)\n",
    "print(AM_train.Share_auction_YorN.unique())\n",
    "AM_train.Share_auction_YorN.replace({'N':0, 'Y':1},inplace=True)\n",
    "print(AM_train.Share_auction_YorN.unique())\n",
    "print(\"-\"*50)\n",
    "def change_spec(x):\n",
    "    if isinstance(x, str):\n",
    "        return int(1)\n",
    "    else:\n",
    "        return int(0)\n",
    "# AM_train.Creditor = AM_train.Creditor.apply(lambda x : x if x == 'Private' else 'Company')\n",
    "# print(AM_train.Creditor.unique())\n",
    "# AM_train.Creditor.replace({'Private':0, 'Company':1},inplace=True)\n",
    "# print(AM_train.Creditor.unique())\n",
    "#AM_train[\"Specific\"] = AM_train.Specific.apply(change_spec)\n",
    "#print(AM_train.Specific.unique())\n",
    "\n",
    "del AM_train[\"Preserve_regist_date\"]\n",
    "#del AM_train[\"Final_auction_date\"]\n",
    "del AM_train[\"First_auction_date\"]\n",
    "del AM_train[\"Close_date\"]\n",
    "#del AM_train[\"Appraisal_date\"]\n",
    "\n",
    "from sklearn.cluster import KMeans\n",
    "point = AM_train[[\"point.x\", \"point.y\"]]\n",
    "X = point.values\n",
    "kmeans = KMeans(n_clusters=4, random_state=0).fit(X)\n",
    "kmeans.labels_\n",
    "AM_train['4class'] = kmeans.labels_\n",
    "del AM_train[\"point.x\"]\n",
    "del AM_train[\"point.y\"]\n",
    "\n",
    "AM_train1 = AM_train[AM_train.addr_do == 0]\n",
    "AM_train2 = AM_train[AM_train.addr_do == 1]\n",
    "#del AM_train1['addr_do']\n",
    "#del AM_train2['addr_do']\n",
    "AM_train2.drop(index=[1521], axis = 0, inplace=True) #제일 심한 이상치\n",
    "AM_train2.drop(index=[1515], axis = 0, inplace=True) #2번 째 심한 이상치\n",
    "\n",
    "print(AM_train1['4class'].unique())\n",
    "AM_train1.replace({1 : 0, 3 :1}, inplace=True)\n",
    "print(AM_train1['4class'].unique())\n",
    "\n",
    "print(AM_train2['4class'].unique())\n",
    "AM_train2.replace({0 : 0, 2 :1}, inplace=True)\n",
    "print(AM_train2['4class'].unique())\n",
    "\n",
    "AM_train1 = AM_train[AM_train.addr_do == 0]\n",
    "AM_train2 = AM_train[AM_train.addr_do == 1]\n",
    "#del AM_train1['addr_do']\n",
    "#del AM_train2['addr_do']\n",
    "AM_train2.drop(index=[1521], axis = 0, inplace=True) #제일 심한 이상치\n",
    "AM_train2.drop(index=[1515], axis = 0, inplace=True) #2번 째 심한 이상치\n",
    "\n",
    "cate_features = AM_train.dtypes[AM_train.dtypes == \"object\"].index.format()\n",
    "conti_featrues = AM_train.dtypes[AM_train.dtypes != \"object\"].index.format()\n",
    "conti_featrues, cate_features\n",
    "\n",
    "conti_featrues.remove(\"Hammer_price\")\n",
    "conti_featrues.remove(\"Auction_key\")\n",
    "conti_featrues.remove(\"addr_do\")\n",
    "\n",
    "from sklearn.preprocessing import MinMaxScaler\n",
    "scale = MinMaxScaler()\n",
    "AM_train1[conti_featrues] = scale.fit_transform(AM_train1[conti_featrues])\n",
    "AM_train2[conti_featrues] = scale.fit_transform(AM_train2[conti_featrues])"
   ]
  },
  {
   "cell_type": "code",
   "execution_count": 44,
   "metadata": {},
   "outputs": [
    {
     "data": {
      "text/plain": [
       "Index(['Auction_key', 'Auction_class', 'Bid_class', 'Claim_price',\n",
       "       'Appraisal_date', 'Auction_count', 'Auction_miscarriage_count',\n",
       "       'Total_land_gross_area', 'Total_land_real_area',\n",
       "       'Total_land_auction_area', 'Total_building_area',\n",
       "       'Total_building_auction_area', 'Total_appraisal_price',\n",
       "       'Minimum_sales_price', 'Final_auction_date', 'addr_do',\n",
       "       'Apartment_usage', 'Total_floor', 'Current_floor', 'Share_auction_YorN',\n",
       "       'Hammer_price', 'Diff_price', 'Diff_date', '4class'],\n",
       "      dtype='object')"
      ]
     },
     "execution_count": 44,
     "metadata": {},
     "output_type": "execute_result"
    }
   ],
   "source": [
    "AM_train.columns"
   ]
  },
  {
   "cell_type": "code",
   "execution_count": 817,
   "metadata": {},
   "outputs": [
    {
     "name": "stdout",
     "output_type": "stream",
     "text": [
      "9\n",
      "--------------------------------------------------\n",
      "9\n",
      "--------------------------------------------------\n",
      "(2759, 9)\n"
     ]
    },
    {
     "data": {
      "text/plain": [
       "((987, 24), (1772, 24))"
      ]
     },
     "execution_count": 817,
     "metadata": {},
     "output_type": "execute_result"
    }
   ],
   "source": [
    "AM_train = pd.concat([AM_train1[conti_featrues], AM_train2[conti_featrues]], axis = 0)\n",
    "\n",
    "from sklearn.decomposition import PCA\n",
    "pca_list = AM_train[conti_featrues].columns.tolist()\n",
    "\n",
    "pca_list.remove('Auction_class')\n",
    "pca_list.remove('Apartment_usage')\n",
    "pca_list.remove('Share_auction_YorN')\n",
    "pca_list.remove('4class')\n",
    "\n",
    "subset = AM_train[pca_list]\n",
    "\n",
    "pca = PCA()\n",
    "pca.fit(subset)\n",
    "cumsum = np.cumsum(pca.explained_variance_ratio_)\n",
    "d = np.argmax(cumsum > 0.96) + 1\n",
    "print(d)\n",
    "print(\"-\"*50)\n",
    "\n",
    "pca = PCA(n_components=0.96)\n",
    "X_reduced = pca.fit_transform(subset)\n",
    "print(pca.n_components_)\n",
    "print(\"-\"*50)\n",
    "pca = PCA(n_components=9)\n",
    "X_reduced = pca.fit_transform(AM_train[conti_featrues])\n",
    "print(X_reduced.shape)\n",
    "\n",
    "AM_train1.shape, AM_train2.shape"
   ]
  },
  {
   "cell_type": "code",
   "execution_count": 818,
   "metadata": {},
   "outputs": [
    {
     "data": {
      "text/plain": [
       "((987, 9), (1772, 9))"
      ]
     },
     "execution_count": 818,
     "metadata": {},
     "output_type": "execute_result"
    }
   ],
   "source": [
    "X_reduced[:987,:].shape, X_reduced[987:,:].shape"
   ]
  },
  {
   "cell_type": "code",
   "execution_count": 819,
   "metadata": {},
   "outputs": [
    {
     "name": "stdout",
     "output_type": "stream",
     "text": [
      "(987, 23) (987,)\n",
      "(1772, 23) (1772,)\n"
     ]
    }
   ],
   "source": [
    "X = pd.concat([AM_train1[conti_featrues], pd.get_dummies(AM_train1[cate_features])], axis= 1)\n",
    "y = AM_train1.Hammer_price.values\n",
    "print(X.shape, y.shape)\n",
    "\n",
    "X1 = pd.concat([AM_train2[conti_featrues], pd.get_dummies(AM_train2[cate_features])], axis= 1)\n",
    "y1 = AM_train2.Hammer_price.values\n",
    "print(X1.shape, y1.shape)"
   ]
  },
  {
   "cell_type": "code",
   "execution_count": 820,
   "metadata": {},
   "outputs": [
    {
     "name": "stdout",
     "output_type": "stream",
     "text": [
      "(987, 32) (1772, 32)\n",
      "(987,) (1772,)\n"
     ]
    }
   ],
   "source": [
    "X = np.concatenate([X.values, X_reduced[:987,:]], axis = 1)\n",
    "X1 = np.concatenate([X1.values, X_reduced[987:,:]], axis = 1)\n",
    "print(X.shape, X1.shape)\n",
    "print(y.shape,y1.shape)"
   ]
  },
  {
   "cell_type": "code",
   "execution_count": 842,
   "metadata": {},
   "outputs": [
    {
     "data": {
      "text/plain": [
       "((532, 32),)"
      ]
     },
     "execution_count": 842,
     "metadata": {},
     "output_type": "execute_result"
    }
   ],
   "source": [
    "X1[np.where(y1 == 0)].shape, "
   ]
  },
  {
   "cell_type": "code",
   "execution_count": 825,
   "metadata": {},
   "outputs": [
    {
     "name": "stdout",
     "output_type": "stream",
     "text": [
      "(691, 32) (691,) (296, 32)\n"
     ]
    }
   ],
   "source": [
    "X_train, y_train = X[np.where(y != 0)], y[np.where(y != 0)]\n",
    "X_test, _ = X[np.where(y == 0)], y[np.where(y == 0)]\n",
    "print(X_train.shape, y_train.shape, X_test.shape)"
   ]
  },
  {
   "cell_type": "code",
   "execution_count": 826,
   "metadata": {},
   "outputs": [],
   "source": [
    "rf_rg = Ridge(alpha=0.01)\n",
    "rf_rg.fit(X_train, y_train)\n",
    "y_pred = rf_rg.predict(X_test).tolist()\n",
    "submit_id = AM_train1.loc[AM_train1.Hammer_price == 0].Auction_key.tolist()\n",
    "submit = pd.DataFrame({'Auction_key' : submit_id, 'Hammer_price' : y_pred})#.to_csv(\"C:\\\\Users\\\\i2013\\\\OneDrive\\\\바탕 화면\\\\1119_submit2.csv\", index = False)"
   ]
  },
  {
   "cell_type": "code",
   "execution_count": 843,
   "metadata": {},
   "outputs": [
    {
     "data": {
      "text/plain": [
       "((1240, 32), (1240,), (532, 32))"
      ]
     },
     "execution_count": 843,
     "metadata": {},
     "output_type": "execute_result"
    }
   ],
   "source": [
    "X_train, y_train = X1[np.where(y1 != 0)], y1[np.where(y1 != 0)]\n",
    "X_test, _ = X1[np.where(y1 == 0)], y1[np.where(y == 0)]\n",
    "X_train.shape, y_train.shape, X_test.shape"
   ]
  },
  {
   "cell_type": "code",
   "execution_count": 844,
   "metadata": {},
   "outputs": [],
   "source": [
    "rf_rg = Ridge(alpha = 0.09)\n",
    "rf_rg.fit(X_train, y_train)\n",
    "y_pred = rf_rg.predict(X_test).tolist()\n",
    "submit_id = AM_train2.loc[AM_train2.Hammer_price == 0].Auction_key.tolist()\n",
    "submit2 = pd.DataFrame({'Auction_key' : submit_id, 'Hammer_price' : y_pred})#.to_csv(\"C:\\\\Users\\\\i2013\\\\OneDrive\\\\바탕 화면\\\\1118_submit6.csv\", index = False)"
   ]
  },
  {
   "cell_type": "code",
   "execution_count": 845,
   "metadata": {},
   "outputs": [],
   "source": [
    "pd.concat([submit, submit2], axis = 0).to_csv(\"C:\\\\Users\\\\i2013\\\\OneDrive\\\\바탕 화면\\\\1121_01.csv\", index = False)"
   ]
  },
  {
   "cell_type": "code",
   "execution_count": null,
   "metadata": {},
   "outputs": [],
   "source": []
  },
  {
   "cell_type": "code",
   "execution_count": 812,
   "metadata": {},
   "outputs": [
    {
     "data": {
      "text/plain": [
       "((888, 32), (888,), (99, 32), (99,))"
      ]
     },
     "execution_count": 812,
     "metadata": {},
     "output_type": "execute_result"
    }
   ],
   "source": [
    "from sklearn.model_selection import train_test_split\n",
    "X_train, X_test, y_train, y_test = train_test_split(X, y, test_size=0.1, random_state = 42)\n",
    "X_train.shape, y_train.shape, X_test.shape, y_test.shape"
   ]
  },
  {
   "cell_type": "code",
   "execution_count": 784,
   "metadata": {},
   "outputs": [
    {
     "name": "stdout",
     "output_type": "stream",
     "text": [
      "MSE of Lasso is  21751062.688399624\n",
      "MSE of Lasso is  20163690.11044276\n"
     ]
    }
   ],
   "source": [
    "lasso_regressor = Ridge(alpha = 0.48)\n",
    "ridge_regressor = Ridge(alpha = 0.06)\n",
    "lasso_scores = cross_val_score(lasso_regressor, X, y, cv=10, scoring='neg_mean_squared_error')\n",
    "ridge_scores= cross_val_score(ridge_regressor, X, y, cv=10, scoring='neg_mean_squared_error')\n",
    "print(\"MSE of Lasso is \", np.array(np.sqrt(np.abs(lasso_scores)).mean()))\n",
    "print(\"MSE of Lasso is \", np.array(np.sqrt(np.abs(ridge_scores)).mean()))"
   ]
  },
  {
   "cell_type": "code",
   "execution_count": 786,
   "metadata": {},
   "outputs": [
    {
     "name": "stdout",
     "output_type": "stream",
     "text": [
      "MSE of Lasso is  62045543.81376924\n",
      "MSE of Lasso is  61000120.270907976\n"
     ]
    }
   ],
   "source": [
    "lasso_regressor = Ridge(alpha = 0.48)\n",
    "ridge_regressor = Ridge(alpha = 0.06)\n",
    "lasso_scores = cross_val_score(lasso_regressor, X1, y1, cv=10, scoring='neg_mean_squared_error')\n",
    "ridge_scores= cross_val_score(ridge_regressor, X1, y1, cv=10, scoring='neg_mean_squared_error')\n",
    "print(\"MSE of Lasso is \", np.array(np.sqrt(np.abs(lasso_scores)).mean()))\n",
    "print(\"MSE of Lasso is \", np.array(np.sqrt(np.abs(ridge_scores)).mean()))"
   ]
  },
  {
   "cell_type": "code",
   "execution_count": null,
   "metadata": {},
   "outputs": [],
   "source": []
  },
  {
   "cell_type": "code",
   "execution_count": null,
   "metadata": {},
   "outputs": [],
   "source": []
  },
  {
   "cell_type": "code",
   "execution_count": null,
   "metadata": {},
   "outputs": [],
   "source": []
  },
  {
   "cell_type": "code",
   "execution_count": null,
   "metadata": {},
   "outputs": [],
   "source": []
  },
  {
   "cell_type": "code",
   "execution_count": 134,
   "metadata": {},
   "outputs": [
    {
     "name": "stdout",
     "output_type": "stream",
     "text": [
      "['임의' '강제']\n",
      "[0 1]\n",
      "--------------------------------------------------\n",
      "['부산' '서울']\n",
      "[0 1]\n",
      "--------------------------------------------------\n",
      "['주상복합' '아파트']\n",
      "[0 1]\n",
      "--------------------------------------------------\n",
      "['N' 'Y']\n",
      "[0 1]\n",
      "--------------------------------------------------\n"
     ]
    }
   ],
   "source": [
    "AM_train = pd.read_csv(\"Auction_master_train.csv\")\n",
    "AM_test = pd.read_csv(\"Auction_master_test.csv\")\n",
    "AM_test.drop(index=[397], axis = 0, inplace=True)\n",
    "#AM_train = pd.concat([AM_train, AM_test], axis = 0)\n",
    "AM_train.shape\n",
    "\n",
    "del AM_train[\"point.x\"]\n",
    "del AM_train[\"point.y\"]\n",
    "del AM_train['Appraisal_company']\n",
    "del AM_train[\"Final_result\"]\n",
    "del AM_train[\"addr_si\"]\n",
    "del AM_train[\"addr_dong\"]\n",
    "del AM_train[\"addr_li\"]\n",
    "del AM_train[\"addr_san\"]\n",
    "del AM_train[\"addr_bunji1\"]\n",
    "del AM_train[\"addr_bunji2\"]\n",
    "del AM_train[\"addr_etc\"]\n",
    "del AM_train[\"Specific\"]\n",
    "del AM_train[\"road_name\"]\n",
    "del AM_train[\"road_bunji1\"]\n",
    "del AM_train[\"road_bunji2\"]\n",
    "del AM_train[\"Close_result\"]\n",
    "del AM_train[\"Creditor\"]\n",
    "###############################################################################\n",
    "\n",
    "#del AM_train['Total_land_gross_area']\n",
    "\n",
    "\n",
    "\n",
    "\n",
    "\n",
    "\n",
    "import datetime\n",
    "\n",
    "def change_datetime(x):\n",
    "    today = datetime.date.today()\n",
    "    someday = datetime.date(int(x[:4]), int(x[5:7]), int(x[8:10]))\n",
    "    diff = today - someday\n",
    "    return diff.days\n",
    "\n",
    "# del AM_train[\"Appraisal_date\"]\n",
    "# del AM_train[\"First_auction_date\"]\n",
    "# del AM_train[\"Preserve_regist_date\"]\n",
    "# del AM_train[\"Final_auction_date\"]\n",
    "# del AM_train[\"Close_date\"]\n",
    "AM_train[\"Appraisal_date\"] = AM_train[\"Appraisal_date\"].apply(lambda x : x[:10])\n",
    "AM_train[\"First_auction_date\"] = AM_train[\"First_auction_date\"].apply(lambda x : x[:10])\n",
    "AM_train[\"Final_auction_date\"] = AM_train[\"Final_auction_date\"].apply(lambda x : x[:10])\n",
    "AM_train[\"Preserve_regist_date\"] = AM_train[\"Preserve_regist_date\"].apply(lambda x : x[:10])\n",
    "AM_train[\"Close_date\"] = AM_train[\"Close_date\"].apply(lambda x : x[:10])\n",
    "AM_train[\"Appraisal_date\"] = AM_train[\"Appraisal_date\"].apply(change_datetime)\n",
    "AM_train[\"First_auction_date\"] = AM_train[\"First_auction_date\"].apply(change_datetime)\n",
    "AM_train[\"Final_auction_date\"] = AM_train[\"Final_auction_date\"].apply(change_datetime)\n",
    "AM_train[\"Preserve_regist_date\"] = AM_train[\"Preserve_regist_date\"].apply(change_datetime)\n",
    "AM_train[\"Close_date\"] = AM_train[\"Close_date\"].apply(change_datetime)\n",
    "\n",
    "AM_train[\"Diff_price\"] = AM_train['Total_appraisal_price'] - AM_train['Minimum_sales_price']\n",
    "AM_train[\"Diff_date\"] = AM_train['First_auction_date'] - AM_train['Final_auction_date']\n",
    "\n",
    "print(AM_train.Auction_class.unique())\n",
    "AM_train.Auction_class.replace({'임의':0, '강제':1},inplace=True)\n",
    "print(AM_train.Auction_class.unique())\n",
    "print(\"-\"*50)\n",
    "print(AM_train.addr_do.unique())\n",
    "AM_train.addr_do.replace({'부산':0, '서울':1},inplace=True)\n",
    "print(AM_train.addr_do.unique())\n",
    "print(\"-\"*50)\n",
    "print(AM_train.Apartment_usage.unique())\n",
    "AM_train.Apartment_usage.replace({'주상복합':0, '아파트':1},inplace=True)\n",
    "print(AM_train.Apartment_usage.unique())\n",
    "print(\"-\"*50)\n",
    "print(AM_train.Share_auction_YorN.unique())\n",
    "AM_train.Share_auction_YorN.replace({'N':0, 'Y':1},inplace=True)\n",
    "print(AM_train.Share_auction_YorN.unique())\n",
    "print(\"-\"*50)\n",
    "def change_spec(x):\n",
    "    if isinstance(x, str):\n",
    "        return int(1)\n",
    "    else:\n",
    "        return int(0)\n",
    "# AM_train.Creditor = AM_train.Creditor.apply(lambda x : x if x == 'Private' else 'Company')\n",
    "# print(AM_train.Creditor.unique())\n",
    "# AM_train.Creditor.replace({'Private':0, 'Company':1},inplace=True)\n",
    "# print(AM_train.Creditor.unique())\n",
    "#AM_train[\"Specific\"] = AM_train.Specific.apply(change_spec)\n",
    "#print(AM_train.Specific.unique())\n",
    "\n",
    "del AM_train[\"Preserve_regist_date\"]\n",
    "#del AM_train[\"Final_auction_date\"]\n",
    "del AM_train[\"First_auction_date\"]\n",
    "del AM_train[\"Close_date\"]\n",
    "#del AM_train[\"Appraisal_date\"]"
   ]
  },
  {
   "cell_type": "code",
   "execution_count": 135,
   "metadata": {},
   "outputs": [],
   "source": [
    "AM_train.drop(index=[1521], axis = 0, inplace=True) #제일 심한 이상치\n",
    "AM_train.drop(index=[1515], axis = 0, inplace=True) #2번 째 심한 이상치\n",
    "AM_train1 = AM_train.loc[AM_train.Total_appraisal_price == AM_train.Minimum_sales_price]\n",
    "AM_train2 = AM_train.loc[AM_train.Total_appraisal_price != AM_train.Minimum_sales_price]"
   ]
  },
  {
   "cell_type": "code",
   "execution_count": 136,
   "metadata": {},
   "outputs": [
    {
     "data": {
      "text/plain": [
       "((685, 23), (1246, 23))"
      ]
     },
     "execution_count": 136,
     "metadata": {},
     "output_type": "execute_result"
    }
   ],
   "source": [
    "AM_train1.shape, AM_train2.shape"
   ]
  },
  {
   "cell_type": "code",
   "execution_count": 137,
   "metadata": {},
   "outputs": [
    {
     "data": {
      "text/html": [
       "<div>\n",
       "<style scoped>\n",
       "    .dataframe tbody tr th:only-of-type {\n",
       "        vertical-align: middle;\n",
       "    }\n",
       "\n",
       "    .dataframe tbody tr th {\n",
       "        vertical-align: top;\n",
       "    }\n",
       "\n",
       "    .dataframe thead th {\n",
       "        text-align: right;\n",
       "    }\n",
       "</style>\n",
       "<table border=\"1\" class=\"dataframe\">\n",
       "  <thead>\n",
       "    <tr style=\"text-align: right;\">\n",
       "      <th></th>\n",
       "      <th>Auction_key</th>\n",
       "      <th>Auction_class</th>\n",
       "      <th>Bid_class</th>\n",
       "      <th>Claim_price</th>\n",
       "      <th>Appraisal_date</th>\n",
       "      <th>Auction_count</th>\n",
       "      <th>Auction_miscarriage_count</th>\n",
       "      <th>Total_land_gross_area</th>\n",
       "      <th>Total_land_real_area</th>\n",
       "      <th>Total_land_auction_area</th>\n",
       "      <th>...</th>\n",
       "      <th>Total_building_auction_area</th>\n",
       "      <th>Total_appraisal_price</th>\n",
       "      <th>Minimum_sales_price</th>\n",
       "      <th>Final_auction_date</th>\n",
       "      <th>addr_do</th>\n",
       "      <th>Apartment_usage</th>\n",
       "      <th>Total_floor</th>\n",
       "      <th>Current_floor</th>\n",
       "      <th>Share_auction_YorN</th>\n",
       "      <th>Hammer_price</th>\n",
       "    </tr>\n",
       "  </thead>\n",
       "  <tbody>\n",
       "    <tr>\n",
       "      <th>14</th>\n",
       "      <td>2046</td>\n",
       "      <td>0</td>\n",
       "      <td>일반</td>\n",
       "      <td>953680000</td>\n",
       "      <td>903</td>\n",
       "      <td>1</td>\n",
       "      <td>0</td>\n",
       "      <td>82385.1</td>\n",
       "      <td>80.62</td>\n",
       "      <td>80.62</td>\n",
       "      <td>...</td>\n",
       "      <td>182.76</td>\n",
       "      <td>669000000</td>\n",
       "      <td>669000000</td>\n",
       "      <td>761</td>\n",
       "      <td>0</td>\n",
       "      <td>1</td>\n",
       "      <td>28</td>\n",
       "      <td>26</td>\n",
       "      <td>0</td>\n",
       "      <td>670190000</td>\n",
       "    </tr>\n",
       "    <tr>\n",
       "      <th>20</th>\n",
       "      <td>2254</td>\n",
       "      <td>1</td>\n",
       "      <td>일반</td>\n",
       "      <td>160000000</td>\n",
       "      <td>994</td>\n",
       "      <td>1</td>\n",
       "      <td>0</td>\n",
       "      <td>2405.0</td>\n",
       "      <td>5.66</td>\n",
       "      <td>5.66</td>\n",
       "      <td>...</td>\n",
       "      <td>53.29</td>\n",
       "      <td>206000000</td>\n",
       "      <td>206000000</td>\n",
       "      <td>888</td>\n",
       "      <td>0</td>\n",
       "      <td>0</td>\n",
       "      <td>29</td>\n",
       "      <td>25</td>\n",
       "      <td>0</td>\n",
       "      <td>206119000</td>\n",
       "    </tr>\n",
       "    <tr>\n",
       "      <th>25</th>\n",
       "      <td>2074</td>\n",
       "      <td>0</td>\n",
       "      <td>일반</td>\n",
       "      <td>120000000</td>\n",
       "      <td>863</td>\n",
       "      <td>1</td>\n",
       "      <td>0</td>\n",
       "      <td>6904.9</td>\n",
       "      <td>18.41</td>\n",
       "      <td>18.41</td>\n",
       "      <td>...</td>\n",
       "      <td>124.26</td>\n",
       "      <td>354000000</td>\n",
       "      <td>354000000</td>\n",
       "      <td>756</td>\n",
       "      <td>0</td>\n",
       "      <td>0</td>\n",
       "      <td>35</td>\n",
       "      <td>22</td>\n",
       "      <td>0</td>\n",
       "      <td>371131000</td>\n",
       "    </tr>\n",
       "    <tr>\n",
       "      <th>30</th>\n",
       "      <td>2164</td>\n",
       "      <td>0</td>\n",
       "      <td>일반</td>\n",
       "      <td>90000000</td>\n",
       "      <td>770</td>\n",
       "      <td>1</td>\n",
       "      <td>0</td>\n",
       "      <td>22200.0</td>\n",
       "      <td>43.61</td>\n",
       "      <td>43.61</td>\n",
       "      <td>...</td>\n",
       "      <td>48.89</td>\n",
       "      <td>127000000</td>\n",
       "      <td>127000000</td>\n",
       "      <td>419</td>\n",
       "      <td>0</td>\n",
       "      <td>1</td>\n",
       "      <td>21</td>\n",
       "      <td>16</td>\n",
       "      <td>0</td>\n",
       "      <td>127170000</td>\n",
       "    </tr>\n",
       "    <tr>\n",
       "      <th>34</th>\n",
       "      <td>2576</td>\n",
       "      <td>0</td>\n",
       "      <td>일반</td>\n",
       "      <td>200000000</td>\n",
       "      <td>817</td>\n",
       "      <td>1</td>\n",
       "      <td>0</td>\n",
       "      <td>18183.5</td>\n",
       "      <td>40.46</td>\n",
       "      <td>40.46</td>\n",
       "      <td>...</td>\n",
       "      <td>84.98</td>\n",
       "      <td>374000000</td>\n",
       "      <td>374000000</td>\n",
       "      <td>666</td>\n",
       "      <td>0</td>\n",
       "      <td>1</td>\n",
       "      <td>29</td>\n",
       "      <td>28</td>\n",
       "      <td>0</td>\n",
       "      <td>421000000</td>\n",
       "    </tr>\n",
       "  </tbody>\n",
       "</table>\n",
       "<p>5 rows × 21 columns</p>\n",
       "</div>"
      ],
      "text/plain": [
       "    Auction_key  Auction_class Bid_class  Claim_price  Appraisal_date  \\\n",
       "14         2046              0        일반    953680000             903   \n",
       "20         2254              1        일반    160000000             994   \n",
       "25         2074              0        일반    120000000             863   \n",
       "30         2164              0        일반     90000000             770   \n",
       "34         2576              0        일반    200000000             817   \n",
       "\n",
       "    Auction_count  Auction_miscarriage_count  Total_land_gross_area  \\\n",
       "14              1                          0                82385.1   \n",
       "20              1                          0                 2405.0   \n",
       "25              1                          0                 6904.9   \n",
       "30              1                          0                22200.0   \n",
       "34              1                          0                18183.5   \n",
       "\n",
       "    Total_land_real_area  Total_land_auction_area      ...       \\\n",
       "14                 80.62                    80.62      ...        \n",
       "20                  5.66                     5.66      ...        \n",
       "25                 18.41                    18.41      ...        \n",
       "30                 43.61                    43.61      ...        \n",
       "34                 40.46                    40.46      ...        \n",
       "\n",
       "    Total_building_auction_area  Total_appraisal_price  Minimum_sales_price  \\\n",
       "14                       182.76              669000000            669000000   \n",
       "20                        53.29              206000000            206000000   \n",
       "25                       124.26              354000000            354000000   \n",
       "30                        48.89              127000000            127000000   \n",
       "34                        84.98              374000000            374000000   \n",
       "\n",
       "    Final_auction_date  addr_do  Apartment_usage  Total_floor  Current_floor  \\\n",
       "14                 761        0                1           28             26   \n",
       "20                 888        0                0           29             25   \n",
       "25                 756        0                0           35             22   \n",
       "30                 419        0                1           21             16   \n",
       "34                 666        0                1           29             28   \n",
       "\n",
       "    Share_auction_YorN  Hammer_price  \n",
       "14                   0     670190000  \n",
       "20                   0     206119000  \n",
       "25                   0     371131000  \n",
       "30                   0     127170000  \n",
       "34                   0     421000000  \n",
       "\n",
       "[5 rows x 21 columns]"
      ]
     },
     "execution_count": 137,
     "metadata": {},
     "output_type": "execute_result"
    }
   ],
   "source": [
    "del AM_train1[\"Diff_price\"]\n",
    "del AM_train1[\"Diff_date\"]\n",
    "AM_train1.head()"
   ]
  },
  {
   "cell_type": "code",
   "execution_count": 138,
   "metadata": {},
   "outputs": [
    {
     "data": {
      "text/plain": [
       "(['Auction_class',\n",
       "  'Claim_price',\n",
       "  'Appraisal_date',\n",
       "  'Auction_count',\n",
       "  'Auction_miscarriage_count',\n",
       "  'Total_land_gross_area',\n",
       "  'Total_land_real_area',\n",
       "  'Total_land_auction_area',\n",
       "  'Total_building_area',\n",
       "  'Total_building_auction_area',\n",
       "  'Total_appraisal_price',\n",
       "  'Minimum_sales_price',\n",
       "  'Final_auction_date',\n",
       "  'addr_do',\n",
       "  'Apartment_usage',\n",
       "  'Total_floor',\n",
       "  'Current_floor',\n",
       "  'Share_auction_YorN'],\n",
       " ['Bid_class'])"
      ]
     },
     "execution_count": 138,
     "metadata": {},
     "output_type": "execute_result"
    }
   ],
   "source": [
    "cate_features = AM_train1.dtypes[AM_train.dtypes == \"object\"].index.format()\n",
    "conti_featrues = AM_train1.dtypes[AM_train.dtypes != \"object\"].index.format()\n",
    "conti_featrues, cate_features\n",
    "conti_featrues.remove(\"Hammer_price\")\n",
    "conti_featrues.remove(\"Auction_key\")\n",
    "conti_featrues, cate_features"
   ]
  },
  {
   "cell_type": "code",
   "execution_count": 192,
   "metadata": {},
   "outputs": [
    {
     "data": {
      "text/plain": [
       "Index(['Auction_key', 'Auction_class', 'Bid_class', 'Claim_price',\n",
       "       'Appraisal_date', 'Auction_count', 'Auction_miscarriage_count',\n",
       "       'Total_land_gross_area', 'Total_land_real_area',\n",
       "       'Total_land_auction_area', 'Total_building_area',\n",
       "       'Total_building_auction_area', 'Total_appraisal_price',\n",
       "       'Minimum_sales_price', 'Final_auction_date', 'addr_do',\n",
       "       'Apartment_usage', 'Total_floor', 'Current_floor', 'Share_auction_YorN',\n",
       "       'Hammer_price', 'Diff_price', 'Diff_date'],\n",
       "      dtype='object')"
      ]
     },
     "execution_count": 192,
     "metadata": {},
     "output_type": "execute_result"
    }
   ],
   "source": [
    "AM_train.columns"
   ]
  },
  {
   "cell_type": "code",
   "execution_count": 139,
   "metadata": {},
   "outputs": [
    {
     "name": "stdout",
     "output_type": "stream",
     "text": [
      "(685, 18) (685, 3)\n"
     ]
    }
   ],
   "source": [
    "print(AM_train1[conti_featrues].shape, pd.get_dummies(AM_train1[cate_features]).shape)"
   ]
  },
  {
   "cell_type": "code",
   "execution_count": 140,
   "metadata": {},
   "outputs": [
    {
     "name": "stdout",
     "output_type": "stream",
     "text": [
      "(685, 21) (685,)\n"
     ]
    }
   ],
   "source": [
    "from sklearn.preprocessing import MinMaxScaler\n",
    "scale = MinMaxScaler()\n",
    "AM_train1[conti_featrues] = scale.fit_transform(AM_train1[conti_featrues])\n",
    "X = pd.concat([AM_train1[conti_featrues], pd.get_dummies(AM_train1[cate_features])], axis= 1)\n",
    "y = AM_train1.Hammer_price.values\n",
    "print(X.shape, y.shape)"
   ]
  },
  {
   "cell_type": "markdown",
   "metadata": {},
   "source": [
    "# DIFF 0인 놈들"
   ]
  },
  {
   "cell_type": "code",
   "execution_count": 190,
   "metadata": {},
   "outputs": [
    {
     "name": "stdout",
     "output_type": "stream",
     "text": [
      "MSE of Linear is  1042719231.7996817\n",
      "MSE of Lasso is    948117741.4316771\n",
      "MSE of Ridge is    297164802.230624\n",
      "MSE of Elastic is 1042719231.7996817\n"
     ]
    }
   ],
   "source": [
    "#rf_regressor = RandomForestRegressor(n_estimators=500, n_jobs=-1)\n",
    "lasso_regressor = Lasso(alpha = 0.01)\n",
    "ridge_regressor = Ridge(alpha = 0.01)\n",
    "linear_regressor = LinearRegression(n_jobs=-1)\n",
    "Elastic_regressor = ElasticNet(alpha=0.02, l1_ratio=0.02)\n",
    "#rf_scores = cross_val_score(rf_regressor, X, y, cv=10, scoring='neg_mean_squared_error')\n",
    "Elastic_scores = cross_val_score(linear_regressor, X, y, cv=10, scoring='neg_mean_squared_error')\n",
    "lasso_scores = cross_val_score(lasso_regressor, X, y, cv=10, scoring='neg_mean_squared_error')\n",
    "ridge_scores= cross_val_score(ridge_regressor, X, y, cv=10, scoring='neg_mean_squared_error')\n",
    "linear_scores = cross_val_score(linear_regressor, X, y, cv=10, scoring='neg_mean_squared_error')\n",
    "print(\"MSE of Linear is \", np.array(np.sqrt(np.abs(linear_scores)).mean()))\n",
    "print(\"MSE of Lasso is   \", np.array(np.sqrt(np.abs(lasso_scores)).mean()))\n",
    "print(\"MSE of Ridge is   \", np.array(np.sqrt(np.abs(ridge_scores)).mean()))\n",
    "print(\"MSE of Elastic is\", np.array(np.sqrt(np.abs(Elastic_scores)).mean()))\n",
    "#print(\"MSE of RF is \", np.array(np.sqrt(np.abs(rf_scores)).mean()))"
   ]
  },
  {
   "cell_type": "markdown",
   "metadata": {},
   "source": [
    "# DIFF 0아닌 놈들"
   ]
  },
  {
   "cell_type": "code",
   "execution_count": 191,
   "metadata": {},
   "outputs": [
    {
     "name": "stdout",
     "output_type": "stream",
     "text": [
      "MSE of Linear is  275519172.56668335\n",
      "MSE of Lasso is   275519859.9610578\n",
      "MSE of Ridge is  275168148.124601\n",
      "MSE of Elastic is 275519172.56668335\n"
     ]
    }
   ],
   "source": [
    "#rf_regressor = RandomForestRegressor(n_estimators=500, n_jobs=-1)\n",
    "lasso_regressor = Lasso(alpha = 0.01)\n",
    "ridge_regressor = Ridge(alpha = 0.01)\n",
    "linear_regressor = LinearRegression(n_jobs=-1)\n",
    "Elastic_regressor = ElasticNet(alpha=0.02, l1_ratio=0.02)\n",
    "#rf_scores = cross_val_score(rf_regressor, X, y, cv=10, scoring='neg_mean_squared_error')\n",
    "Elastic_scores = cross_val_score(linear_regressor, X2, y2, cv=10, scoring='neg_mean_squared_error')\n",
    "lasso_scores = cross_val_score(lasso_regressor, X2, y2, cv=10, scoring='neg_mean_squared_error')\n",
    "ridge_scores= cross_val_score(ridge_regressor, X2, y2, cv=10, scoring='neg_mean_squared_error')\n",
    "linear_scores = cross_val_score(linear_regressor, X2, y2, cv=10, scoring='neg_mean_squared_error')\n",
    "print(\"MSE of Linear is \", np.array(np.sqrt(np.abs(linear_scores)).mean()))\n",
    "print(\"MSE of Lasso is  \", np.array(np.sqrt(np.abs(lasso_scores)).mean()))\n",
    "print(\"MSE of Ridge is \", np.array(np.sqrt(np.abs(ridge_scores)).mean()))\n",
    "print(\"MSE of Elastic is\", np.array(np.sqrt(np.abs(Elastic_scores)).mean()))\n",
    "#print(\"MSE of RF is \", np.array(np.sqrt(np.abs(rf_scores)).mean()))"
   ]
  },
  {
   "cell_type": "code",
   "execution_count": 153,
   "metadata": {},
   "outputs": [
    {
     "data": {
      "text/plain": [
       "(['Auction_class',\n",
       "  'Claim_price',\n",
       "  'Appraisal_date',\n",
       "  'Auction_count',\n",
       "  'Auction_miscarriage_count',\n",
       "  'Total_land_gross_area',\n",
       "  'Total_land_real_area',\n",
       "  'Total_land_auction_area',\n",
       "  'Total_building_area',\n",
       "  'Total_building_auction_area',\n",
       "  'Total_appraisal_price',\n",
       "  'Minimum_sales_price',\n",
       "  'Final_auction_date',\n",
       "  'addr_do',\n",
       "  'Apartment_usage',\n",
       "  'Total_floor',\n",
       "  'Current_floor',\n",
       "  'Share_auction_YorN',\n",
       "  'Diff_price',\n",
       "  'Diff_date'],\n",
       " ['Bid_class'])"
      ]
     },
     "execution_count": 153,
     "metadata": {},
     "output_type": "execute_result"
    }
   ],
   "source": [
    "cate_features = AM_train2.dtypes[AM_train2.dtypes == \"object\"].index.format()\n",
    "conti_featrues = AM_train2.dtypes[AM_train2.dtypes != \"object\"].index.format()\n",
    "conti_featrues, cate_features\n",
    "conti_featrues.remove(\"Hammer_price\")\n",
    "conti_featrues.remove(\"Auction_key\")\n",
    "#conti_featrues.remove(\"addr_do\")\n",
    "conti_featrues, cate_features"
   ]
  },
  {
   "cell_type": "code",
   "execution_count": 154,
   "metadata": {},
   "outputs": [
    {
     "name": "stdout",
     "output_type": "stream",
     "text": [
      "(1246, 20) (1246, 3)\n"
     ]
    }
   ],
   "source": [
    "print(AM_train2[conti_featrues].shape, pd.get_dummies(AM_train2[cate_features]).shape)\n",
    "#print(AM_train2[conti_featrues].shape, pd.get_dummies(AM_train2[cate_features]).shape)\n",
    "# AM_train2.drop(index=[1521], axis = 0, inplace=True)\n",
    "# AM_train2.drop(index=[1515], axis = 0, inplace=True)"
   ]
  },
  {
   "cell_type": "code",
   "execution_count": 155,
   "metadata": {},
   "outputs": [
    {
     "data": {
      "text/plain": [
       "((1246, 23), (1246,))"
      ]
     },
     "execution_count": 155,
     "metadata": {},
     "output_type": "execute_result"
    }
   ],
   "source": [
    "from sklearn.preprocessing import MinMaxScaler\n",
    "scale = MinMaxScaler()\n",
    "AM_train2[conti_featrues] = scale.fit_transform(AM_train2[conti_featrues])\n",
    "#AM_train2[conti_featrues] = scale.fit_transform(AM_train2[conti_featrues])\n",
    "X2 = pd.concat([AM_train2[conti_featrues], pd.get_dummies(AM_train2[cate_features])], axis= 1)\n",
    "y2 = AM_train2.Hammer_price.values\n",
    "X2.shape, y2.shape"
   ]
  },
  {
   "cell_type": "code",
   "execution_count": 181,
   "metadata": {},
   "outputs": [
    {
     "name": "stdout",
     "output_type": "stream",
     "text": [
      "MSE of Linear is  275519172.56668335\n",
      "MSE of Lasso is  275519859.3098971\n",
      "MSE of Ridge is  275168148.124601\n"
     ]
    }
   ],
   "source": [
    "#rf_regressor = RandomForestRegressor(n_estimators=500, n_jobs=-1)\n",
    "lasso_regressor = Lasso(alpha = 0.02)\n",
    "ridge_regressor = Ridge(alpha = 0.01)\n",
    "linear_regressor = LinearRegression(n_jobs=-1)\n",
    "#rf_scores = cross_val_score(rf_regressor, X2, y2, cv=10, scoring='neg_mean_squared_error')\n",
    "linear_scores = cross_val_score(linear_regressor, X2, y2, cv=10, scoring='neg_mean_squared_error')\n",
    "lasso_scores = cross_val_score(lasso_regressor, X2, y2, cv=10, scoring='neg_mean_squared_error')\n",
    "ridge_scores= cross_val_score(ridge_regressor, X2, y2, cv=10, scoring='neg_mean_squared_error')\n",
    "print(\"MSE of Linear is \", np.array(np.sqrt(np.abs(linear_scores)).mean()))\n",
    "print(\"MSE of Lasso is \", np.array(np.sqrt(np.abs(lasso_scores)).mean()))\n",
    "print(\"MSE of Ridge is \", np.array(np.sqrt(np.abs(ridge_scores)).mean()))\n",
    "#print(\"MSE of RF is \", np.array(np.sqrt(np.abs(rf_scores)).mean()))"
   ]
  },
  {
   "cell_type": "code",
   "execution_count": null,
   "metadata": {},
   "outputs": [],
   "source": [
    "X_train, y_train = X2.values[np.where(y2 != 0)], y2[np.where(y2 != 0)]\n",
    "X_test, _ = X2.values[np.where(y2 == 0)], y2[np.where(y == 0)]\n",
    "X_train.shape, y_train.shape, X_test.shape\n",
    "\n",
    "rf_rg = Ridge(alpha = 0.02)\n",
    "rf_rg.fit(X_train, y_train)\n",
    "y_pred = rf_rg.predict(X_test).tolist()\n",
    "submit_id = AM_train2.loc[AM_train2.Hammer_price == 0].Auction_key.tolist()\n",
    "submit2 = pd.DataFrame({'Auction_key' : submit_id, 'Hammer_price' : y_pred})#.to_csv(\"C:\\\\Users\\\\i2013\\\\OneDrive\\\\바탕 화면\\\\1118_submit6.csv\", index = False)\n",
    "\n",
    "pd.concat([submit, submit2], axis = 0).to_csv(\"C:\\\\Users\\\\i2013\\\\OneDrive\\\\바탕 화면\\\\1121_03.csv\", index = False)"
   ]
  },
  {
   "cell_type": "code",
   "execution_count": null,
   "metadata": {},
   "outputs": [],
   "source": []
  },
  {
   "cell_type": "code",
   "execution_count": null,
   "metadata": {},
   "outputs": [],
   "source": []
  },
  {
   "cell_type": "markdown",
   "metadata": {},
   "source": [
    "# Submit Code"
   ]
  },
  {
   "cell_type": "markdown",
   "metadata": {},
   "source": [
    "AM_test.drop(index=[397], axis = 0, inplace=True)"
   ]
  },
  {
   "cell_type": "code",
   "execution_count": 2,
   "metadata": {},
   "outputs": [
    {
     "ename": "NameError",
     "evalue": "name 'pd' is not defined",
     "output_type": "error",
     "traceback": [
      "\u001b[1;31m---------------------------------------------------------------------------\u001b[0m",
      "\u001b[1;31mNameError\u001b[0m                                 Traceback (most recent call last)",
      "\u001b[1;32m<ipython-input-2-17a7eb7fb0bd>\u001b[0m in \u001b[0;36m<module>\u001b[1;34m()\u001b[0m\n\u001b[1;32m----> 1\u001b[1;33m \u001b[0mAM_train\u001b[0m \u001b[1;33m=\u001b[0m \u001b[0mpd\u001b[0m\u001b[1;33m.\u001b[0m\u001b[0mread_csv\u001b[0m\u001b[1;33m(\u001b[0m\u001b[1;34m\"Auction_master_train.csv\"\u001b[0m\u001b[1;33m)\u001b[0m\u001b[1;33m\u001b[0m\u001b[0m\n\u001b[0m\u001b[0;32m      2\u001b[0m \u001b[0mAM_test\u001b[0m \u001b[1;33m=\u001b[0m \u001b[0mpd\u001b[0m\u001b[1;33m.\u001b[0m\u001b[0mread_csv\u001b[0m\u001b[1;33m(\u001b[0m\u001b[1;34m\"Auction_master_test.csv\"\u001b[0m\u001b[1;33m)\u001b[0m\u001b[1;33m\u001b[0m\u001b[0m\n",
      "\u001b[1;31mNameError\u001b[0m: name 'pd' is not defined"
     ]
    }
   ],
   "source": [
    "AM_train = pd.read_csv(\"Auction_master_train.csv\")\n",
    "AM_test = pd.read_csv(\"Auction_master_test.csv\")"
   ]
  },
  {
   "cell_type": "code",
   "execution_count": 1,
   "metadata": {},
   "outputs": [
    {
     "ename": "NameError",
     "evalue": "name 'AM_test' is not defined",
     "output_type": "error",
     "traceback": [
      "\u001b[1;31m---------------------------------------------------------------------------\u001b[0m",
      "\u001b[1;31mNameError\u001b[0m                                 Traceback (most recent call last)",
      "\u001b[1;32m<ipython-input-1-7af67d09a141>\u001b[0m in \u001b[0;36m<module>\u001b[1;34m()\u001b[0m\n\u001b[0;32m      1\u001b[0m \u001b[1;31m#AM_test.drop(index=[311], axis = 0, inplace=True)\u001b[0m\u001b[1;33m\u001b[0m\u001b[1;33m\u001b[0m\u001b[0m\n\u001b[1;32m----> 2\u001b[1;33m \u001b[0mAM_test\u001b[0m\u001b[1;33m.\u001b[0m\u001b[0mdrop\u001b[0m\u001b[1;33m(\u001b[0m\u001b[0mindex\u001b[0m\u001b[1;33m=\u001b[0m\u001b[1;33m[\u001b[0m\u001b[1;36m397\u001b[0m\u001b[1;33m]\u001b[0m\u001b[1;33m,\u001b[0m \u001b[0maxis\u001b[0m \u001b[1;33m=\u001b[0m \u001b[1;36m0\u001b[0m\u001b[1;33m,\u001b[0m \u001b[0minplace\u001b[0m\u001b[1;33m=\u001b[0m\u001b[1;32mTrue\u001b[0m\u001b[1;33m)\u001b[0m\u001b[1;33m\u001b[0m\u001b[0m\n\u001b[0m\u001b[0;32m      3\u001b[0m \u001b[0mAM_train\u001b[0m \u001b[1;33m=\u001b[0m \u001b[0mpd\u001b[0m\u001b[1;33m.\u001b[0m\u001b[0mconcat\u001b[0m\u001b[1;33m(\u001b[0m\u001b[1;33m[\u001b[0m\u001b[0mAM_train\u001b[0m\u001b[1;33m,\u001b[0m \u001b[0mAM_test\u001b[0m\u001b[1;33m]\u001b[0m\u001b[1;33m,\u001b[0m \u001b[0maxis\u001b[0m \u001b[1;33m=\u001b[0m \u001b[1;36m0\u001b[0m\u001b[1;33m)\u001b[0m\u001b[1;33m\u001b[0m\u001b[0m\n\u001b[0;32m      4\u001b[0m \u001b[0mAM_train\u001b[0m\u001b[1;33m.\u001b[0m\u001b[0mshape\u001b[0m\u001b[1;33m\u001b[0m\u001b[0m\n\u001b[0;32m      5\u001b[0m \u001b[1;33m\u001b[0m\u001b[0m\n",
      "\u001b[1;31mNameError\u001b[0m: name 'AM_test' is not defined"
     ]
    }
   ],
   "source": [
    "#AM_test.drop(index=[311], axis = 0, inplace=True)\n",
    "AM_test.drop(index=[397], axis = 0, inplace=True)\n",
    "AM_train = pd.concat([AM_train, AM_test], axis = 0)\n",
    "AM_train.shape\n",
    "\n",
    "del AM_train[\"point.x\"]\n",
    "del AM_train[\"point.y\"]\n",
    "del AM_train['Appraisal_company']\n",
    "del AM_train[\"Final_result\"]\n",
    "del AM_train[\"addr_si\"]\n",
    "del AM_train[\"addr_dong\"]\n",
    "del AM_train[\"addr_li\"]\n",
    "del AM_train[\"addr_san\"]\n",
    "del AM_train[\"addr_bunji1\"]\n",
    "del AM_train[\"addr_bunji2\"]\n",
    "del AM_train[\"addr_etc\"]\n",
    "del AM_train[\"Specific\"]\n",
    "del AM_train[\"road_name\"]\n",
    "del AM_train[\"road_bunji1\"]\n",
    "del AM_train[\"road_bunji2\"]\n",
    "del AM_train[\"Close_result\"]\n",
    "del AM_train[\"Creditor\"]\n",
    "###############################################################################\n",
    "\n",
    "#del AM_train['Total_land_gross_area']\n",
    "\n",
    "\n",
    "\n",
    "\n",
    "\n",
    "\n",
    "import datetime\n",
    "\n",
    "def change_datetime(x):\n",
    "    today = datetime.date.today()\n",
    "    someday = datetime.date(int(x[:4]), int(x[5:7]), int(x[8:10]))\n",
    "    diff = today - someday\n",
    "    return diff.days\n",
    "\n",
    "# del AM_train[\"Appraisal_date\"]\n",
    "# del AM_train[\"First_auction_date\"]\n",
    "# del AM_train[\"Preserve_regist_date\"]\n",
    "# del AM_train[\"Final_auction_date\"]\n",
    "# del AM_train[\"Close_date\"]\n",
    "AM_train[\"Appraisal_date\"] = AM_train[\"Appraisal_date\"].apply(lambda x : x[:10])\n",
    "AM_train[\"First_auction_date\"] = AM_train[\"First_auction_date\"].apply(lambda x : x[:10])\n",
    "AM_train[\"Final_auction_date\"] = AM_train[\"Final_auction_date\"].apply(lambda x : x[:10])\n",
    "AM_train[\"Preserve_regist_date\"] = AM_train[\"Preserve_regist_date\"].apply(lambda x : x[:10])\n",
    "AM_train[\"Close_date\"] = AM_train[\"Close_date\"].apply(lambda x : x[:10])\n",
    "AM_train[\"Appraisal_date\"] = AM_train[\"Appraisal_date\"].apply(change_datetime)\n",
    "AM_train[\"First_auction_date\"] = AM_train[\"First_auction_date\"].apply(change_datetime)\n",
    "AM_train[\"Final_auction_date\"] = AM_train[\"Final_auction_date\"].apply(change_datetime)\n",
    "AM_train[\"Preserve_regist_date\"] = AM_train[\"Preserve_regist_date\"].apply(change_datetime)\n",
    "AM_train[\"Close_date\"] = AM_train[\"Close_date\"].apply(change_datetime)\n",
    "\n",
    "AM_train[\"Diff_price\"] = AM_train['Total_appraisal_price'] - AM_train['Minimum_sales_price']\n",
    "AM_train[\"Diff_date\"] = AM_train['First_auction_date'] - AM_train['Final_auction_date']\n",
    "\n",
    "print(AM_train.Auction_class.unique())\n",
    "AM_train.Auction_class.replace({'임의':0, '강제':1},inplace=True)\n",
    "print(AM_train.Auction_class.unique())\n",
    "print(\"-\"*50)\n",
    "print(AM_train.addr_do.unique())\n",
    "AM_train.addr_do.replace({'부산':0, '서울':1},inplace=True)\n",
    "print(AM_train.addr_do.unique())\n",
    "print(\"-\"*50)\n",
    "print(AM_train.Apartment_usage.unique())\n",
    "AM_train.Apartment_usage.replace({'주상복합':0, '아파트':1},inplace=True)\n",
    "print(AM_train.Apartment_usage.unique())\n",
    "print(\"-\"*50)\n",
    "print(AM_train.Share_auction_YorN.unique())\n",
    "AM_train.Share_auction_YorN.replace({'N':0, 'Y':1},inplace=True)\n",
    "print(AM_train.Share_auction_YorN.unique())\n",
    "print(\"-\"*50)\n",
    "def change_spec(x):\n",
    "    if isinstance(x, str):\n",
    "        return int(1)\n",
    "    else:\n",
    "        return int(0)\n",
    "# AM_train.Creditor = AM_train.Creditor.apply(lambda x : x if x == 'Private' else 'Company')\n",
    "# print(AM_train.Creditor.unique())\n",
    "# AM_train.Creditor.replace({'Private':0, 'Company':1},inplace=True)\n",
    "# print(AM_train.Creditor.unique())\n",
    "#AM_train[\"Specific\"] = AM_train.Specific.apply(change_spec)\n",
    "#print(AM_train.Specific.unique())\n",
    "\n",
    "del AM_train[\"Preserve_regist_date\"]\n",
    "#del AM_train[\"Final_auction_date\"]\n",
    "del AM_train[\"First_auction_date\"]\n",
    "del AM_train[\"Close_date\"]\n",
    "#del AM_train[\"Appraisal_date\"]\n",
    "\n",
    "# from sklearn.cluster import KMeans\n",
    "# point = AM_train[[\"point.x\", \"point.y\"]]\n",
    "# X = point.values\n",
    "# kmeans = KMeans(n_clusters=4, random_state=0).fit(X)\n",
    "# kmeans.labels_\n",
    "# AM_train['4class'] = kmeans.labels_\n",
    "# del AM_train[\"point.x\"]\n",
    "# del AM_train[\"point.y\"]\n",
    "# AM_train['4class'].replace({0 : 'A', 1 : 'B', 2 : 'C', 3 : 'D'}, inplace = True)\n",
    "# # AM_train1 = AM_train[AM_train.addr_do == 0]\n",
    "# # AM_train2 = AM_train[AM_train.addr_do == 1]\n",
    "# # #del AM_train1['addr_do']\n",
    "# # #del AM_train2['addr_do']\n",
    "# AM_train2.drop(index=[1521], axis = 0, inplace=True) #제일 심한 이상치\n",
    "# AM_train2.drop(index=[1515], axis = 0, inplace=True) #2번 째 심한 이상치\n",
    "\n",
    "# print(AM_train1['4class'].unique())\n",
    "# AM_train1.replace({1 : 0, 3 :1}, inplace=True)\n",
    "# print(AM_train1['4class'].unique())\n",
    "\n",
    "# print(AM_train2['4class'].unique())\n",
    "# AM_train2.replace({0 : 0, 2 :1}, inplace=True)\n",
    "# print(AM_train2['4class'].unique())\n",
    "\n",
    "AM_train.drop(index=[1521], axis = 0, inplace=True) #제일 심한 이상치\n",
    "AM_train.drop(index=[1515], axis = 0, inplace=True) #2번 째 심한 이상치"
   ]
  },
  {
   "cell_type": "code",
   "execution_count": 49,
   "metadata": {},
   "outputs": [],
   "source": [
    "# #del AM_train1['addr_do']\n",
    "# #del AM_train2['addr_do']\n",
    "# del AM_train1['addr_do']\n",
    "# del AM_train2['addr_do']\n",
    "# AM_train1.shape, AM_train2.shape"
   ]
  },
  {
   "cell_type": "code",
   "execution_count": 50,
   "metadata": {},
   "outputs": [],
   "source": [
    "AM_train1.head()\n",
    "del AM_train1[\"Diff_price\"]\n",
    "del AM_train1[\"Diff_date\"]"
   ]
  },
  {
   "cell_type": "code",
   "execution_count": 51,
   "metadata": {},
   "outputs": [
    {
     "data": {
      "text/plain": [
       "(['Auction_class',\n",
       "  'Claim_price',\n",
       "  'Appraisal_date',\n",
       "  'Auction_count',\n",
       "  'Auction_miscarriage_count',\n",
       "  'Total_land_gross_area',\n",
       "  'Total_land_real_area',\n",
       "  'Total_land_auction_area',\n",
       "  'Total_building_area',\n",
       "  'Total_building_auction_area',\n",
       "  'Total_appraisal_price',\n",
       "  'Minimum_sales_price',\n",
       "  'Final_auction_date',\n",
       "  'addr_do',\n",
       "  'Apartment_usage',\n",
       "  'Total_floor',\n",
       "  'Current_floor',\n",
       "  'Share_auction_YorN'],\n",
       " ['Bid_class'])"
      ]
     },
     "execution_count": 51,
     "metadata": {},
     "output_type": "execute_result"
    }
   ],
   "source": [
    "cate_features = AM_train1.dtypes[AM_train1.dtypes == \"object\"].index.format()\n",
    "conti_featrues = AM_train1.dtypes[AM_train1.dtypes != \"object\"].index.format()\n",
    "conti_featrues, cate_features\n",
    "conti_featrues.remove(\"Hammer_price\")\n",
    "conti_featrues.remove(\"Auction_key\")\n",
    "#conti_featrues.remove(\"addr_do\")\n",
    "conti_featrues, cate_features"
   ]
  },
  {
   "cell_type": "code",
   "execution_count": 52,
   "metadata": {},
   "outputs": [
    {
     "data": {
      "text/plain": [
       "(['Auction_class',\n",
       "  'Claim_price',\n",
       "  'Appraisal_date',\n",
       "  'Auction_count',\n",
       "  'Auction_miscarriage_count',\n",
       "  'Total_land_gross_area',\n",
       "  'Total_land_real_area',\n",
       "  'Total_land_auction_area',\n",
       "  'Total_building_area',\n",
       "  'Total_building_auction_area',\n",
       "  'Total_appraisal_price',\n",
       "  'Minimum_sales_price',\n",
       "  'Final_auction_date',\n",
       "  'addr_do',\n",
       "  'Apartment_usage',\n",
       "  'Total_floor',\n",
       "  'Current_floor',\n",
       "  'Share_auction_YorN'],\n",
       " ['Bid_class'])"
      ]
     },
     "execution_count": 52,
     "metadata": {},
     "output_type": "execute_result"
    }
   ],
   "source": [
    "cate_features2 = AM_train2.dtypes[AM_train2.dtypes == \"object\"].index.format()\n",
    "conti_featrues2 = AM_train2.dtypes[AM_train2.dtypes != \"object\"].index.format()\n",
    "conti_featrues2, cate_features2\n",
    "conti_featrues2.remove(\"Hammer_price\")\n",
    "conti_featrues2.remove(\"Auction_key\")\n",
    "#conti_featrues.remove(\"addr_do\")\n",
    "conti_featrues, cate_features"
   ]
  },
  {
   "cell_type": "code",
   "execution_count": 53,
   "metadata": {},
   "outputs": [
    {
     "name": "stdout",
     "output_type": "stream",
     "text": [
      "(959, 18) (959, 3)\n",
      "(1800, 20) (1800, 3)\n"
     ]
    }
   ],
   "source": [
    "print(AM_train1[conti_featrues].shape, pd.get_dummies(AM_train1[cate_features]).shape)\n",
    "print(AM_train2[conti_featrues2].shape, pd.get_dummies(AM_train2[cate_features2]).shape)\n",
    "# AM_train2.drop(index=[1521], axis = 0, inplace=True)\n",
    "# AM_train2.drop(index=[1515], axis = 0, inplace=True)"
   ]
  },
  {
   "cell_type": "code",
   "execution_count": null,
   "metadata": {},
   "outputs": [],
   "source": [
    "scale.fit_transform(AM_train1['Hamm'])"
   ]
  },
  {
   "cell_type": "code",
   "execution_count": 57,
   "metadata": {},
   "outputs": [
    {
     "ename": "ValueError",
     "evalue": "Expected 2D array, got 1D array instead:\narray=[6.70190000e+08 2.06119000e+08 3.71131000e+08 1.27170000e+08\n 4.21000000e+08 1.67213000e+08 2.00200000e+08 2.59399900e+08\n 3.81000000e+08 1.09550000e+08 9.43900000e+07 4.65871000e+08\n 9.65810000e+07 2.05171100e+08 1.88253000e+08 9.30000000e+07\n 2.19001000e+08 4.59999900e+08 4.23099999e+08 3.27200000e+08\n 1.17620000e+08 4.73899010e+08 1.07888000e+08 1.12568000e+08\n 6.83230000e+08 4.32150000e+08 9.61100000e+07 4.46600000e+08\n 2.32990000e+08 3.03229000e+08 3.36111100e+08 6.00000000e+07\n 7.82100000e+07 5.00000000e+07 1.41879900e+08 1.65616000e+08\n 1.71993667e+08 2.37110000e+08 3.43300000e+08 4.90340000e+08\n 3.43870000e+07 3.01130000e+08 3.77770000e+07 4.25000000e+08\n 2.35041990e+08 1.52900000e+08 3.70000000e+08 4.20399900e+08\n 1.13000000e+08 1.79777000e+08 3.60100000e+08 2.11999990e+08\n 2.45519000e+08 1.51320000e+08 7.91100000e+07 4.51865499e+08\n 1.07635000e+08 1.50001000e+08 8.37770000e+07 2.87670000e+08\n 7.25000000e+07 9.35000000e+07 2.81991301e+08 2.90808000e+08\n 3.94819990e+08 1.78812100e+08 2.35000000e+08 3.85859000e+08\n 9.69789740e+07 2.68879000e+08 2.56888000e+08 3.07700000e+08\n 1.73300000e+08 6.12100000e+08 9.50100000e+07 5.77110000e+07\n 5.64299999e+08 2.08888000e+08 1.90000000e+08 4.06666666e+08\n 2.17500000e+08 3.07200000e+08 7.61100000e+08 2.03899999e+08\n 2.09011000e+08 2.96900000e+08 4.21211110e+08 1.41000000e+08\n 2.77000000e+08 1.65109486e+08 5.76270000e+08 9.59990000e+07\n 4.81777700e+08 2.20500000e+08 1.65300000e+08 8.11111000e+08\n 3.15999000e+08 4.36000000e+08 1.78500000e+08 4.65990000e+08\n 6.28880000e+08 3.69500000e+08 1.80000000e+08 2.00388000e+08\n 1.07110000e+08 9.62111110e+07 2.98293933e+08 5.50399999e+08\n 2.84111000e+08 1.50100000e+08 1.00799000e+08 4.21100000e+08\n 1.94300000e+08 1.32200000e+08 8.61000000e+07 1.64299000e+08\n 3.07100000e+08 2.21000000e+07 1.36600000e+08 1.81799000e+08\n 1.46010000e+08 3.75000000e+08 1.86101000e+08 5.27770000e+08\n 3.35801000e+08 3.05780000e+08 8.62200000e+07 5.40898902e+08\n 5.33330000e+08 9.23000000e+07 2.41811000e+08 2.40001000e+08\n 3.42000000e+08 1.50000000e+08 2.07010000e+08 5.67999900e+08\n 2.06811000e+08 1.70300000e+08 6.65500000e+08 1.06600000e+08\n 3.49999000e+08 2.83670000e+08 1.63000000e+08 5.31990000e+07\n 7.84199000e+07 3.73589990e+08 1.20000000e+08 2.13600000e+08\n 1.84884000e+08 2.61699000e+08 7.26550000e+08 1.80699000e+08\n 1.81000000e+08 1.75000000e+08 2.00020000e+08 2.87000000e+08\n 3.82300000e+08 3.35801000e+08 2.71599999e+08 1.54770000e+08\n 1.50523000e+08 1.20052000e+08 2.55679990e+08 2.00300000e+08\n 3.33000000e+08 3.57100000e+08 1.03770000e+08 1.41999000e+08\n 1.27770000e+08 3.48590000e+08 1.20898802e+08 1.56100000e+08\n 2.92190000e+08 6.23100000e+08 3.34440000e+08 1.96300000e+08\n 2.31490000e+08 1.50000000e+08 2.59790000e+08 1.60190000e+09\n 4.52990000e+08 2.04888800e+08 8.72900000e+07 4.21488000e+07\n 4.53799999e+08 3.51101000e+08 1.75000000e+08 1.43100010e+08\n 1.34100000e+08 8.26111000e+07 1.85100000e+08 8.47770000e+07\n 2.40020020e+08 3.45000000e+08 2.46994968e+08 2.13000000e+08\n 3.52170000e+08 2.32290000e+08 6.02223000e+08 2.92899900e+08\n 2.31700000e+07 1.56688000e+08 3.79399000e+08 1.19770000e+08\n 2.56600000e+08 4.56880000e+08 1.38150000e+08 1.92146000e+08\n 2.01234000e+08 3.13799999e+08 2.58491121e+08 4.25896000e+08\n 4.10000000e+08 6.50000000e+07 1.92150700e+08 1.33980000e+08\n 2.35240000e+07 3.68449000e+08 8.65511100e+07 1.80770000e+08\n 5.35600000e+08 1.58000000e+08 1.04900000e+09 1.26100000e+09\n 8.61300000e+08 5.01100000e+08 6.57770000e+08 4.87100000e+08\n 6.72999000e+08 3.29885000e+08 4.20620000e+08 4.00100000e+08\n 7.03127300e+08 4.26006000e+08 2.43730000e+08 3.41260000e+08\n 2.20006000e+08 1.40050000e+08 2.61110000e+08 1.23300000e+09\n 2.25100000e+08 5.33000000e+08 9.61100000e+08 3.15000000e+08\n 4.22830000e+08 6.20211001e+08 4.43589000e+08 1.50100000e+09\n 1.51389000e+09 6.81421834e+08 5.96100000e+07 3.67780900e+08\n 2.32699900e+08 5.17777700e+08 7.66100000e+08 9.51100000e+08\n 6.11190000e+08 6.60961000e+08 1.44007000e+09 3.73100200e+08\n 5.11888000e+08 1.03116790e+09 1.35338000e+08 3.57520000e+08\n 2.11200000e+08 2.61700000e+08 3.61777700e+08 7.04999990e+08\n 1.39000000e+08 3.84844777e+08 3.23899900e+08 3.72380000e+08\n 4.25123000e+08 6.33590000e+08 3.16000000e+08 1.87690000e+08\n 2.68880000e+08 3.20144000e+08 3.42000101e+08 2.14090000e+08\n 3.16650000e+08 6.27200000e+08 2.74999990e+08 1.51300990e+09\n 3.20400000e+08 2.52200100e+08 4.65000000e+08 6.11000000e+07\n 9.72000000e+08 4.54000100e+08 5.91400000e+08 2.45880000e+08\n 2.58660000e+08 5.35899000e+08 3.63897000e+08 4.03370000e+08\n 4.32110000e+08 2.93320000e+08 4.47529000e+08 1.20110000e+09\n 5.28897000e+08 5.87600000e+08 9.07899900e+08 3.08800000e+08\n 4.61000000e+08 3.20100000e+08 5.20661000e+08 5.21797500e+08\n 3.02220000e+08 2.17220000e+08 7.38880000e+08 6.35999999e+08\n 1.25211000e+09 4.41890000e+08 3.52999990e+08 1.71527000e+08\n 9.60000000e+08 7.74000000e+08 4.50000000e+08 4.32000000e+08\n 7.70900000e+07 2.85110000e+08 8.00000000e+07 1.33500000e+08\n 3.11200000e+08 2.61900001e+08 2.66523000e+08 1.37550000e+09\n 2.87000000e+08 4.02000000e+08 5.03000000e+08 4.25110000e+08\n 2.36041100e+08 5.96512300e+08 5.68030000e+08 4.07879999e+08\n 4.05000000e+08 3.54450000e+08 2.00299990e+08 1.45719000e+09\n 7.77100000e+08 2.13530000e+08 5.61950000e+08 3.40125000e+08\n 7.10199000e+08 2.60200000e+08 4.85999999e+08 1.32700000e+09\n 1.56780000e+08 3.61949700e+08 2.92000000e+08 2.63950000e+08\n 3.91222220e+08 6.00000000e+08 3.81999900e+08 4.36000000e+08\n 2.05100000e+08 4.31049900e+08 7.25550000e+08 1.80500000e+08\n 4.52352000e+08 4.21300100e+08 4.00000000e+08 7.05111000e+08\n 3.30000100e+08 5.05999999e+08 1.07897000e+09 1.64200000e+08\n 8.12470000e+08 7.86000000e+08 3.80336600e+08 1.35474000e+08\n 8.01999000e+08 1.00100000e+09 3.87489000e+08 4.36000000e+08\n 3.83500000e+08 2.02860000e+09 3.76993000e+08 2.29756900e+08\n 3.56999000e+08 2.72533333e+08 7.05600000e+07 3.36800000e+08\n 2.38500000e+09 8.37150000e+08 1.76500000e+09 4.16399900e+08\n 1.41910000e+09 4.33000000e+08 3.53220000e+08 4.53555000e+08\n 4.42999000e+08 8.00800000e+06 5.50990000e+08 4.06777000e+08\n 5.31110000e+08 1.31001000e+09 5.82510000e+08 1.20100000e+08\n 6.66999999e+08 2.71330000e+08 4.21111100e+08 1.60666600e+08\n 2.91500000e+09 1.85200000e+08 7.20100000e+08 2.41650000e+08\n 2.01000000e+08 9.52370000e+08 3.15280000e+08 6.01000000e+08\n 5.11100000e+08 3.17000000e+08 7.21990000e+08 4.62333300e+08\n 5.81110000e+08 3.35199999e+08 4.26000000e+08 6.72100210e+08\n 7.45500000e+08 4.96000000e+08 3.40490000e+09 5.65976820e+08\n 2.92666000e+08 2.35980000e+08 2.91222000e+08 5.13999999e+08\n 5.41220000e+08 6.01411000e+08 3.05999990e+08 4.79870000e+08\n 3.55757000e+08 6.03511000e+08 9.78690000e+08 4.21690000e+08\n 7.03500000e+08 2.67110000e+08 6.00000000e+08 2.31555555e+08\n 4.47100000e+08 4.15000000e+08 3.75200000e+08 4.22100000e+08\n 6.43000100e+08 3.45000000e+08 3.22620000e+08 1.28112000e+09\n 1.95110000e+08 5.71100000e+08 2.96700000e+08 1.44500000e+08\n 6.13999999e+08 2.70702000e+08 3.37020000e+08 2.55100000e+08\n 4.44000000e+08 8.74949490e+08 4.85217000e+08 6.55780000e+08\n 3.20380000e+08 8.30999999e+08 1.80557230e+09 3.11000000e+08\n 5.63523400e+08 4.35863000e+08 4.46666000e+08 6.79799999e+08\n 4.17770000e+08 9.00000000e+08 4.10000000e+08 2.72100000e+08\n 3.56999999e+08 3.41000000e+08 2.51212000e+08 1.07538590e+09\n 7.60888901e+08 2.44190000e+08 1.04688000e+09 8.78999000e+08\n 4.02500000e+08 4.24320000e+08 5.29990000e+08 5.88699000e+08\n 7.26110000e+08 8.83599900e+08 3.37100000e+08 2.78001000e+08\n 3.36100001e+08 2.63510000e+08 6.78450000e+08 7.60999999e+08\n 4.85675000e+08 9.50000000e+08 3.82000000e+08 1.30389000e+09\n 1.71782000e+09 4.14289000e+08 6.23600000e+08 4.62210000e+08\n 1.45000000e+09 4.27359000e+08 2.53169000e+08 9.93710000e+08\n 5.24370000e+08 3.73000000e+08 4.32000000e+08 1.43300000e+09\n 7.00000000e+07 2.51100200e+08 4.32000000e+08 6.66000000e+08\n 1.77866000e+09 1.53800000e+09 2.26890000e+08 4.12000000e+08\n 6.60000000e+08 9.36000100e+08 4.82500100e+08 6.10505500e+08\n 4.66666000e+08 8.95000000e+08 2.15500000e+08 3.28999000e+08\n 1.68100000e+08 3.51970000e+08 8.91990000e+08 3.57200000e+08\n 2.95480000e+08 4.74643260e+08 1.62111000e+09 1.95888000e+08\n 1.64100000e+08 3.11124221e+09 3.82000000e+08 6.70000000e+08\n 1.31155000e+09 4.51150000e+08 8.25100000e+08 3.43890000e+08\n 4.76199900e+08 1.11450000e+08 5.35555500e+08 6.04610000e+08\n 4.85000000e+08 3.02700000e+08 3.12600100e+08 3.65200000e+09\n 2.44590000e+08 1.15799000e+09 9.50000000e+08 1.31579000e+09\n 5.68419999e+08 3.02359900e+08 8.11790000e+08 4.80160000e+08\n 1.20000000e+08 4.03990000e+08 2.14120000e+08 4.10320000e+08\n 2.95110000e+08 9.66000100e+08 6.56500000e+08 4.07055550e+08\n 3.21690000e+08 2.75370000e+08 1.55185000e+09 4.96000000e+08\n 3.08927020e+08 6.24900000e+08 6.59999999e+08 1.92000000e+08\n 2.76000000e+08 3.86990000e+08 5.01900000e+08 4.02000000e+08\n 2.87100000e+08 1.27990000e+09 7.00570000e+08 1.40000000e+09\n 2.82110000e+08 9.89800000e+08 3.31100000e+08 2.71000000e+08\n 3.85188800e+08 4.58605170e+08 5.67010000e+08 3.49181000e+08\n 5.05001000e+08 3.84799999e+08 3.75000000e+08 9.53000000e+08\n 3.42320000e+08 3.28500000e+08 4.09110000e+08 4.81210000e+08\n 9.33000000e+08 1.92111000e+08 1.07811000e+09 5.23680790e+08\n 1.68000000e+09 3.02810000e+08 3.85230000e+08 3.23999999e+08\n 3.38690000e+08 2.56897000e+08 7.51600000e+08 2.14110000e+08\n 6.56100000e+08 1.50100000e+09 1.49589000e+09 4.35115000e+08\n 9.53111111e+08 1.76290000e+08 4.06890000e+08 2.75200000e+08\n 2.44440000e+08 3.31000000e+08 5.38888000e+08 5.12780000e+08\n 4.43190000e+08 3.94160000e+08 7.13500000e+08 9.88900000e+08\n 1.50900000e+08 8.10000000e+08 5.35880000e+08 6.83000000e+08\n 2.13737800e+08 1.40000000e+09 1.62100000e+08 3.97840000e+08\n 1.83210000e+08 3.13999990e+08 4.10270000e+08 1.42500030e+09\n 2.32500000e+08 1.16000000e+08 3.58130000e+08 4.13000000e+08\n 7.42260000e+08 2.86274400e+08 3.28500000e+08 2.73570000e+08\n 7.38560000e+08 1.56020000e+09 2.75599999e+08 5.44000000e+08\n 3.80800000e+08 8.03555555e+08 3.23200000e+08 3.30100000e+08\n 1.33111000e+09 3.21000001e+08 2.91000000e+08 5.12500000e+08\n 4.17800000e+08 2.73333333e+08 5.43250000e+08 1.54299000e+09\n 5.68999000e+08 6.85198000e+08 3.90000000e+08 3.07000000e+08\n 1.18999900e+09 1.15100000e+09 6.90100000e+07 2.46200100e+08\n 4.15110000e+08 3.86666000e+08 5.34000000e+08 1.42769599e+09\n 9.75019900e+08 3.71999000e+08 6.83800000e+08 6.60530000e+08\n 1.56180000e+09 1.01600000e+08 1.20000000e+09 4.32700000e+08\n 8.32100000e+08 3.00015000e+08 4.53616100e+08 9.56550000e+07\n 4.02500000e+08 0.00000000e+00 0.00000000e+00 0.00000000e+00\n 0.00000000e+00 0.00000000e+00 0.00000000e+00 0.00000000e+00\n 0.00000000e+00 0.00000000e+00 0.00000000e+00 0.00000000e+00\n 0.00000000e+00 0.00000000e+00 0.00000000e+00 0.00000000e+00\n 0.00000000e+00 0.00000000e+00 0.00000000e+00 0.00000000e+00\n 0.00000000e+00 0.00000000e+00 0.00000000e+00 0.00000000e+00\n 0.00000000e+00 0.00000000e+00 0.00000000e+00 0.00000000e+00\n 0.00000000e+00 0.00000000e+00 0.00000000e+00 0.00000000e+00\n 0.00000000e+00 0.00000000e+00 0.00000000e+00 0.00000000e+00\n 0.00000000e+00 0.00000000e+00 0.00000000e+00 0.00000000e+00\n 0.00000000e+00 0.00000000e+00 0.00000000e+00 0.00000000e+00\n 0.00000000e+00 0.00000000e+00 0.00000000e+00 0.00000000e+00\n 0.00000000e+00 0.00000000e+00 0.00000000e+00 0.00000000e+00\n 0.00000000e+00 0.00000000e+00 0.00000000e+00 0.00000000e+00\n 0.00000000e+00 0.00000000e+00 0.00000000e+00 0.00000000e+00\n 0.00000000e+00 0.00000000e+00 0.00000000e+00 0.00000000e+00\n 0.00000000e+00 0.00000000e+00 0.00000000e+00 0.00000000e+00\n 0.00000000e+00 0.00000000e+00 0.00000000e+00 0.00000000e+00\n 0.00000000e+00 0.00000000e+00 0.00000000e+00 0.00000000e+00\n 0.00000000e+00 0.00000000e+00 0.00000000e+00 0.00000000e+00\n 0.00000000e+00 0.00000000e+00 0.00000000e+00 0.00000000e+00\n 0.00000000e+00 0.00000000e+00 0.00000000e+00 0.00000000e+00\n 0.00000000e+00 0.00000000e+00 0.00000000e+00 0.00000000e+00\n 0.00000000e+00 0.00000000e+00 0.00000000e+00 0.00000000e+00\n 0.00000000e+00 0.00000000e+00 0.00000000e+00 0.00000000e+00\n 0.00000000e+00 0.00000000e+00 0.00000000e+00 0.00000000e+00\n 0.00000000e+00 0.00000000e+00 0.00000000e+00 0.00000000e+00\n 0.00000000e+00 0.00000000e+00 0.00000000e+00 0.00000000e+00\n 0.00000000e+00 0.00000000e+00 0.00000000e+00 0.00000000e+00\n 0.00000000e+00 0.00000000e+00 0.00000000e+00 0.00000000e+00\n 0.00000000e+00 0.00000000e+00 0.00000000e+00 0.00000000e+00\n 0.00000000e+00 0.00000000e+00 0.00000000e+00 0.00000000e+00\n 0.00000000e+00 0.00000000e+00 0.00000000e+00 0.00000000e+00\n 0.00000000e+00 0.00000000e+00 0.00000000e+00 0.00000000e+00\n 0.00000000e+00 0.00000000e+00 0.00000000e+00 0.00000000e+00\n 0.00000000e+00 0.00000000e+00 0.00000000e+00 0.00000000e+00\n 0.00000000e+00 0.00000000e+00 0.00000000e+00 0.00000000e+00\n 0.00000000e+00 0.00000000e+00 0.00000000e+00 0.00000000e+00\n 0.00000000e+00 0.00000000e+00 0.00000000e+00 0.00000000e+00\n 0.00000000e+00 0.00000000e+00 0.00000000e+00 0.00000000e+00\n 0.00000000e+00 0.00000000e+00 0.00000000e+00 0.00000000e+00\n 0.00000000e+00 0.00000000e+00 0.00000000e+00 0.00000000e+00\n 0.00000000e+00 0.00000000e+00 0.00000000e+00 0.00000000e+00\n 0.00000000e+00 0.00000000e+00 0.00000000e+00 0.00000000e+00\n 0.00000000e+00 0.00000000e+00 0.00000000e+00 0.00000000e+00\n 0.00000000e+00 0.00000000e+00 0.00000000e+00 0.00000000e+00\n 0.00000000e+00 0.00000000e+00 0.00000000e+00 0.00000000e+00\n 0.00000000e+00 0.00000000e+00 0.00000000e+00 0.00000000e+00\n 0.00000000e+00 0.00000000e+00 0.00000000e+00 0.00000000e+00\n 0.00000000e+00 0.00000000e+00 0.00000000e+00 0.00000000e+00\n 0.00000000e+00 0.00000000e+00 0.00000000e+00 0.00000000e+00\n 0.00000000e+00 0.00000000e+00 0.00000000e+00 0.00000000e+00\n 0.00000000e+00 0.00000000e+00 0.00000000e+00 0.00000000e+00\n 0.00000000e+00 0.00000000e+00 0.00000000e+00 0.00000000e+00\n 0.00000000e+00 0.00000000e+00 0.00000000e+00 0.00000000e+00\n 0.00000000e+00 0.00000000e+00 0.00000000e+00 0.00000000e+00\n 0.00000000e+00 0.00000000e+00 0.00000000e+00 0.00000000e+00\n 0.00000000e+00 0.00000000e+00 0.00000000e+00 0.00000000e+00\n 0.00000000e+00 0.00000000e+00 0.00000000e+00 0.00000000e+00\n 0.00000000e+00 0.00000000e+00 0.00000000e+00 0.00000000e+00\n 0.00000000e+00 0.00000000e+00 0.00000000e+00 0.00000000e+00\n 0.00000000e+00 0.00000000e+00 0.00000000e+00 0.00000000e+00\n 0.00000000e+00 0.00000000e+00 0.00000000e+00 0.00000000e+00\n 0.00000000e+00 0.00000000e+00 0.00000000e+00 0.00000000e+00\n 0.00000000e+00 0.00000000e+00 0.00000000e+00 0.00000000e+00\n 0.00000000e+00 0.00000000e+00 0.00000000e+00 0.00000000e+00\n 0.00000000e+00 0.00000000e+00 0.00000000e+00 0.00000000e+00\n 0.00000000e+00 0.00000000e+00 0.00000000e+00 0.00000000e+00\n 0.00000000e+00 0.00000000e+00 0.00000000e+00].\nReshape your data either using array.reshape(-1, 1) if your data has a single feature or array.reshape(1, -1) if it contains a single sample.",
     "output_type": "error",
     "traceback": [
      "\u001b[1;31m---------------------------------------------------------------------------\u001b[0m",
      "\u001b[1;31mValueError\u001b[0m                                Traceback (most recent call last)",
      "\u001b[1;32m<ipython-input-57-fd57a9969bd5>\u001b[0m in \u001b[0;36m<module>\u001b[1;34m()\u001b[0m\n\u001b[0;32m      5\u001b[0m \u001b[1;33m\u001b[0m\u001b[0m\n\u001b[0;32m      6\u001b[0m \u001b[0mX\u001b[0m \u001b[1;33m=\u001b[0m \u001b[0mpd\u001b[0m\u001b[1;33m.\u001b[0m\u001b[0mconcat\u001b[0m\u001b[1;33m(\u001b[0m\u001b[1;33m[\u001b[0m\u001b[0mAM_train1\u001b[0m\u001b[1;33m[\u001b[0m\u001b[0mconti_featrues\u001b[0m\u001b[1;33m]\u001b[0m\u001b[1;33m,\u001b[0m \u001b[0mpd\u001b[0m\u001b[1;33m.\u001b[0m\u001b[0mget_dummies\u001b[0m\u001b[1;33m(\u001b[0m\u001b[0mAM_train1\u001b[0m\u001b[1;33m[\u001b[0m\u001b[0mcate_features\u001b[0m\u001b[1;33m]\u001b[0m\u001b[1;33m)\u001b[0m\u001b[1;33m]\u001b[0m\u001b[1;33m,\u001b[0m \u001b[0maxis\u001b[0m\u001b[1;33m=\u001b[0m \u001b[1;36m1\u001b[0m\u001b[1;33m)\u001b[0m\u001b[1;33m\u001b[0m\u001b[0m\n\u001b[1;32m----> 7\u001b[1;33m \u001b[0my\u001b[0m \u001b[1;33m=\u001b[0m \u001b[0mscale\u001b[0m\u001b[1;33m.\u001b[0m\u001b[0mfit_transform\u001b[0m\u001b[1;33m(\u001b[0m\u001b[0mAM_train1\u001b[0m\u001b[1;33m.\u001b[0m\u001b[0mHammer_price\u001b[0m\u001b[1;33m)\u001b[0m\u001b[1;33m\u001b[0m\u001b[0m\n\u001b[0m\u001b[0;32m      8\u001b[0m \u001b[0mX\u001b[0m\u001b[1;33m.\u001b[0m\u001b[0mshape\u001b[0m\u001b[1;33m,\u001b[0m \u001b[0my\u001b[0m\u001b[1;33m.\u001b[0m\u001b[0mshape\u001b[0m\u001b[1;33m\u001b[0m\u001b[0m\n",
      "\u001b[1;32m~\\AppData\\Local\\conda\\conda\\envs\\ML\\lib\\site-packages\\sklearn\\base.py\u001b[0m in \u001b[0;36mfit_transform\u001b[1;34m(self, X, y, **fit_params)\u001b[0m\n\u001b[0;32m    460\u001b[0m         \u001b[1;32mif\u001b[0m \u001b[0my\u001b[0m \u001b[1;32mis\u001b[0m \u001b[1;32mNone\u001b[0m\u001b[1;33m:\u001b[0m\u001b[1;33m\u001b[0m\u001b[0m\n\u001b[0;32m    461\u001b[0m             \u001b[1;31m# fit method of arity 1 (unsupervised transformation)\u001b[0m\u001b[1;33m\u001b[0m\u001b[1;33m\u001b[0m\u001b[0m\n\u001b[1;32m--> 462\u001b[1;33m             \u001b[1;32mreturn\u001b[0m \u001b[0mself\u001b[0m\u001b[1;33m.\u001b[0m\u001b[0mfit\u001b[0m\u001b[1;33m(\u001b[0m\u001b[0mX\u001b[0m\u001b[1;33m,\u001b[0m \u001b[1;33m**\u001b[0m\u001b[0mfit_params\u001b[0m\u001b[1;33m)\u001b[0m\u001b[1;33m.\u001b[0m\u001b[0mtransform\u001b[0m\u001b[1;33m(\u001b[0m\u001b[0mX\u001b[0m\u001b[1;33m)\u001b[0m\u001b[1;33m\u001b[0m\u001b[0m\n\u001b[0m\u001b[0;32m    463\u001b[0m         \u001b[1;32melse\u001b[0m\u001b[1;33m:\u001b[0m\u001b[1;33m\u001b[0m\u001b[0m\n\u001b[0;32m    464\u001b[0m             \u001b[1;31m# fit method of arity 2 (supervised transformation)\u001b[0m\u001b[1;33m\u001b[0m\u001b[1;33m\u001b[0m\u001b[0m\n",
      "\u001b[1;32m~\\AppData\\Local\\conda\\conda\\envs\\ML\\lib\\site-packages\\sklearn\\preprocessing\\data.py\u001b[0m in \u001b[0;36mfit\u001b[1;34m(self, X, y)\u001b[0m\n\u001b[0;32m    321\u001b[0m         \u001b[1;31m# Reset internal state before fitting\u001b[0m\u001b[1;33m\u001b[0m\u001b[1;33m\u001b[0m\u001b[0m\n\u001b[0;32m    322\u001b[0m         \u001b[0mself\u001b[0m\u001b[1;33m.\u001b[0m\u001b[0m_reset\u001b[0m\u001b[1;33m(\u001b[0m\u001b[1;33m)\u001b[0m\u001b[1;33m\u001b[0m\u001b[0m\n\u001b[1;32m--> 323\u001b[1;33m         \u001b[1;32mreturn\u001b[0m \u001b[0mself\u001b[0m\u001b[1;33m.\u001b[0m\u001b[0mpartial_fit\u001b[0m\u001b[1;33m(\u001b[0m\u001b[0mX\u001b[0m\u001b[1;33m,\u001b[0m \u001b[0my\u001b[0m\u001b[1;33m)\u001b[0m\u001b[1;33m\u001b[0m\u001b[0m\n\u001b[0m\u001b[0;32m    324\u001b[0m \u001b[1;33m\u001b[0m\u001b[0m\n\u001b[0;32m    325\u001b[0m     \u001b[1;32mdef\u001b[0m \u001b[0mpartial_fit\u001b[0m\u001b[1;33m(\u001b[0m\u001b[0mself\u001b[0m\u001b[1;33m,\u001b[0m \u001b[0mX\u001b[0m\u001b[1;33m,\u001b[0m \u001b[0my\u001b[0m\u001b[1;33m=\u001b[0m\u001b[1;32mNone\u001b[0m\u001b[1;33m)\u001b[0m\u001b[1;33m:\u001b[0m\u001b[1;33m\u001b[0m\u001b[0m\n",
      "\u001b[1;32m~\\AppData\\Local\\conda\\conda\\envs\\ML\\lib\\site-packages\\sklearn\\preprocessing\\data.py\u001b[0m in \u001b[0;36mpartial_fit\u001b[1;34m(self, X, y)\u001b[0m\n\u001b[0;32m    349\u001b[0m         X = check_array(X, copy=self.copy, warn_on_dtype=True,\n\u001b[0;32m    350\u001b[0m                         \u001b[0mestimator\u001b[0m\u001b[1;33m=\u001b[0m\u001b[0mself\u001b[0m\u001b[1;33m,\u001b[0m \u001b[0mdtype\u001b[0m\u001b[1;33m=\u001b[0m\u001b[0mFLOAT_DTYPES\u001b[0m\u001b[1;33m,\u001b[0m\u001b[1;33m\u001b[0m\u001b[0m\n\u001b[1;32m--> 351\u001b[1;33m                         force_all_finite=\"allow-nan\")\n\u001b[0m\u001b[0;32m    352\u001b[0m \u001b[1;33m\u001b[0m\u001b[0m\n\u001b[0;32m    353\u001b[0m         \u001b[0mdata_min\u001b[0m \u001b[1;33m=\u001b[0m \u001b[0mnp\u001b[0m\u001b[1;33m.\u001b[0m\u001b[0mnanmin\u001b[0m\u001b[1;33m(\u001b[0m\u001b[0mX\u001b[0m\u001b[1;33m,\u001b[0m \u001b[0maxis\u001b[0m\u001b[1;33m=\u001b[0m\u001b[1;36m0\u001b[0m\u001b[1;33m)\u001b[0m\u001b[1;33m\u001b[0m\u001b[0m\n",
      "\u001b[1;32m~\\AppData\\Local\\conda\\conda\\envs\\ML\\lib\\site-packages\\sklearn\\utils\\validation.py\u001b[0m in \u001b[0;36mcheck_array\u001b[1;34m(array, accept_sparse, accept_large_sparse, dtype, order, copy, force_all_finite, ensure_2d, allow_nd, ensure_min_samples, ensure_min_features, warn_on_dtype, estimator)\u001b[0m\n\u001b[0;32m    545\u001b[0m                     \u001b[1;34m\"Reshape your data either using array.reshape(-1, 1) if \"\u001b[0m\u001b[1;33m\u001b[0m\u001b[0m\n\u001b[0;32m    546\u001b[0m                     \u001b[1;34m\"your data has a single feature or array.reshape(1, -1) \"\u001b[0m\u001b[1;33m\u001b[0m\u001b[0m\n\u001b[1;32m--> 547\u001b[1;33m                     \"if it contains a single sample.\".format(array))\n\u001b[0m\u001b[0;32m    548\u001b[0m \u001b[1;33m\u001b[0m\u001b[0m\n\u001b[0;32m    549\u001b[0m         \u001b[1;31m# in the future np.flexible dtypes will be handled like object dtypes\u001b[0m\u001b[1;33m\u001b[0m\u001b[1;33m\u001b[0m\u001b[0m\n",
      "\u001b[1;31mValueError\u001b[0m: Expected 2D array, got 1D array instead:\narray=[6.70190000e+08 2.06119000e+08 3.71131000e+08 1.27170000e+08\n 4.21000000e+08 1.67213000e+08 2.00200000e+08 2.59399900e+08\n 3.81000000e+08 1.09550000e+08 9.43900000e+07 4.65871000e+08\n 9.65810000e+07 2.05171100e+08 1.88253000e+08 9.30000000e+07\n 2.19001000e+08 4.59999900e+08 4.23099999e+08 3.27200000e+08\n 1.17620000e+08 4.73899010e+08 1.07888000e+08 1.12568000e+08\n 6.83230000e+08 4.32150000e+08 9.61100000e+07 4.46600000e+08\n 2.32990000e+08 3.03229000e+08 3.36111100e+08 6.00000000e+07\n 7.82100000e+07 5.00000000e+07 1.41879900e+08 1.65616000e+08\n 1.71993667e+08 2.37110000e+08 3.43300000e+08 4.90340000e+08\n 3.43870000e+07 3.01130000e+08 3.77770000e+07 4.25000000e+08\n 2.35041990e+08 1.52900000e+08 3.70000000e+08 4.20399900e+08\n 1.13000000e+08 1.79777000e+08 3.60100000e+08 2.11999990e+08\n 2.45519000e+08 1.51320000e+08 7.91100000e+07 4.51865499e+08\n 1.07635000e+08 1.50001000e+08 8.37770000e+07 2.87670000e+08\n 7.25000000e+07 9.35000000e+07 2.81991301e+08 2.90808000e+08\n 3.94819990e+08 1.78812100e+08 2.35000000e+08 3.85859000e+08\n 9.69789740e+07 2.68879000e+08 2.56888000e+08 3.07700000e+08\n 1.73300000e+08 6.12100000e+08 9.50100000e+07 5.77110000e+07\n 5.64299999e+08 2.08888000e+08 1.90000000e+08 4.06666666e+08\n 2.17500000e+08 3.07200000e+08 7.61100000e+08 2.03899999e+08\n 2.09011000e+08 2.96900000e+08 4.21211110e+08 1.41000000e+08\n 2.77000000e+08 1.65109486e+08 5.76270000e+08 9.59990000e+07\n 4.81777700e+08 2.20500000e+08 1.65300000e+08 8.11111000e+08\n 3.15999000e+08 4.36000000e+08 1.78500000e+08 4.65990000e+08\n 6.28880000e+08 3.69500000e+08 1.80000000e+08 2.00388000e+08\n 1.07110000e+08 9.62111110e+07 2.98293933e+08 5.50399999e+08\n 2.84111000e+08 1.50100000e+08 1.00799000e+08 4.21100000e+08\n 1.94300000e+08 1.32200000e+08 8.61000000e+07 1.64299000e+08\n 3.07100000e+08 2.21000000e+07 1.36600000e+08 1.81799000e+08\n 1.46010000e+08 3.75000000e+08 1.86101000e+08 5.27770000e+08\n 3.35801000e+08 3.05780000e+08 8.62200000e+07 5.40898902e+08\n 5.33330000e+08 9.23000000e+07 2.41811000e+08 2.40001000e+08\n 3.42000000e+08 1.50000000e+08 2.07010000e+08 5.67999900e+08\n 2.06811000e+08 1.70300000e+08 6.65500000e+08 1.06600000e+08\n 3.49999000e+08 2.83670000e+08 1.63000000e+08 5.31990000e+07\n 7.84199000e+07 3.73589990e+08 1.20000000e+08 2.13600000e+08\n 1.84884000e+08 2.61699000e+08 7.26550000e+08 1.80699000e+08\n 1.81000000e+08 1.75000000e+08 2.00020000e+08 2.87000000e+08\n 3.82300000e+08 3.35801000e+08 2.71599999e+08 1.54770000e+08\n 1.50523000e+08 1.20052000e+08 2.55679990e+08 2.00300000e+08\n 3.33000000e+08 3.57100000e+08 1.03770000e+08 1.41999000e+08\n 1.27770000e+08 3.48590000e+08 1.20898802e+08 1.56100000e+08\n 2.92190000e+08 6.23100000e+08 3.34440000e+08 1.96300000e+08\n 2.31490000e+08 1.50000000e+08 2.59790000e+08 1.60190000e+09\n 4.52990000e+08 2.04888800e+08 8.72900000e+07 4.21488000e+07\n 4.53799999e+08 3.51101000e+08 1.75000000e+08 1.43100010e+08\n 1.34100000e+08 8.26111000e+07 1.85100000e+08 8.47770000e+07\n 2.40020020e+08 3.45000000e+08 2.46994968e+08 2.13000000e+08\n 3.52170000e+08 2.32290000e+08 6.02223000e+08 2.92899900e+08\n 2.31700000e+07 1.56688000e+08 3.79399000e+08 1.19770000e+08\n 2.56600000e+08 4.56880000e+08 1.38150000e+08 1.92146000e+08\n 2.01234000e+08 3.13799999e+08 2.58491121e+08 4.25896000e+08\n 4.10000000e+08 6.50000000e+07 1.92150700e+08 1.33980000e+08\n 2.35240000e+07 3.68449000e+08 8.65511100e+07 1.80770000e+08\n 5.35600000e+08 1.58000000e+08 1.04900000e+09 1.26100000e+09\n 8.61300000e+08 5.01100000e+08 6.57770000e+08 4.87100000e+08\n 6.72999000e+08 3.29885000e+08 4.20620000e+08 4.00100000e+08\n 7.03127300e+08 4.26006000e+08 2.43730000e+08 3.41260000e+08\n 2.20006000e+08 1.40050000e+08 2.61110000e+08 1.23300000e+09\n 2.25100000e+08 5.33000000e+08 9.61100000e+08 3.15000000e+08\n 4.22830000e+08 6.20211001e+08 4.43589000e+08 1.50100000e+09\n 1.51389000e+09 6.81421834e+08 5.96100000e+07 3.67780900e+08\n 2.32699900e+08 5.17777700e+08 7.66100000e+08 9.51100000e+08\n 6.11190000e+08 6.60961000e+08 1.44007000e+09 3.73100200e+08\n 5.11888000e+08 1.03116790e+09 1.35338000e+08 3.57520000e+08\n 2.11200000e+08 2.61700000e+08 3.61777700e+08 7.04999990e+08\n 1.39000000e+08 3.84844777e+08 3.23899900e+08 3.72380000e+08\n 4.25123000e+08 6.33590000e+08 3.16000000e+08 1.87690000e+08\n 2.68880000e+08 3.20144000e+08 3.42000101e+08 2.14090000e+08\n 3.16650000e+08 6.27200000e+08 2.74999990e+08 1.51300990e+09\n 3.20400000e+08 2.52200100e+08 4.65000000e+08 6.11000000e+07\n 9.72000000e+08 4.54000100e+08 5.91400000e+08 2.45880000e+08\n 2.58660000e+08 5.35899000e+08 3.63897000e+08 4.03370000e+08\n 4.32110000e+08 2.93320000e+08 4.47529000e+08 1.20110000e+09\n 5.28897000e+08 5.87600000e+08 9.07899900e+08 3.08800000e+08\n 4.61000000e+08 3.20100000e+08 5.20661000e+08 5.21797500e+08\n 3.02220000e+08 2.17220000e+08 7.38880000e+08 6.35999999e+08\n 1.25211000e+09 4.41890000e+08 3.52999990e+08 1.71527000e+08\n 9.60000000e+08 7.74000000e+08 4.50000000e+08 4.32000000e+08\n 7.70900000e+07 2.85110000e+08 8.00000000e+07 1.33500000e+08\n 3.11200000e+08 2.61900001e+08 2.66523000e+08 1.37550000e+09\n 2.87000000e+08 4.02000000e+08 5.03000000e+08 4.25110000e+08\n 2.36041100e+08 5.96512300e+08 5.68030000e+08 4.07879999e+08\n 4.05000000e+08 3.54450000e+08 2.00299990e+08 1.45719000e+09\n 7.77100000e+08 2.13530000e+08 5.61950000e+08 3.40125000e+08\n 7.10199000e+08 2.60200000e+08 4.85999999e+08 1.32700000e+09\n 1.56780000e+08 3.61949700e+08 2.92000000e+08 2.63950000e+08\n 3.91222220e+08 6.00000000e+08 3.81999900e+08 4.36000000e+08\n 2.05100000e+08 4.31049900e+08 7.25550000e+08 1.80500000e+08\n 4.52352000e+08 4.21300100e+08 4.00000000e+08 7.05111000e+08\n 3.30000100e+08 5.05999999e+08 1.07897000e+09 1.64200000e+08\n 8.12470000e+08 7.86000000e+08 3.80336600e+08 1.35474000e+08\n 8.01999000e+08 1.00100000e+09 3.87489000e+08 4.36000000e+08\n 3.83500000e+08 2.02860000e+09 3.76993000e+08 2.29756900e+08\n 3.56999000e+08 2.72533333e+08 7.05600000e+07 3.36800000e+08\n 2.38500000e+09 8.37150000e+08 1.76500000e+09 4.16399900e+08\n 1.41910000e+09 4.33000000e+08 3.53220000e+08 4.53555000e+08\n 4.42999000e+08 8.00800000e+06 5.50990000e+08 4.06777000e+08\n 5.31110000e+08 1.31001000e+09 5.82510000e+08 1.20100000e+08\n 6.66999999e+08 2.71330000e+08 4.21111100e+08 1.60666600e+08\n 2.91500000e+09 1.85200000e+08 7.20100000e+08 2.41650000e+08\n 2.01000000e+08 9.52370000e+08 3.15280000e+08 6.01000000e+08\n 5.11100000e+08 3.17000000e+08 7.21990000e+08 4.62333300e+08\n 5.81110000e+08 3.35199999e+08 4.26000000e+08 6.72100210e+08\n 7.45500000e+08 4.96000000e+08 3.40490000e+09 5.65976820e+08\n 2.92666000e+08 2.35980000e+08 2.91222000e+08 5.13999999e+08\n 5.41220000e+08 6.01411000e+08 3.05999990e+08 4.79870000e+08\n 3.55757000e+08 6.03511000e+08 9.78690000e+08 4.21690000e+08\n 7.03500000e+08 2.67110000e+08 6.00000000e+08 2.31555555e+08\n 4.47100000e+08 4.15000000e+08 3.75200000e+08 4.22100000e+08\n 6.43000100e+08 3.45000000e+08 3.22620000e+08 1.28112000e+09\n 1.95110000e+08 5.71100000e+08 2.96700000e+08 1.44500000e+08\n 6.13999999e+08 2.70702000e+08 3.37020000e+08 2.55100000e+08\n 4.44000000e+08 8.74949490e+08 4.85217000e+08 6.55780000e+08\n 3.20380000e+08 8.30999999e+08 1.80557230e+09 3.11000000e+08\n 5.63523400e+08 4.35863000e+08 4.46666000e+08 6.79799999e+08\n 4.17770000e+08 9.00000000e+08 4.10000000e+08 2.72100000e+08\n 3.56999999e+08 3.41000000e+08 2.51212000e+08 1.07538590e+09\n 7.60888901e+08 2.44190000e+08 1.04688000e+09 8.78999000e+08\n 4.02500000e+08 4.24320000e+08 5.29990000e+08 5.88699000e+08\n 7.26110000e+08 8.83599900e+08 3.37100000e+08 2.78001000e+08\n 3.36100001e+08 2.63510000e+08 6.78450000e+08 7.60999999e+08\n 4.85675000e+08 9.50000000e+08 3.82000000e+08 1.30389000e+09\n 1.71782000e+09 4.14289000e+08 6.23600000e+08 4.62210000e+08\n 1.45000000e+09 4.27359000e+08 2.53169000e+08 9.93710000e+08\n 5.24370000e+08 3.73000000e+08 4.32000000e+08 1.43300000e+09\n 7.00000000e+07 2.51100200e+08 4.32000000e+08 6.66000000e+08\n 1.77866000e+09 1.53800000e+09 2.26890000e+08 4.12000000e+08\n 6.60000000e+08 9.36000100e+08 4.82500100e+08 6.10505500e+08\n 4.66666000e+08 8.95000000e+08 2.15500000e+08 3.28999000e+08\n 1.68100000e+08 3.51970000e+08 8.91990000e+08 3.57200000e+08\n 2.95480000e+08 4.74643260e+08 1.62111000e+09 1.95888000e+08\n 1.64100000e+08 3.11124221e+09 3.82000000e+08 6.70000000e+08\n 1.31155000e+09 4.51150000e+08 8.25100000e+08 3.43890000e+08\n 4.76199900e+08 1.11450000e+08 5.35555500e+08 6.04610000e+08\n 4.85000000e+08 3.02700000e+08 3.12600100e+08 3.65200000e+09\n 2.44590000e+08 1.15799000e+09 9.50000000e+08 1.31579000e+09\n 5.68419999e+08 3.02359900e+08 8.11790000e+08 4.80160000e+08\n 1.20000000e+08 4.03990000e+08 2.14120000e+08 4.10320000e+08\n 2.95110000e+08 9.66000100e+08 6.56500000e+08 4.07055550e+08\n 3.21690000e+08 2.75370000e+08 1.55185000e+09 4.96000000e+08\n 3.08927020e+08 6.24900000e+08 6.59999999e+08 1.92000000e+08\n 2.76000000e+08 3.86990000e+08 5.01900000e+08 4.02000000e+08\n 2.87100000e+08 1.27990000e+09 7.00570000e+08 1.40000000e+09\n 2.82110000e+08 9.89800000e+08 3.31100000e+08 2.71000000e+08\n 3.85188800e+08 4.58605170e+08 5.67010000e+08 3.49181000e+08\n 5.05001000e+08 3.84799999e+08 3.75000000e+08 9.53000000e+08\n 3.42320000e+08 3.28500000e+08 4.09110000e+08 4.81210000e+08\n 9.33000000e+08 1.92111000e+08 1.07811000e+09 5.23680790e+08\n 1.68000000e+09 3.02810000e+08 3.85230000e+08 3.23999999e+08\n 3.38690000e+08 2.56897000e+08 7.51600000e+08 2.14110000e+08\n 6.56100000e+08 1.50100000e+09 1.49589000e+09 4.35115000e+08\n 9.53111111e+08 1.76290000e+08 4.06890000e+08 2.75200000e+08\n 2.44440000e+08 3.31000000e+08 5.38888000e+08 5.12780000e+08\n 4.43190000e+08 3.94160000e+08 7.13500000e+08 9.88900000e+08\n 1.50900000e+08 8.10000000e+08 5.35880000e+08 6.83000000e+08\n 2.13737800e+08 1.40000000e+09 1.62100000e+08 3.97840000e+08\n 1.83210000e+08 3.13999990e+08 4.10270000e+08 1.42500030e+09\n 2.32500000e+08 1.16000000e+08 3.58130000e+08 4.13000000e+08\n 7.42260000e+08 2.86274400e+08 3.28500000e+08 2.73570000e+08\n 7.38560000e+08 1.56020000e+09 2.75599999e+08 5.44000000e+08\n 3.80800000e+08 8.03555555e+08 3.23200000e+08 3.30100000e+08\n 1.33111000e+09 3.21000001e+08 2.91000000e+08 5.12500000e+08\n 4.17800000e+08 2.73333333e+08 5.43250000e+08 1.54299000e+09\n 5.68999000e+08 6.85198000e+08 3.90000000e+08 3.07000000e+08\n 1.18999900e+09 1.15100000e+09 6.90100000e+07 2.46200100e+08\n 4.15110000e+08 3.86666000e+08 5.34000000e+08 1.42769599e+09\n 9.75019900e+08 3.71999000e+08 6.83800000e+08 6.60530000e+08\n 1.56180000e+09 1.01600000e+08 1.20000000e+09 4.32700000e+08\n 8.32100000e+08 3.00015000e+08 4.53616100e+08 9.56550000e+07\n 4.02500000e+08 0.00000000e+00 0.00000000e+00 0.00000000e+00\n 0.00000000e+00 0.00000000e+00 0.00000000e+00 0.00000000e+00\n 0.00000000e+00 0.00000000e+00 0.00000000e+00 0.00000000e+00\n 0.00000000e+00 0.00000000e+00 0.00000000e+00 0.00000000e+00\n 0.00000000e+00 0.00000000e+00 0.00000000e+00 0.00000000e+00\n 0.00000000e+00 0.00000000e+00 0.00000000e+00 0.00000000e+00\n 0.00000000e+00 0.00000000e+00 0.00000000e+00 0.00000000e+00\n 0.00000000e+00 0.00000000e+00 0.00000000e+00 0.00000000e+00\n 0.00000000e+00 0.00000000e+00 0.00000000e+00 0.00000000e+00\n 0.00000000e+00 0.00000000e+00 0.00000000e+00 0.00000000e+00\n 0.00000000e+00 0.00000000e+00 0.00000000e+00 0.00000000e+00\n 0.00000000e+00 0.00000000e+00 0.00000000e+00 0.00000000e+00\n 0.00000000e+00 0.00000000e+00 0.00000000e+00 0.00000000e+00\n 0.00000000e+00 0.00000000e+00 0.00000000e+00 0.00000000e+00\n 0.00000000e+00 0.00000000e+00 0.00000000e+00 0.00000000e+00\n 0.00000000e+00 0.00000000e+00 0.00000000e+00 0.00000000e+00\n 0.00000000e+00 0.00000000e+00 0.00000000e+00 0.00000000e+00\n 0.00000000e+00 0.00000000e+00 0.00000000e+00 0.00000000e+00\n 0.00000000e+00 0.00000000e+00 0.00000000e+00 0.00000000e+00\n 0.00000000e+00 0.00000000e+00 0.00000000e+00 0.00000000e+00\n 0.00000000e+00 0.00000000e+00 0.00000000e+00 0.00000000e+00\n 0.00000000e+00 0.00000000e+00 0.00000000e+00 0.00000000e+00\n 0.00000000e+00 0.00000000e+00 0.00000000e+00 0.00000000e+00\n 0.00000000e+00 0.00000000e+00 0.00000000e+00 0.00000000e+00\n 0.00000000e+00 0.00000000e+00 0.00000000e+00 0.00000000e+00\n 0.00000000e+00 0.00000000e+00 0.00000000e+00 0.00000000e+00\n 0.00000000e+00 0.00000000e+00 0.00000000e+00 0.00000000e+00\n 0.00000000e+00 0.00000000e+00 0.00000000e+00 0.00000000e+00\n 0.00000000e+00 0.00000000e+00 0.00000000e+00 0.00000000e+00\n 0.00000000e+00 0.00000000e+00 0.00000000e+00 0.00000000e+00\n 0.00000000e+00 0.00000000e+00 0.00000000e+00 0.00000000e+00\n 0.00000000e+00 0.00000000e+00 0.00000000e+00 0.00000000e+00\n 0.00000000e+00 0.00000000e+00 0.00000000e+00 0.00000000e+00\n 0.00000000e+00 0.00000000e+00 0.00000000e+00 0.00000000e+00\n 0.00000000e+00 0.00000000e+00 0.00000000e+00 0.00000000e+00\n 0.00000000e+00 0.00000000e+00 0.00000000e+00 0.00000000e+00\n 0.00000000e+00 0.00000000e+00 0.00000000e+00 0.00000000e+00\n 0.00000000e+00 0.00000000e+00 0.00000000e+00 0.00000000e+00\n 0.00000000e+00 0.00000000e+00 0.00000000e+00 0.00000000e+00\n 0.00000000e+00 0.00000000e+00 0.00000000e+00 0.00000000e+00\n 0.00000000e+00 0.00000000e+00 0.00000000e+00 0.00000000e+00\n 0.00000000e+00 0.00000000e+00 0.00000000e+00 0.00000000e+00\n 0.00000000e+00 0.00000000e+00 0.00000000e+00 0.00000000e+00\n 0.00000000e+00 0.00000000e+00 0.00000000e+00 0.00000000e+00\n 0.00000000e+00 0.00000000e+00 0.00000000e+00 0.00000000e+00\n 0.00000000e+00 0.00000000e+00 0.00000000e+00 0.00000000e+00\n 0.00000000e+00 0.00000000e+00 0.00000000e+00 0.00000000e+00\n 0.00000000e+00 0.00000000e+00 0.00000000e+00 0.00000000e+00\n 0.00000000e+00 0.00000000e+00 0.00000000e+00 0.00000000e+00\n 0.00000000e+00 0.00000000e+00 0.00000000e+00 0.00000000e+00\n 0.00000000e+00 0.00000000e+00 0.00000000e+00 0.00000000e+00\n 0.00000000e+00 0.00000000e+00 0.00000000e+00 0.00000000e+00\n 0.00000000e+00 0.00000000e+00 0.00000000e+00 0.00000000e+00\n 0.00000000e+00 0.00000000e+00 0.00000000e+00 0.00000000e+00\n 0.00000000e+00 0.00000000e+00 0.00000000e+00 0.00000000e+00\n 0.00000000e+00 0.00000000e+00 0.00000000e+00 0.00000000e+00\n 0.00000000e+00 0.00000000e+00 0.00000000e+00 0.00000000e+00\n 0.00000000e+00 0.00000000e+00 0.00000000e+00 0.00000000e+00\n 0.00000000e+00 0.00000000e+00 0.00000000e+00 0.00000000e+00\n 0.00000000e+00 0.00000000e+00 0.00000000e+00 0.00000000e+00\n 0.00000000e+00 0.00000000e+00 0.00000000e+00 0.00000000e+00\n 0.00000000e+00 0.00000000e+00 0.00000000e+00 0.00000000e+00\n 0.00000000e+00 0.00000000e+00 0.00000000e+00 0.00000000e+00\n 0.00000000e+00 0.00000000e+00 0.00000000e+00 0.00000000e+00\n 0.00000000e+00 0.00000000e+00 0.00000000e+00 0.00000000e+00\n 0.00000000e+00 0.00000000e+00 0.00000000e+00 0.00000000e+00\n 0.00000000e+00 0.00000000e+00 0.00000000e+00 0.00000000e+00\n 0.00000000e+00 0.00000000e+00 0.00000000e+00 0.00000000e+00\n 0.00000000e+00 0.00000000e+00 0.00000000e+00].\nReshape your data either using array.reshape(-1, 1) if your data has a single feature or array.reshape(1, -1) if it contains a single sample."
     ]
    }
   ],
   "source": [
    "from sklearn.preprocessing import MinMaxScaler\n",
    "scale = MinMaxScaler()\n",
    "AM_train1[conti_featrues] = scale.fit_transform(AM_train1[conti_featrues])\n",
    "#AM_train2[conti_featrues] = scale.fit_transform(AM_train2[conti_featrues])\n",
    "\n",
    "X = pd.concat([AM_train1[conti_featrues], pd.get_dummies(AM_train1[cate_features])], axis= 1)\n",
    "y = scale.fit_transform(AM_train1.Hammer_price)\n",
    "X.shape, y.shape"
   ]
  },
  {
   "cell_type": "code",
   "execution_count": 24,
   "metadata": {},
   "outputs": [
    {
     "data": {
      "text/plain": [
       "((1800, 23), (1800,))"
      ]
     },
     "execution_count": 24,
     "metadata": {},
     "output_type": "execute_result"
    }
   ],
   "source": [
    "X2 = pd.concat([AM_train2[conti_featrues2], pd.get_dummies(AM_train2[cate_features2])], axis= 1)\n",
    "y2 = scale.fit_transform(AM_train2.Hammer_price.values)\n",
    "X2.shape, y2.shape"
   ]
  },
  {
   "cell_type": "code",
   "execution_count": 25,
   "metadata": {},
   "outputs": [],
   "source": [
    "X_train, y_train = X.values[np.where(y != 0)], y[np.where(y != 0)]\n",
    "X_test, _ = X.values[np.where(y == 0)], y[np.where(y == 0)]\n",
    "X_train.shape, y_train.shape, X_test.shape\n",
    "\n",
    "rf_rg = Ridge(alpha=0.01, fit_intercept=False)\n",
    "rf_rg.fit(X_train, y_train)\n",
    "y_pred = rf_rg.predict(X_test).tolist()\n",
    "submit_id = AM_train1.loc[AM_train1.Hammer_price == 0].Auction_key.tolist()\n",
    "submit = pd.DataFrame({'Auction_key' : submit_id, 'Hammer_price' : y_pred})#.to_csv(\"C:\\\\Users\\\\i2013\\\\OneDrive\\\\바탕 화면\\\\1119_submit2.csv\", index = False)"
   ]
  },
  {
   "cell_type": "code",
   "execution_count": 26,
   "metadata": {},
   "outputs": [
    {
     "data": {
      "text/plain": [
       "((1800, 23), (1800,))"
      ]
     },
     "execution_count": 26,
     "metadata": {},
     "output_type": "execute_result"
    }
   ],
   "source": [
    "from sklearn.preprocessing import MinMaxScaler\n",
    "scale = MinMaxScaler()\n",
    "AM_train2[conti_featrues2] = scale.fit_transform(AM_train2[conti_featrues2])\n",
    "#AM_train2[conti_featrues] = scale.fit_transform(AM_train2[conti_featrues])\n",
    "X2 = pd.concat([AM_train2[conti_featrues2], pd.get_dummies(AM_train2[cate_features2])], axis= 1)\n",
    "y2 = AM_train2.Hammer_price.values\n",
    "X2.shape, y2.shape"
   ]
  },
  {
   "cell_type": "code",
   "execution_count": 27,
   "metadata": {},
   "outputs": [],
   "source": [
    "X_train, y_train = X2.values[np.where(y2 != 0)], y2[np.where(y2 != 0)]\n",
    "X_test, _ = X2.values[np.where(y2 == 0)], y2[np.where(y == 0)]\n",
    "X_train.shape, y_train.shape, X_test.shape\n",
    "\n",
    "rf_rg = Ridge(alpha=0.01, fit_intercept=False)\n",
    "rf_rg.fit(X_train, y_train)\n",
    "y_pred = rf_rg.predict(X_test).tolist()\n",
    "submit_id = AM_train2.loc[AM_train2.Hammer_price == 0].Auction_key.tolist()\n",
    "submit2 = pd.DataFrame({'Auction_key' : submit_id, 'Hammer_price' : y_pred})#.to_csv(\"C:\\\\Users\\\\i2013\\\\OneDrive\\\\바탕 화면\\\\1118_submit6.csv\", index = False)\n",
    "\n",
    "pd.concat([submit, submit2], axis = 0).to_csv(\"C:\\\\Users\\\\i2013\\\\OneDrive\\\\바탕 화면\\\\1127_submit_.csv\", index = False)"
   ]
  },
  {
   "cell_type": "code",
   "execution_count": null,
   "metadata": {},
   "outputs": [],
   "source": []
  },
  {
   "cell_type": "code",
   "execution_count": null,
   "metadata": {},
   "outputs": [],
   "source": []
  }
 ],
 "metadata": {
  "kernelspec": {
   "display_name": "Python 3",
   "language": "python",
   "name": "python3"
  },
  "language_info": {
   "codemirror_mode": {
    "name": "ipython",
    "version": 3
   },
   "file_extension": ".py",
   "mimetype": "text/x-python",
   "name": "python",
   "nbconvert_exporter": "python",
   "pygments_lexer": "ipython3",
   "version": "3.6.5"
  }
 },
 "nbformat": 4,
 "nbformat_minor": 2
}
