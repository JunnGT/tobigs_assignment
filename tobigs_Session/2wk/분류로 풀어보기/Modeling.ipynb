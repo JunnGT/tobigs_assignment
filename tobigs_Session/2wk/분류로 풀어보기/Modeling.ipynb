{
 "cells": [
  {
   "cell_type": "markdown",
   "metadata": {},
   "source": [
    "## 저번주에 드린 아파트 경매 데이터를 EDA(탐색적 데이터 분석)을 통해 분석 및 예측 해보세요\n",
    "## Cf) 탐색적 데이터 분석 (https://statkclee.github.io/ml/ml-eda.html)\n",
    "- *Hammer price를 정렬하여 상위 50%는 1, 하위 50%는 2로 변환 후 분류하시면 됩니다\n",
    "- *모델은 로지스틱 회귀, 나이브 베이즈, SVM, knn을 쓰시면 되며, 모델 예측 외의 필요로 쓰이는 모델은 자유입니다\n",
    "- *언어는 자유입니다(R , python)\n",
    "- *참조자료로 드리는 코드 및, 우수과제로 선정된 코드, 저번에 드린 회장님 EDA코드 모두 참조하셔도 되며,\n",
    "- 부분적으로 copy도 허용합니다\n",
    "- *전처리와 파생변수 제작, 변수 선택 등에 자신만의 근거가 있으면 좋을 것 같습니다\n",
    "- *예측 후 모델 간 비교 해보세요\n",
    "- *grid search는 필수입니다(svm과 knn)\n",
    "- *정확도를 5-fold로 검증하시면 됩니다\n",
    "- 다른분들이 데이터를 보고 어떤 고민을 하는지 보고 따라해보시면 금방 느실겁니다"
   ]
  },
  {
   "cell_type": "markdown",
   "metadata": {},
   "source": [
    "# Data Loading"
   ]
  },
  {
   "cell_type": "code",
   "execution_count": 246,
   "metadata": {},
   "outputs": [
    {
     "name": "stdout",
     "output_type": "stream",
     "text": [
      "Shape of AM_train is  (1933, 26)\n"
     ]
    }
   ],
   "source": [
    "import pickle\n",
    "import numpy as np\n",
    "import pandas as pd\n",
    "\n",
    "def warn(*args, **kwargs):\n",
    "    pass\n",
    "import warnings\n",
    "warnings.warn = warn\n",
    "\n",
    "with open('AM_train.pickle' , 'rb') as f:\n",
    "    AM_train = pickle.load(f)\n",
    "    \n",
    "print(\"Shape of AM_train is \", AM_train.shape)"
   ]
  },
  {
   "cell_type": "markdown",
   "metadata": {},
   "source": [
    "# Feature Selection"
   ]
  },
  {
   "cell_type": "code",
   "execution_count": 247,
   "metadata": {},
   "outputs": [],
   "source": [
    "feat = ['Auction_class','Claim_price','Auction_count','Auction_miscarriage_count','Total_land_gross_area',\n",
    "        'Total_land_real_area','Total_land_auction_area','Total_building_area','Total_building_auction_area',\n",
    "        'Total_appraisal_price','Minimum_sales_price','point.x','point.y', 'Bid_class_개별', 'Bid_class_일괄', 'Bid_class_일반']\n",
    "\n",
    "# Feature Selection 이 조합이 가장 성능이 좋았음."
   ]
  },
  {
   "cell_type": "code",
   "execution_count": 248,
   "metadata": {
    "scrolled": true
   },
   "outputs": [],
   "source": [
    "X = AM_train[feat].values\n",
    "y = AM_train['Hammer_price'].values"
   ]
  },
  {
   "cell_type": "code",
   "execution_count": 249,
   "metadata": {},
   "outputs": [
    {
     "data": {
      "text/plain": [
       "1    967\n",
       "0    966\n",
       "Name: Hammer_price, dtype: int64"
      ]
     },
     "execution_count": 249,
     "metadata": {},
     "output_type": "execute_result"
    }
   ],
   "source": [
    "AM_train.Hammer_price.value_counts()"
   ]
  },
  {
   "cell_type": "code",
   "execution_count": 250,
   "metadata": {},
   "outputs": [],
   "source": [
    "# X = AM_train.drop(columns=['Hammer_price']).values\n",
    "# y = AM_train['Hammer_price'].values\n",
    "# X.shape, y.shape"
   ]
  },
  {
   "cell_type": "code",
   "execution_count": 251,
   "metadata": {},
   "outputs": [],
   "source": [
    "from sklearn.linear_model import LogisticRegression\n",
    "from sklearn.naive_bayes import GaussianNB\n",
    "from sklearn.neighbors import KNeighborsClassifier\n",
    "from sklearn.svm import SVC\n",
    "from sklearn.model_selection import GridSearchCV, cross_val_score\n",
    "from sklearn.metrics import accuracy_score, f1_score, classification_report, confusion_matrix\n",
    "from sklearn.ensemble import RandomForestClassifier\n",
    "from sklearn.pipeline import Pipeline\n",
    "from sklearn.pipeline import make_pipeline"
   ]
  },
  {
   "cell_type": "markdown",
   "metadata": {},
   "source": [
    "# Modeling - Naive, KNN, SVM, 3Meta Ensemble"
   ]
  },
  {
   "cell_type": "markdown",
   "metadata": {},
   "source": [
    "## 1. Default모델"
   ]
  },
  {
   "cell_type": "code",
   "execution_count": 252,
   "metadata": {},
   "outputs": [],
   "source": [
    "from sklearn.ensemble import VotingClassifier"
   ]
  },
  {
   "cell_type": "code",
   "execution_count": 259,
   "metadata": {},
   "outputs": [],
   "source": [
    "clf1 = GaussianNB()\n",
    "clf2 = KNeighborsClassifier(n_jobs=-1)\n",
    "clf3 = SVC()\n",
    "eclf = VotingClassifier(estimators=[('NB', clf1), ('KNN', clf2), ('SVM', clf3)], voting='hard')"
   ]
  },
  {
   "cell_type": "code",
   "execution_count": 260,
   "metadata": {},
   "outputs": [
    {
     "name": "stdout",
     "output_type": "stream",
     "text": [
      "Accuracy of NB is 0.8093053483444574\n"
     ]
    }
   ],
   "source": [
    "print(\"Accuracy of NB is\",cross_val_score(clf1, X, y, cv=5).mean())"
   ]
  },
  {
   "cell_type": "code",
   "execution_count": 261,
   "metadata": {},
   "outputs": [
    {
     "name": "stdout",
     "output_type": "stream",
     "text": [
      "Accuracy of KNN is 0.8258000142718587\n"
     ]
    }
   ],
   "source": [
    "print(\"Accuracy of KNN is\",cross_val_score(clf2, X, y, cv=5).mean())"
   ]
  },
  {
   "cell_type": "code",
   "execution_count": 262,
   "metadata": {},
   "outputs": [
    {
     "name": "stdout",
     "output_type": "stream",
     "text": [
      "Accuracy of SVM is 0.7174643724585155\n"
     ]
    }
   ],
   "source": [
    "print(\"Accuracy of SVM is\",cross_val_score(clf3, X, y, cv=5).mean())"
   ]
  },
  {
   "cell_type": "code",
   "execution_count": 258,
   "metadata": {},
   "outputs": [
    {
     "name": "stderr",
     "output_type": "stream",
     "text": [
      "C:\\Users\\korea\\Anaconda3\\lib\\site-packages\\sklearn\\preprocessing\\label.py:151: DeprecationWarning: The truth value of an empty array is ambiguous. Returning False, but in future this will result in an error. Use `array.size > 0` to check that an array is not empty.\n",
      "  if diff:\n",
      "C:\\Users\\korea\\Anaconda3\\lib\\site-packages\\sklearn\\preprocessing\\label.py:151: DeprecationWarning: The truth value of an empty array is ambiguous. Returning False, but in future this will result in an error. Use `array.size > 0` to check that an array is not empty.\n",
      "  if diff:\n",
      "C:\\Users\\korea\\Anaconda3\\lib\\site-packages\\sklearn\\preprocessing\\label.py:151: DeprecationWarning: The truth value of an empty array is ambiguous. Returning False, but in future this will result in an error. Use `array.size > 0` to check that an array is not empty.\n",
      "  if diff:\n",
      "C:\\Users\\korea\\Anaconda3\\lib\\site-packages\\sklearn\\preprocessing\\label.py:151: DeprecationWarning: The truth value of an empty array is ambiguous. Returning False, but in future this will result in an error. Use `array.size > 0` to check that an array is not empty.\n",
      "  if diff:\n"
     ]
    },
    {
     "name": "stdout",
     "output_type": "stream",
     "text": [
      "3 Model Ensemble is 0.8330512294847212\n"
     ]
    },
    {
     "name": "stderr",
     "output_type": "stream",
     "text": [
      "C:\\Users\\korea\\Anaconda3\\lib\\site-packages\\sklearn\\preprocessing\\label.py:151: DeprecationWarning: The truth value of an empty array is ambiguous. Returning False, but in future this will result in an error. Use `array.size > 0` to check that an array is not empty.\n",
      "  if diff:\n"
     ]
    }
   ],
   "source": [
    "print(\"3 Model Ensemble is\",cross_val_score(eclf, X, y, cv=5).mean())"
   ]
  },
  {
   "cell_type": "markdown",
   "metadata": {},
   "source": [
    "## 2. Hyperparameter Tuning - GRID SEARCH 실시"
   ]
  },
  {
   "cell_type": "code",
   "execution_count": 71,
   "metadata": {},
   "outputs": [],
   "source": [
    "algorithmes = [KNeighborsClassifier(), SVC()]\n",
    "params = []\n",
    "params.append({'n_neighbors' : [int(i) for i in np.linspace(1, 20, 20)]})\n",
    "params.append({'kernel': ['rbf'], 'gamma': np.linspace(9,12, 10),\n",
    "                     'C': np.linspace(170, 180, 10)})"
   ]
  },
  {
   "cell_type": "code",
   "execution_count": 72,
   "metadata": {},
   "outputs": [
    {
     "data": {
      "text/plain": [
       "[{'n_neighbors': [1,\n",
       "   2,\n",
       "   3,\n",
       "   4,\n",
       "   5,\n",
       "   6,\n",
       "   7,\n",
       "   8,\n",
       "   9,\n",
       "   10,\n",
       "   11,\n",
       "   12,\n",
       "   13,\n",
       "   14,\n",
       "   15,\n",
       "   16,\n",
       "   17,\n",
       "   18,\n",
       "   19,\n",
       "   20]},\n",
       " {'kernel': ['rbf'],\n",
       "  'gamma': array([ 9.        ,  9.33333333,  9.66666667, 10.        , 10.33333333,\n",
       "         10.66666667, 11.        , 11.33333333, 11.66666667, 12.        ]),\n",
       "  'C': array([170.        , 171.11111111, 172.22222222, 173.33333333,\n",
       "         174.44444444, 175.55555556, 176.66666667, 177.77777778,\n",
       "         178.88888889, 180.        ])}]"
      ]
     },
     "execution_count": 72,
     "metadata": {},
     "output_type": "execute_result"
    }
   ],
   "source": [
    "params"
   ]
  },
  {
   "cell_type": "code",
   "execution_count": 73,
   "metadata": {},
   "outputs": [
    {
     "name": "stdout",
     "output_type": "stream",
     "text": [
      "GridSearchCV(cv=5, error_score='raise',\n",
      "       estimator=KNeighborsClassifier(algorithm='auto', leaf_size=30, metric='minkowski',\n",
      "           metric_params=None, n_jobs=1, n_neighbors=5, p=2,\n",
      "           weights='uniform'),\n",
      "       fit_params=None, iid=True, n_jobs=-1,\n",
      "       param_grid={'n_neighbors': [1, 2, 3, 4, 5, 6, 7, 8, 9, 10, 11, 12, 13, 14, 15, 16, 17, 18, 19, 20]},\n",
      "       pre_dispatch='2*n_jobs', refit='accuracy',\n",
      "       return_train_score='warn', scoring=['accuracy'], verbose=1)\n",
      "Fitting 5 folds for each of 20 candidates, totalling 100 fits\n"
     ]
    },
    {
     "name": "stderr",
     "output_type": "stream",
     "text": [
      "[Parallel(n_jobs=-1)]: Done 100 out of 100 | elapsed:    2.7s finished\n"
     ]
    },
    {
     "name": "stdout",
     "output_type": "stream",
     "text": [
      "GridSearchCV(cv=5, error_score='raise',\n",
      "       estimator=SVC(C=1.0, cache_size=200, class_weight=None, coef0=0.0,\n",
      "  decision_function_shape='ovr', degree=3, gamma='auto', kernel='rbf',\n",
      "  max_iter=-1, probability=False, random_state=None, shrinking=True,\n",
      "  tol=0.001, verbose=False),\n",
      "       fit_params=None, iid=True, n_jobs=-1,\n",
      "       param_grid={'kernel': ['rbf'], 'gamma': array([ 9.     ,  9.33333,  9.66667, 10.     , 10.33333, 10.66667,\n",
      "       11.     , 11.33333, 11.66667, 12.     ]), 'C': array([170.     , 171.11111, 172.22222, 173.33333, 174.44444, 175.55556,\n",
      "       176.66667, 177.77778, 178.88889, 180.     ])},\n",
      "       pre_dispatch='2*n_jobs', refit='accuracy',\n",
      "       return_train_score='warn', scoring=['accuracy'], verbose=1)\n",
      "Fitting 5 folds for each of 100 candidates, totalling 500 fits\n"
     ]
    },
    {
     "name": "stderr",
     "output_type": "stream",
     "text": [
      "[Parallel(n_jobs=-1)]: Done  80 tasks      | elapsed:    2.4s\n",
      "[Parallel(n_jobs=-1)]: Done 500 out of 500 | elapsed:    6.5s finished\n"
     ]
    }
   ],
   "source": [
    "from sklearn.model_selection import GridSearchCV\n",
    "\n",
    "scoring = ['accuracy']\n",
    "estimator_results = []\n",
    "\n",
    "for i, (estimator, params) in enumerate(zip(algorithmes,params)):\n",
    "    gs_estimator = GridSearchCV(\n",
    "            refit=\"accuracy\", estimator=estimator, param_grid=params, scoring=scoring, cv=5, verbose=1, n_jobs=-1)\n",
    "    print(gs_estimator)\n",
    "\n",
    "    gs_estimator.fit(X, y)\n",
    "    estimator_results.append(gs_estimator)"
   ]
  },
  {
   "cell_type": "code",
   "execution_count": 79,
   "metadata": {},
   "outputs": [
    {
     "data": {
      "text/plain": [
       "0.8292809105018106"
      ]
     },
     "execution_count": 79,
     "metadata": {},
     "output_type": "execute_result"
    }
   ],
   "source": [
    "estimator_results[0].best_score_ # KNN의 가장 좋은 성능"
   ]
  },
  {
   "cell_type": "code",
   "execution_count": 77,
   "metadata": {},
   "outputs": [
    {
     "data": {
      "text/plain": [
       "{'n_neighbors': 4}"
      ]
     },
     "execution_count": 77,
     "metadata": {},
     "output_type": "execute_result"
    }
   ],
   "source": [
    "estimator_results[0].best_params_ # k=4일때 가장 좋았다."
   ]
  },
  {
   "cell_type": "code",
   "execution_count": 75,
   "metadata": {},
   "outputs": [
    {
     "data": {
      "text/plain": [
       "0.8867046042421107"
      ]
     },
     "execution_count": 75,
     "metadata": {},
     "output_type": "execute_result"
    }
   ],
   "source": [
    "estimator_results[1].best_score_ # SVM의 가장 좋은 성능"
   ]
  },
  {
   "cell_type": "code",
   "execution_count": 80,
   "metadata": {},
   "outputs": [
    {
     "data": {
      "text/plain": [
       "{'C': 171.11111111111111, 'gamma': 11.333333333333332, 'kernel': 'rbf'}"
      ]
     },
     "execution_count": 80,
     "metadata": {},
     "output_type": "execute_result"
    }
   ],
   "source": [
    "estimator_results[1].best_params_ #아래와 같을때 가장 좋음"
   ]
  },
  {
   "cell_type": "code",
   "execution_count": 203,
   "metadata": {},
   "outputs": [
    {
     "data": {
      "text/html": [
       "<div>\n",
       "<style scoped>\n",
       "    .dataframe tbody tr th:only-of-type {\n",
       "        vertical-align: middle;\n",
       "    }\n",
       "\n",
       "    .dataframe tbody tr th {\n",
       "        vertical-align: top;\n",
       "    }\n",
       "\n",
       "    .dataframe thead th {\n",
       "        text-align: right;\n",
       "    }\n",
       "</style>\n",
       "<table border=\"1\" class=\"dataframe\">\n",
       "  <thead>\n",
       "    <tr style=\"text-align: right;\">\n",
       "      <th></th>\n",
       "      <th>model</th>\n",
       "      <th>accuracy</th>\n",
       "      <th>n_neighbors</th>\n",
       "      <th>C</th>\n",
       "      <th>gamma</th>\n",
       "      <th>kernel</th>\n",
       "    </tr>\n",
       "  </thead>\n",
       "  <tbody>\n",
       "    <tr>\n",
       "      <th>37</th>\n",
       "      <td>SVM</td>\n",
       "      <td>0.886705</td>\n",
       "      <td>NaN</td>\n",
       "      <td>171.111111</td>\n",
       "      <td>11.333333</td>\n",
       "      <td>rbf</td>\n",
       "    </tr>\n",
       "    <tr>\n",
       "      <th>96</th>\n",
       "      <td>SVM</td>\n",
       "      <td>0.886705</td>\n",
       "      <td>NaN</td>\n",
       "      <td>177.777778</td>\n",
       "      <td>11.000000</td>\n",
       "      <td>rbf</td>\n",
       "    </tr>\n",
       "    <tr>\n",
       "      <th>86</th>\n",
       "      <td>SVM</td>\n",
       "      <td>0.886705</td>\n",
       "      <td>NaN</td>\n",
       "      <td>176.666667</td>\n",
       "      <td>11.000000</td>\n",
       "      <td>rbf</td>\n",
       "    </tr>\n",
       "    <tr>\n",
       "      <th>47</th>\n",
       "      <td>SVM</td>\n",
       "      <td>0.886705</td>\n",
       "      <td>NaN</td>\n",
       "      <td>172.222222</td>\n",
       "      <td>11.333333</td>\n",
       "      <td>rbf</td>\n",
       "    </tr>\n",
       "    <tr>\n",
       "      <th>76</th>\n",
       "      <td>SVM</td>\n",
       "      <td>0.886705</td>\n",
       "      <td>NaN</td>\n",
       "      <td>175.555556</td>\n",
       "      <td>11.000000</td>\n",
       "      <td>rbf</td>\n",
       "    </tr>\n",
       "    <tr>\n",
       "      <th>57</th>\n",
       "      <td>SVM</td>\n",
       "      <td>0.886705</td>\n",
       "      <td>NaN</td>\n",
       "      <td>173.333333</td>\n",
       "      <td>11.333333</td>\n",
       "      <td>rbf</td>\n",
       "    </tr>\n",
       "    <tr>\n",
       "      <th>66</th>\n",
       "      <td>SVM</td>\n",
       "      <td>0.886705</td>\n",
       "      <td>NaN</td>\n",
       "      <td>174.444444</td>\n",
       "      <td>11.000000</td>\n",
       "      <td>rbf</td>\n",
       "    </tr>\n",
       "    <tr>\n",
       "      <th>106</th>\n",
       "      <td>SVM</td>\n",
       "      <td>0.886705</td>\n",
       "      <td>NaN</td>\n",
       "      <td>178.888889</td>\n",
       "      <td>11.000000</td>\n",
       "      <td>rbf</td>\n",
       "    </tr>\n",
       "    <tr>\n",
       "      <th>105</th>\n",
       "      <td>SVM</td>\n",
       "      <td>0.886187</td>\n",
       "      <td>NaN</td>\n",
       "      <td>178.888889</td>\n",
       "      <td>10.666667</td>\n",
       "      <td>rbf</td>\n",
       "    </tr>\n",
       "    <tr>\n",
       "      <th>38</th>\n",
       "      <td>SVM</td>\n",
       "      <td>0.886187</td>\n",
       "      <td>NaN</td>\n",
       "      <td>171.111111</td>\n",
       "      <td>11.666667</td>\n",
       "      <td>rbf</td>\n",
       "    </tr>\n",
       "    <tr>\n",
       "      <th>28</th>\n",
       "      <td>SVM</td>\n",
       "      <td>0.886187</td>\n",
       "      <td>NaN</td>\n",
       "      <td>170.000000</td>\n",
       "      <td>11.666667</td>\n",
       "      <td>rbf</td>\n",
       "    </tr>\n",
       "    <tr>\n",
       "      <th>27</th>\n",
       "      <td>SVM</td>\n",
       "      <td>0.886187</td>\n",
       "      <td>NaN</td>\n",
       "      <td>170.000000</td>\n",
       "      <td>11.333333</td>\n",
       "      <td>rbf</td>\n",
       "    </tr>\n",
       "    <tr>\n",
       "      <th>48</th>\n",
       "      <td>SVM</td>\n",
       "      <td>0.886187</td>\n",
       "      <td>NaN</td>\n",
       "      <td>172.222222</td>\n",
       "      <td>11.666667</td>\n",
       "      <td>rbf</td>\n",
       "    </tr>\n",
       "    <tr>\n",
       "      <th>56</th>\n",
       "      <td>SVM</td>\n",
       "      <td>0.886187</td>\n",
       "      <td>NaN</td>\n",
       "      <td>173.333333</td>\n",
       "      <td>11.000000</td>\n",
       "      <td>rbf</td>\n",
       "    </tr>\n",
       "    <tr>\n",
       "      <th>58</th>\n",
       "      <td>SVM</td>\n",
       "      <td>0.886187</td>\n",
       "      <td>NaN</td>\n",
       "      <td>173.333333</td>\n",
       "      <td>11.666667</td>\n",
       "      <td>rbf</td>\n",
       "    </tr>\n",
       "    <tr>\n",
       "      <th>87</th>\n",
       "      <td>SVM</td>\n",
       "      <td>0.886187</td>\n",
       "      <td>NaN</td>\n",
       "      <td>176.666667</td>\n",
       "      <td>11.333333</td>\n",
       "      <td>rbf</td>\n",
       "    </tr>\n",
       "    <tr>\n",
       "      <th>67</th>\n",
       "      <td>SVM</td>\n",
       "      <td>0.886187</td>\n",
       "      <td>NaN</td>\n",
       "      <td>174.444444</td>\n",
       "      <td>11.333333</td>\n",
       "      <td>rbf</td>\n",
       "    </tr>\n",
       "    <tr>\n",
       "      <th>77</th>\n",
       "      <td>SVM</td>\n",
       "      <td>0.886187</td>\n",
       "      <td>NaN</td>\n",
       "      <td>175.555556</td>\n",
       "      <td>11.333333</td>\n",
       "      <td>rbf</td>\n",
       "    </tr>\n",
       "    <tr>\n",
       "      <th>116</th>\n",
       "      <td>SVM</td>\n",
       "      <td>0.886187</td>\n",
       "      <td>NaN</td>\n",
       "      <td>180.000000</td>\n",
       "      <td>11.000000</td>\n",
       "      <td>rbf</td>\n",
       "    </tr>\n",
       "    <tr>\n",
       "      <th>115</th>\n",
       "      <td>SVM</td>\n",
       "      <td>0.886187</td>\n",
       "      <td>NaN</td>\n",
       "      <td>180.000000</td>\n",
       "      <td>10.666667</td>\n",
       "      <td>rbf</td>\n",
       "    </tr>\n",
       "  </tbody>\n",
       "</table>\n",
       "</div>"
      ],
      "text/plain": [
       "    model  accuracy  n_neighbors           C      gamma kernel\n",
       "37    SVM  0.886705          NaN  171.111111  11.333333    rbf\n",
       "96    SVM  0.886705          NaN  177.777778  11.000000    rbf\n",
       "86    SVM  0.886705          NaN  176.666667  11.000000    rbf\n",
       "47    SVM  0.886705          NaN  172.222222  11.333333    rbf\n",
       "76    SVM  0.886705          NaN  175.555556  11.000000    rbf\n",
       "57    SVM  0.886705          NaN  173.333333  11.333333    rbf\n",
       "66    SVM  0.886705          NaN  174.444444  11.000000    rbf\n",
       "106   SVM  0.886705          NaN  178.888889  11.000000    rbf\n",
       "105   SVM  0.886187          NaN  178.888889  10.666667    rbf\n",
       "38    SVM  0.886187          NaN  171.111111  11.666667    rbf\n",
       "28    SVM  0.886187          NaN  170.000000  11.666667    rbf\n",
       "27    SVM  0.886187          NaN  170.000000  11.333333    rbf\n",
       "48    SVM  0.886187          NaN  172.222222  11.666667    rbf\n",
       "56    SVM  0.886187          NaN  173.333333  11.000000    rbf\n",
       "58    SVM  0.886187          NaN  173.333333  11.666667    rbf\n",
       "87    SVM  0.886187          NaN  176.666667  11.333333    rbf\n",
       "67    SVM  0.886187          NaN  174.444444  11.333333    rbf\n",
       "77    SVM  0.886187          NaN  175.555556  11.333333    rbf\n",
       "116   SVM  0.886187          NaN  180.000000  11.000000    rbf\n",
       "115   SVM  0.886187          NaN  180.000000  10.666667    rbf"
      ]
     },
     "execution_count": 203,
     "metadata": {},
     "output_type": "execute_result"
    }
   ],
   "source": [
    "import pandas as pd\n",
    "from pandas import DataFrame\n",
    "from collections import defaultdict\n",
    "\n",
    "result_df_dict = {}\n",
    "result_attributes = [\"model\", \"accuracy\",\"n_neighbors\", \"C\", \"gamma\", \"kernel\"]\n",
    "result_dict = defaultdict(list)\n",
    "\n",
    "algorithm_name= [\"KNN\", \"SVM\"]\n",
    "\n",
    "for i, estimators in enumerate(estimator_results):\n",
    "    number_of_estimators = len(estimators.cv_results_[\"mean_fit_time\"])\n",
    "\n",
    "    for idx_estimator in range(number_of_estimators):\n",
    "        result_dict[\"model\"].append(algorithm_name[i])\n",
    "        result_dict[\"accuracy\"].append(\n",
    "            estimators.cv_results_[\"mean_test_accuracy\"][idx_estimator])\n",
    "            \n",
    "    for param_value in estimators.cv_results_[\"params\"]:\n",
    "        for k,v in param_value.items():\n",
    "            result_dict[k].append(v)\n",
    "    for attr_name in result_attributes:\n",
    "        if len(result_dict[attr_name]) < len(result_dict[\"accuracy\"]):\n",
    "            result_dict[attr_name].extend([None for i in range(number_of_estimators)])\n",
    "\n",
    "result_df = DataFrame(result_dict, columns=result_attributes)\n",
    "result_df.sort_values(\"accuracy\",ascending=False).head(n=20)"
   ]
  },
  {
   "cell_type": "code",
   "execution_count": 205,
   "metadata": {},
   "outputs": [
    {
     "data": {
      "text/html": [
       "<div>\n",
       "<style scoped>\n",
       "    .dataframe tbody tr th:only-of-type {\n",
       "        vertical-align: middle;\n",
       "    }\n",
       "\n",
       "    .dataframe tbody tr th {\n",
       "        vertical-align: top;\n",
       "    }\n",
       "\n",
       "    .dataframe thead th {\n",
       "        text-align: right;\n",
       "    }\n",
       "</style>\n",
       "<table border=\"1\" class=\"dataframe\">\n",
       "  <thead>\n",
       "    <tr style=\"text-align: right;\">\n",
       "      <th></th>\n",
       "      <th>model</th>\n",
       "      <th>accuracy</th>\n",
       "      <th>n_neighbors</th>\n",
       "      <th>C</th>\n",
       "      <th>gamma</th>\n",
       "      <th>kernel</th>\n",
       "    </tr>\n",
       "  </thead>\n",
       "  <tbody>\n",
       "    <tr>\n",
       "      <th>3</th>\n",
       "      <td>KNN</td>\n",
       "      <td>0.829281</td>\n",
       "      <td>4.0</td>\n",
       "      <td>NaN</td>\n",
       "      <td>NaN</td>\n",
       "      <td>None</td>\n",
       "    </tr>\n",
       "    <tr>\n",
       "      <th>6</th>\n",
       "      <td>KNN</td>\n",
       "      <td>0.829281</td>\n",
       "      <td>7.0</td>\n",
       "      <td>NaN</td>\n",
       "      <td>NaN</td>\n",
       "      <td>None</td>\n",
       "    </tr>\n",
       "    <tr>\n",
       "      <th>5</th>\n",
       "      <td>KNN</td>\n",
       "      <td>0.828764</td>\n",
       "      <td>6.0</td>\n",
       "      <td>NaN</td>\n",
       "      <td>NaN</td>\n",
       "      <td>None</td>\n",
       "    </tr>\n",
       "    <tr>\n",
       "      <th>7</th>\n",
       "      <td>KNN</td>\n",
       "      <td>0.827212</td>\n",
       "      <td>8.0</td>\n",
       "      <td>NaN</td>\n",
       "      <td>NaN</td>\n",
       "      <td>None</td>\n",
       "    </tr>\n",
       "    <tr>\n",
       "      <th>0</th>\n",
       "      <td>KNN</td>\n",
       "      <td>0.826694</td>\n",
       "      <td>1.0</td>\n",
       "      <td>NaN</td>\n",
       "      <td>NaN</td>\n",
       "      <td>None</td>\n",
       "    </tr>\n",
       "    <tr>\n",
       "      <th>4</th>\n",
       "      <td>KNN</td>\n",
       "      <td>0.825660</td>\n",
       "      <td>5.0</td>\n",
       "      <td>NaN</td>\n",
       "      <td>NaN</td>\n",
       "      <td>None</td>\n",
       "    </tr>\n",
       "    <tr>\n",
       "      <th>2</th>\n",
       "      <td>KNN</td>\n",
       "      <td>0.825142</td>\n",
       "      <td>3.0</td>\n",
       "      <td>NaN</td>\n",
       "      <td>NaN</td>\n",
       "      <td>None</td>\n",
       "    </tr>\n",
       "    <tr>\n",
       "      <th>1</th>\n",
       "      <td>KNN</td>\n",
       "      <td>0.824625</td>\n",
       "      <td>2.0</td>\n",
       "      <td>NaN</td>\n",
       "      <td>NaN</td>\n",
       "      <td>None</td>\n",
       "    </tr>\n",
       "    <tr>\n",
       "      <th>8</th>\n",
       "      <td>KNN</td>\n",
       "      <td>0.824108</td>\n",
       "      <td>9.0</td>\n",
       "      <td>NaN</td>\n",
       "      <td>NaN</td>\n",
       "      <td>None</td>\n",
       "    </tr>\n",
       "    <tr>\n",
       "      <th>9</th>\n",
       "      <td>KNN</td>\n",
       "      <td>0.821521</td>\n",
       "      <td>10.0</td>\n",
       "      <td>NaN</td>\n",
       "      <td>NaN</td>\n",
       "      <td>None</td>\n",
       "    </tr>\n",
       "    <tr>\n",
       "      <th>11</th>\n",
       "      <td>KNN</td>\n",
       "      <td>0.819969</td>\n",
       "      <td>12.0</td>\n",
       "      <td>NaN</td>\n",
       "      <td>NaN</td>\n",
       "      <td>None</td>\n",
       "    </tr>\n",
       "    <tr>\n",
       "      <th>10</th>\n",
       "      <td>KNN</td>\n",
       "      <td>0.815830</td>\n",
       "      <td>11.0</td>\n",
       "      <td>NaN</td>\n",
       "      <td>NaN</td>\n",
       "      <td>None</td>\n",
       "    </tr>\n",
       "    <tr>\n",
       "      <th>12</th>\n",
       "      <td>KNN</td>\n",
       "      <td>0.814796</td>\n",
       "      <td>13.0</td>\n",
       "      <td>NaN</td>\n",
       "      <td>NaN</td>\n",
       "      <td>None</td>\n",
       "    </tr>\n",
       "    <tr>\n",
       "      <th>13</th>\n",
       "      <td>KNN</td>\n",
       "      <td>0.813761</td>\n",
       "      <td>14.0</td>\n",
       "      <td>NaN</td>\n",
       "      <td>NaN</td>\n",
       "      <td>None</td>\n",
       "    </tr>\n",
       "    <tr>\n",
       "      <th>14</th>\n",
       "      <td>KNN</td>\n",
       "      <td>0.810657</td>\n",
       "      <td>15.0</td>\n",
       "      <td>NaN</td>\n",
       "      <td>NaN</td>\n",
       "      <td>None</td>\n",
       "    </tr>\n",
       "    <tr>\n",
       "      <th>16</th>\n",
       "      <td>KNN</td>\n",
       "      <td>0.809105</td>\n",
       "      <td>17.0</td>\n",
       "      <td>NaN</td>\n",
       "      <td>NaN</td>\n",
       "      <td>None</td>\n",
       "    </tr>\n",
       "    <tr>\n",
       "      <th>15</th>\n",
       "      <td>KNN</td>\n",
       "      <td>0.804966</td>\n",
       "      <td>16.0</td>\n",
       "      <td>NaN</td>\n",
       "      <td>NaN</td>\n",
       "      <td>None</td>\n",
       "    </tr>\n",
       "    <tr>\n",
       "      <th>17</th>\n",
       "      <td>KNN</td>\n",
       "      <td>0.804449</td>\n",
       "      <td>18.0</td>\n",
       "      <td>NaN</td>\n",
       "      <td>NaN</td>\n",
       "      <td>None</td>\n",
       "    </tr>\n",
       "    <tr>\n",
       "      <th>18</th>\n",
       "      <td>KNN</td>\n",
       "      <td>0.798758</td>\n",
       "      <td>19.0</td>\n",
       "      <td>NaN</td>\n",
       "      <td>NaN</td>\n",
       "      <td>None</td>\n",
       "    </tr>\n",
       "    <tr>\n",
       "      <th>19</th>\n",
       "      <td>KNN</td>\n",
       "      <td>0.795654</td>\n",
       "      <td>20.0</td>\n",
       "      <td>NaN</td>\n",
       "      <td>NaN</td>\n",
       "      <td>None</td>\n",
       "    </tr>\n",
       "  </tbody>\n",
       "</table>\n",
       "</div>"
      ],
      "text/plain": [
       "   model  accuracy  n_neighbors   C  gamma kernel\n",
       "3    KNN  0.829281          4.0 NaN    NaN   None\n",
       "6    KNN  0.829281          7.0 NaN    NaN   None\n",
       "5    KNN  0.828764          6.0 NaN    NaN   None\n",
       "7    KNN  0.827212          8.0 NaN    NaN   None\n",
       "0    KNN  0.826694          1.0 NaN    NaN   None\n",
       "4    KNN  0.825660          5.0 NaN    NaN   None\n",
       "2    KNN  0.825142          3.0 NaN    NaN   None\n",
       "1    KNN  0.824625          2.0 NaN    NaN   None\n",
       "8    KNN  0.824108          9.0 NaN    NaN   None\n",
       "9    KNN  0.821521         10.0 NaN    NaN   None\n",
       "11   KNN  0.819969         12.0 NaN    NaN   None\n",
       "10   KNN  0.815830         11.0 NaN    NaN   None\n",
       "12   KNN  0.814796         13.0 NaN    NaN   None\n",
       "13   KNN  0.813761         14.0 NaN    NaN   None\n",
       "14   KNN  0.810657         15.0 NaN    NaN   None\n",
       "16   KNN  0.809105         17.0 NaN    NaN   None\n",
       "15   KNN  0.804966         16.0 NaN    NaN   None\n",
       "17   KNN  0.804449         18.0 NaN    NaN   None\n",
       "18   KNN  0.798758         19.0 NaN    NaN   None\n",
       "19   KNN  0.795654         20.0 NaN    NaN   None"
      ]
     },
     "execution_count": 205,
     "metadata": {},
     "output_type": "execute_result"
    }
   ],
   "source": [
    "result_df.loc[result_df['model'] == 'KNN'].sort_values(\"accuracy\",ascending=False)"
   ]
  },
  {
   "cell_type": "markdown",
   "metadata": {},
   "source": [
    "# 3. 가장 좋았던 Parameter로 Ensemble"
   ]
  },
  {
   "cell_type": "code",
   "execution_count": 210,
   "metadata": {},
   "outputs": [],
   "source": [
    "best_C = result_df.loc[result_df['model'] == 'SVM'].sort_values(\"accuracy\",ascending=False).iloc[0]['C']\n",
    "best_gamma = result_df.loc[result_df['model'] == 'SVM'].sort_values(\"accuracy\",ascending=False).iloc[0]['gamma']"
   ]
  },
  {
   "cell_type": "code",
   "execution_count": 213,
   "metadata": {},
   "outputs": [],
   "source": [
    "clf1 = GaussianNB()\n",
    "clf2 = KNeighborsClassifier(n_neighbors=4, n_jobs=-1)\n",
    "clf3 = SVC(C = best_C, gamma = best_gamma, kernel='rbf')\n",
    "eclf = VotingClassifier(estimators=[('NB', clf1), ('KNN', clf2), ('SVM', clf3)], voting='hard')"
   ]
  },
  {
   "cell_type": "code",
   "execution_count": 216,
   "metadata": {},
   "outputs": [
    {
     "name": "stdout",
     "output_type": "stream",
     "text": [
      "Accuracy of NB is 0.8093053483444574\n"
     ]
    }
   ],
   "source": [
    "print(\"Accuracy of NB is\",cross_val_score(clf1, X, y, cv=5).mean())"
   ]
  },
  {
   "cell_type": "code",
   "execution_count": 217,
   "metadata": {},
   "outputs": [
    {
     "name": "stdout",
     "output_type": "stream",
     "text": [
      "Accuracy of KNN is 0.829452360909076\n"
     ]
    }
   ],
   "source": [
    "print(\"Accuracy of KNN is\",cross_val_score(clf2, X, y, cv=5).mean())"
   ]
  },
  {
   "cell_type": "code",
   "execution_count": 218,
   "metadata": {},
   "outputs": [
    {
     "name": "stdout",
     "output_type": "stream",
     "text": [
      "Accuracy of SVM is 0.8869011116176655\n"
     ]
    }
   ],
   "source": [
    "print(\"Accuracy of SVM is\",cross_val_score(clf3, X, y, cv=5).mean())"
   ]
  },
  {
   "cell_type": "code",
   "execution_count": 219,
   "metadata": {},
   "outputs": [
    {
     "name": "stderr",
     "output_type": "stream",
     "text": [
      "C:\\Users\\korea\\Anaconda3\\lib\\site-packages\\sklearn\\preprocessing\\label.py:151: DeprecationWarning: The truth value of an empty array is ambiguous. Returning False, but in future this will result in an error. Use `array.size > 0` to check that an array is not empty.\n",
      "  if diff:\n",
      "C:\\Users\\korea\\Anaconda3\\lib\\site-packages\\sklearn\\preprocessing\\label.py:151: DeprecationWarning: The truth value of an empty array is ambiguous. Returning False, but in future this will result in an error. Use `array.size > 0` to check that an array is not empty.\n",
      "  if diff:\n",
      "C:\\Users\\korea\\Anaconda3\\lib\\site-packages\\sklearn\\preprocessing\\label.py:151: DeprecationWarning: The truth value of an empty array is ambiguous. Returning False, but in future this will result in an error. Use `array.size > 0` to check that an array is not empty.\n",
      "  if diff:\n",
      "C:\\Users\\korea\\Anaconda3\\lib\\site-packages\\sklearn\\preprocessing\\label.py:151: DeprecationWarning: The truth value of an empty array is ambiguous. Returning False, but in future this will result in an error. Use `array.size > 0` to check that an array is not empty.\n",
      "  if diff:\n"
     ]
    },
    {
     "name": "stdout",
     "output_type": "stream",
     "text": [
      "3 Model Ensemble is 0.8486220065156417\n"
     ]
    },
    {
     "name": "stderr",
     "output_type": "stream",
     "text": [
      "C:\\Users\\korea\\Anaconda3\\lib\\site-packages\\sklearn\\preprocessing\\label.py:151: DeprecationWarning: The truth value of an empty array is ambiguous. Returning False, but in future this will result in an error. Use `array.size > 0` to check that an array is not empty.\n",
      "  if diff:\n"
     ]
    }
   ],
   "source": [
    "print(\"3 Model Ensemble is\",cross_val_score(eclf, X, y, cv=5).mean())"
   ]
  },
  {
   "cell_type": "markdown",
   "metadata": {},
   "source": [
    "Ensemble은 성능이 오히려 안좋아 지는 것으로 보인다."
   ]
  },
  {
   "cell_type": "markdown",
   "metadata": {},
   "source": [
    "# 4. 얼마나 성능 개선이 되었는가?"
   ]
  },
  {
   "cell_type": "code",
   "execution_count": 231,
   "metadata": {},
   "outputs": [
    {
     "name": "stdout",
     "output_type": "stream",
     "text": [
      "-----Final Result--------\n",
      "KNN advanced about 0.0 %\n",
      "SVM advanced about 17.0 %\n",
      "-------------------------\n"
     ]
    }
   ],
   "source": [
    "de_clf2 = KNeighborsClassifier()\n",
    "de_clf3 = SVC()\n",
    "de_clf2_acc = cross_val_score(de_clf2, X, y, cv=5).mean()\n",
    "de_clf3_acc = cross_val_score(de_clf3, X, y, cv=5).mean()\n",
    "\n",
    "clf2 = KNeighborsClassifier(n_neighbors=4, n_jobs=-1)\n",
    "clf3 = SVC(C = best_C, gamma = best_gamma, kernel='rbf')\n",
    "\n",
    "clf2_acc = cross_val_score(clf2, X, y, cv=5).mean()\n",
    "clf3_acc = cross_val_score(clf3, X, y, cv=5).mean()\n",
    "print(\"-----Final Result--------\")\n",
    "print(\"KNN advanced about\", round(clf2_acc - de_clf2_acc, 2)*100, \"%\")\n",
    "print(\"SVM advanced about\", round(clf3_acc - de_clf3_acc, 2)*100, \"%\")\n",
    "print(\"-------------------------\")"
   ]
  }
 ],
 "metadata": {
  "kernelspec": {
   "display_name": "Python 3",
   "language": "python",
   "name": "python3"
  },
  "language_info": {
   "codemirror_mode": {
    "name": "ipython",
    "version": 3
   },
   "file_extension": ".py",
   "mimetype": "text/x-python",
   "name": "python",
   "nbconvert_exporter": "python",
   "pygments_lexer": "ipython3",
   "version": "3.6.5"
  }
 },
 "nbformat": 4,
 "nbformat_minor": 2
}
