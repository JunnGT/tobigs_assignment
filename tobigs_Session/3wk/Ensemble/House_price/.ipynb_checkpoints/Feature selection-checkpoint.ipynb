{
 "cells": [
  {
   "cell_type": "code",
   "execution_count": 236,
   "metadata": {},
   "outputs": [
    {
     "data": {
      "text/plain": [
       "(2919, 77)"
      ]
     },
     "execution_count": 236,
     "metadata": {},
     "output_type": "execute_result"
    }
   ],
   "source": [
    "import os\n",
    "import pandas as pd\n",
    "import numpy as np\n",
    "import pickle\n",
    "\n",
    "def warn(*args, **kwargs):\n",
    "    pass\n",
    "import warnings\n",
    "warnings.warn = warn\n",
    "\n",
    "os.chdir(\"C:\\\\workspace\\\\TOBIGS\\\\tobigs_Session\\\\3wk\\\\Ensemble\\\\House_price\\\\data\")\n",
    "\n",
    "\n",
    "with open('train.pickle' , 'rb') as f:\n",
    "    train = pickle.load(f)\n",
    "    \n",
    "with open('test.pickle' , 'rb') as f:\n",
    "    test = pickle.load(f)\n",
    "    \n",
    "df = pd.concat([train, test], axis = 0)\n",
    "df.shape"
   ]
  },
  {
   "cell_type": "code",
   "execution_count": 237,
   "metadata": {},
   "outputs": [
    {
     "data": {
      "text/plain": [
       "77"
      ]
     },
     "execution_count": 237,
     "metadata": {},
     "output_type": "execute_result"
    }
   ],
   "source": [
    "cate_list = train.select_dtypes(include= \"object\").columns.tolist()\n",
    "con_list = train.select_dtypes(include=np.number).columns.tolist()\n",
    "\n",
    "len(cate_list + con_list)"
   ]
  },
  {
   "cell_type": "markdown",
   "metadata": {},
   "source": [
    "# Categorical Exploration"
   ]
  },
  {
   "cell_type": "code",
   "execution_count": 238,
   "metadata": {
    "scrolled": true
   },
   "outputs": [
    {
     "name": "stdout",
     "output_type": "stream",
     "text": [
      "39\n",
      "0 : 5\n",
      "1 : 5\n",
      "2 : 5\n",
      "3 : 7\n",
      "4 : 7\n",
      "5 : 5\n",
      "6 : 2\n",
      "7 : 9\n",
      "8 : 8\n",
      "9 : 5\n",
      "10 : 5\n",
      "11 : 4\n",
      "12 : 15\n",
      "13 : 16\n",
      "14 : 6\n",
      "15 : 6\n",
      "16 : 7\n",
      "17 : 6\n",
      "18 : 4\n",
      "19 : 6\n",
      "20 : 7\n",
      "21 : 6\n",
      "22 : 5\n",
      "23 : 8\n",
      "24 : 4\n",
      "25 : 4\n",
      "26 : 3\n",
      "27 : 5\n",
      "28 : 4\n",
      "29 : 5\n",
      "30 : 4\n",
      "31 : 25\n",
      "32 : 3\n",
      "33 : 8\n",
      "34 : 6\n",
      "35 : 6\n",
      "36 : 9\n",
      "37 : 2\n",
      "38 : 2\n",
      "Every categorical is  249\n"
     ]
    }
   ],
   "source": [
    "print(len(cate_list))\n",
    "s = 0\n",
    "del_list = []\n",
    "for i,j in enumerate(cate_list):\n",
    "    print(i,\":\", len(train[j].unique()))\n",
    "    \n",
    "    if len(train[j].unique()) >= 10:\n",
    "        del_list.append(i)\n",
    "\n",
    "    s += len(train[j].unique())\n",
    "    \n",
    "print(\"Every categorical is \", s)"
   ]
  },
  {
   "cell_type": "code",
   "execution_count": 239,
   "metadata": {},
   "outputs": [
    {
     "data": {
      "text/plain": [
       "[12, 13, 31]"
      ]
     },
     "execution_count": 239,
     "metadata": {},
     "output_type": "execute_result"
    }
   ],
   "source": [
    "del_list"
   ]
  },
  {
   "cell_type": "code",
   "execution_count": 240,
   "metadata": {},
   "outputs": [
    {
     "data": {
      "text/plain": [
       "36"
      ]
     },
     "execution_count": 240,
     "metadata": {},
     "output_type": "execute_result"
    }
   ],
   "source": [
    "cate_list.remove(cate_list[12])\n",
    "cate_list.remove(cate_list[13])\n",
    "cate_list.remove(cate_list[31])\n",
    "len(cate_list)"
   ]
  },
  {
   "cell_type": "code",
   "execution_count": 241,
   "metadata": {},
   "outputs": [
    {
     "name": "stdout",
     "output_type": "stream",
     "text": [
      "36\n"
     ]
    }
   ],
   "source": [
    "print(len(cate_list))\n",
    "s = 0\n",
    "sel_list = []\n",
    "for i,j in enumerate(cate_list):\n",
    "    if sorted(train[cate_list[i]].unique()) == sorted(test[cate_list[i]].unique()):\n",
    "        sel_list.append(j)"
   ]
  },
  {
   "cell_type": "code",
   "execution_count": 244,
   "metadata": {},
   "outputs": [],
   "source": [
    "cate_list = sel_list"
   ]
  },
  {
   "cell_type": "markdown",
   "metadata": {},
   "source": [
    "# Continuous Explortaion"
   ]
  },
  {
   "cell_type": "code",
   "execution_count": 245,
   "metadata": {},
   "outputs": [],
   "source": [
    "ix = train[con_list].corr().sort_values(\"SalePrice\", ascending = False).index\n",
    "df_sorted_by_correlation = train[con_list].loc[:, ix]\n",
    "values = np.array(df_sorted_by_correlation.corr())[:,0]"
   ]
  },
  {
   "cell_type": "code",
   "execution_count": 246,
   "metadata": {},
   "outputs": [],
   "source": [
    "from sklearn.preprocessing import MinMaxScaler\n",
    "X = pd.concat([train[con_list].drop(columns=\"SalePrice\", axis = 1), pd.get_dummies(train[cate_list])], axis = 1).values\n",
    "y = train.SalePrice.values\n",
    "scale = MinMaxScaler()\n",
    "X = scale.fit_transform(X)"
   ]
  },
  {
   "cell_type": "code",
   "execution_count": 247,
   "metadata": {},
   "outputs": [],
   "source": [
    "from sklearn.ensemble import RandomForestClassifier\n",
    "from sklearn.model_selection import train_test_split"
   ]
  },
  {
   "cell_type": "code",
   "execution_count": 248,
   "metadata": {},
   "outputs": [
    {
     "data": {
      "text/plain": [
       "((1095, 201), (365, 201), (1095,), (365,))"
      ]
     },
     "execution_count": 248,
     "metadata": {},
     "output_type": "execute_result"
    }
   ],
   "source": [
    "X_tr, X_val, y_tr, y_val = train_test_split(X, y, random_state = 201)\n",
    "X_tr.shape, X_val.shape, y_tr.shape, y_val.shape"
   ]
  },
  {
   "cell_type": "code",
   "execution_count": 249,
   "metadata": {},
   "outputs": [],
   "source": [
    "from sklearn.feature_selection import SelectPercentile\n",
    "from sklearn.model_selection import cross_val_score\n",
    "from sklearn.linear_model import LinearRegression\n",
    "from sklearn.metrics import mean_squared_error"
   ]
  },
  {
   "cell_type": "code",
   "execution_count": 250,
   "metadata": {},
   "outputs": [],
   "source": [
    "import warnings\n",
    "warnings.filterwarnings('ignore')"
   ]
  },
  {
   "cell_type": "markdown",
   "metadata": {},
   "source": [
    "# 1. Linear Regression"
   ]
  },
  {
   "cell_type": "code",
   "execution_count": 174,
   "metadata": {},
   "outputs": [
    {
     "data": {
      "text/html": [
       "<div>\n",
       "<style scoped>\n",
       "    .dataframe tbody tr th:only-of-type {\n",
       "        vertical-align: middle;\n",
       "    }\n",
       "\n",
       "    .dataframe tbody tr th {\n",
       "        vertical-align: top;\n",
       "    }\n",
       "\n",
       "    .dataframe thead th {\n",
       "        text-align: right;\n",
       "    }\n",
       "</style>\n",
       "<table border=\"1\" class=\"dataframe\">\n",
       "  <thead>\n",
       "    <tr style=\"text-align: right;\">\n",
       "      <th></th>\n",
       "      <th>Number of Feature</th>\n",
       "      <th>rmse</th>\n",
       "    </tr>\n",
       "  </thead>\n",
       "  <tbody>\n",
       "    <tr>\n",
       "      <th>3</th>\n",
       "      <td>43</td>\n",
       "      <td>30258.508758</td>\n",
       "    </tr>\n",
       "  </tbody>\n",
       "</table>\n",
       "</div>"
      ],
      "text/plain": [
       "   Number of Feature          rmse\n",
       "3                 43  30258.508758"
      ]
     },
     "execution_count": 174,
     "metadata": {},
     "output_type": "execute_result"
    }
   ],
   "source": [
    "num_feature = []\n",
    "rmse = []\n",
    "for percent in np.linspace(1, 100, 20):\n",
    "    select = SelectPercentile(percentile=percent)\n",
    "    select.fit(X, y)\n",
    "    \n",
    "    X_tr_selected = select.transform(X)\n",
    "    X_tr, X_val, y_tr, y_val = train_test_split(X_tr_selected, y, random_state = 201)\n",
    "    \n",
    "    \n",
    "    ensemble1 = LinearRegression()\n",
    "    ensemble1.fit(X_tr, y_tr)\n",
    "    \n",
    "    pred1 = ensemble1.predict(X_val)\n",
    "    num_feature.append(X_tr.shape[1])\n",
    "    rmse.append(np.sqrt(mean_squared_error(y_val, pred1)))\n",
    "\n",
    "LR = pd.DataFrame({'Number of Feature' : num_feature, 'rmse' : rmse})\n",
    "LR.loc[LR[\"rmse\"] == LR[\"rmse\"].min()]"
   ]
  },
  {
   "cell_type": "code",
   "execution_count": 175,
   "metadata": {},
   "outputs": [],
   "source": [
    "num_feature = []\n",
    "rmse = []\n",
    "for percent in np.linspace(1, 100, 20):\n",
    "    select = SelectPercentile(percentile=percent)\n",
    "    select.fit(X, y)\n",
    "    \n",
    "    X_tr_selected = select.transform(X)\n",
    "    X_tr, X_val, y_tr, y_val = train_test_split(X_tr_selected, y, random_state = 201)\n",
    "    \n",
    "    \n",
    "    ensemble1 = RandomForestClassifier(n_estimators=200, n_jobs=-1)\n",
    "    ensemble1.fit(X_tr, y_tr)\n",
    "    \n",
    "    pred1 = ensemble1.predict(X_val)\n",
    "    num_feature.append(X_tr.shape[1])\n",
    "    rmse.append(np.sqrt(mean_squared_error(y_val, pred1)))"
   ]
  },
  {
   "cell_type": "code",
   "execution_count": 176,
   "metadata": {},
   "outputs": [
    {
     "data": {
      "text/html": [
       "<div>\n",
       "<style scoped>\n",
       "    .dataframe tbody tr th:only-of-type {\n",
       "        vertical-align: middle;\n",
       "    }\n",
       "\n",
       "    .dataframe tbody tr th {\n",
       "        vertical-align: top;\n",
       "    }\n",
       "\n",
       "    .dataframe thead th {\n",
       "        text-align: right;\n",
       "    }\n",
       "</style>\n",
       "<table border=\"1\" class=\"dataframe\">\n",
       "  <thead>\n",
       "    <tr style=\"text-align: right;\">\n",
       "      <th></th>\n",
       "      <th>Number of Feature</th>\n",
       "      <th>rmse</th>\n",
       "    </tr>\n",
       "  </thead>\n",
       "  <tbody>\n",
       "    <tr>\n",
       "      <th>7</th>\n",
       "      <td>96</td>\n",
       "      <td>35246.254095</td>\n",
       "    </tr>\n",
       "  </tbody>\n",
       "</table>\n",
       "</div>"
      ],
      "text/plain": [
       "   Number of Feature          rmse\n",
       "7                 96  35246.254095"
      ]
     },
     "execution_count": 176,
     "metadata": {},
     "output_type": "execute_result"
    }
   ],
   "source": [
    "RF = pd.DataFrame({'Number of Feature' : num_feature, 'rmse' : rmse})\n",
    "RF.loc[RF[\"rmse\"] == RF[\"rmse\"].min()]"
   ]
  },
  {
   "cell_type": "code",
   "execution_count": 177,
   "metadata": {},
   "outputs": [],
   "source": [
    "from xgboost import XGBRegressor"
   ]
  },
  {
   "cell_type": "code",
   "execution_count": 178,
   "metadata": {},
   "outputs": [],
   "source": [
    "num_feature = []\n",
    "rmse = []\n",
    "percent_list = []\n",
    "for percent in np.linspace(1, 100, 20):\n",
    "    select = SelectPercentile(percentile=percent)\n",
    "    select.fit(X, y)\n",
    "    \n",
    "    X_tr_selected = select.transform(X)\n",
    "    X_tr, X_val, y_tr, y_val = train_test_split(X_tr_selected, y, random_state = 201)\n",
    "    \n",
    "    \n",
    "    ensemble1 = XGBRegressor(learning_rate=0.01, n_estimators=1000)\n",
    "    ensemble1.fit(X_tr, y_tr)\n",
    "    \n",
    "    pred1 = ensemble1.predict(X_val)\n",
    "    num_feature.append(X_tr.shape[1])\n",
    "    rmse.append(np.sqrt(mean_squared_error(y_val, pred1)))\n",
    "    percent_list.append(percent)"
   ]
  },
  {
   "cell_type": "code",
   "execution_count": 179,
   "metadata": {},
   "outputs": [
    {
     "data": {
      "text/html": [
       "<div>\n",
       "<style scoped>\n",
       "    .dataframe tbody tr th:only-of-type {\n",
       "        vertical-align: middle;\n",
       "    }\n",
       "\n",
       "    .dataframe tbody tr th {\n",
       "        vertical-align: top;\n",
       "    }\n",
       "\n",
       "    .dataframe thead th {\n",
       "        text-align: right;\n",
       "    }\n",
       "</style>\n",
       "<table border=\"1\" class=\"dataframe\">\n",
       "  <thead>\n",
       "    <tr style=\"text-align: right;\">\n",
       "      <th></th>\n",
       "      <th>Number of Feature</th>\n",
       "      <th>rmse</th>\n",
       "      <th>Percent</th>\n",
       "    </tr>\n",
       "  </thead>\n",
       "  <tbody>\n",
       "    <tr>\n",
       "      <th>18</th>\n",
       "      <td>243</td>\n",
       "      <td>24997.039682</td>\n",
       "      <td>94.789474</td>\n",
       "    </tr>\n",
       "  </tbody>\n",
       "</table>\n",
       "</div>"
      ],
      "text/plain": [
       "    Number of Feature          rmse    Percent\n",
       "18                243  24997.039682  94.789474"
      ]
     },
     "execution_count": 179,
     "metadata": {},
     "output_type": "execute_result"
    }
   ],
   "source": [
    "XGB = pd.DataFrame({'Number of Feature' : num_feature, 'rmse' : rmse, \"Percent\" : percent_list})\n",
    "XGB.loc[XGB[\"rmse\"] == XGB[\"rmse\"].min()]"
   ]
  },
  {
   "cell_type": "markdown",
   "metadata": {},
   "source": [
    "# submit"
   ]
  },
  {
   "cell_type": "code",
   "execution_count": 254,
   "metadata": {},
   "outputs": [],
   "source": [
    "X_train = pd.concat([train[con_list].drop(columns=\"SalePrice\", axis = 1), pd.get_dummies(train[cate_list])], axis = 1).values\n",
    "y_train = train.SalePrice.values\n",
    "scale = MinMaxScaler()\n",
    "X_train = scale.fit_transform(X)"
   ]
  },
  {
   "cell_type": "code",
   "execution_count": 255,
   "metadata": {},
   "outputs": [],
   "source": [
    "X_test = pd.concat([test[con_list].drop(columns=\"SalePrice\", axis = 1), pd.get_dummies(test[cate_list])], axis = 1).values\n",
    "X_test = scale.fit_transform(X_test)"
   ]
  },
  {
   "cell_type": "code",
   "execution_count": 256,
   "metadata": {},
   "outputs": [
    {
     "data": {
      "text/plain": [
       "((1460, 201), (1459, 201))"
      ]
     },
     "execution_count": 256,
     "metadata": {},
     "output_type": "execute_result"
    }
   ],
   "source": [
    "X_train.shape, X_test.shape"
   ]
  },
  {
   "cell_type": "code",
   "execution_count": 288,
   "metadata": {},
   "outputs": [],
   "source": [
    "def submit_result_to_kaggle(X_train, y_train, X_test, test_id_idx):\n",
    "    result= RandomForestClassifier(n_estimators=1000, n_jobs=-1).fit(X_train,y_train)\n",
    "    result = result.predict(X_test)\n",
    "    df = pd.DataFrame(np.vstack([test_id_idx, result]).T.tolist(), columns=[\"Id\", \"SalePrice\"])\n",
    "    df[\"Id\"] = df[\"Id\"].astype('int64')\n",
    "    df = df.set_index(\"Id\")\n",
    "    df.to_csv(\"result.csv\")"
   ]
  },
  {
   "cell_type": "code",
   "execution_count": 289,
   "metadata": {},
   "outputs": [],
   "source": [
    "submit_result_to_kaggle(X_train, y_train, X_test, test[\"Id\"].tolist())"
   ]
  },
  {
   "cell_type": "code",
   "execution_count": 285,
   "metadata": {},
   "outputs": [
    {
     "name": "stderr",
     "output_type": "stream",
     "text": [
      "Traceback (most recent call last):\n",
      "  File \"c:\\users\\korea\\anaconda3\\lib\\runpy.py\", line 193, in _run_module_as_main\n",
      "    \"__main__\", mod_spec)\n",
      "  File \"c:\\users\\korea\\anaconda3\\lib\\runpy.py\", line 85, in _run_code\n",
      "    exec(code, run_globals)\n",
      "  File \"C:\\Users\\korea\\Anaconda3\\Scripts\\kaggle.exe\\__main__.py\", line 5, in <module>\n",
      "  File \"c:\\users\\korea\\anaconda3\\lib\\site-packages\\kaggle\\__init__.py\", line 23, in <module>\n",
      "    api.authenticate()\n",
      "  File \"c:\\users\\korea\\anaconda3\\lib\\site-packages\\kaggle\\api\\kaggle_api_extended.py\", line 116, in authenticate\n",
      "    self.config_file, self.config_dir))\n",
      "OSError: Could not find kaggle.json. Make sure it's located in C:\\Users\\korea\\.kaggle. Or use the environment method.\n"
     ]
    }
   ],
   "source": [
    "!kaggle competitions submit -c house-prices-advanced-regression-techniques -f result.csv -m \"XGBOOST\""
   ]
  },
  {
   "cell_type": "code",
   "execution_count": 290,
   "metadata": {},
   "outputs": [],
   "source": [
    "from xgboost import XGBRegressor\n",
    "from lightgbm.sklearn import LGBMRegressor\n",
    "from sklearn.ensemble import RandomForestRegressor\n",
    "from sklearn.naive_bayes import GaussianNB\n",
    "from sklearn.svm import LinearSVR\n",
    "from sklearn.neural_network import MLPRegressor"
   ]
  },
  {
   "cell_type": "code",
   "execution_count": null,
   "metadata": {},
   "outputs": [],
   "source": []
  }
 ],
 "metadata": {
  "kernelspec": {
   "display_name": "Python 3",
   "language": "python",
   "name": "python3"
  },
  "language_info": {
   "codemirror_mode": {
    "name": "ipython",
    "version": 3
   },
   "file_extension": ".py",
   "mimetype": "text/x-python",
   "name": "python",
   "nbconvert_exporter": "python",
   "pygments_lexer": "ipython3",
   "version": "3.6.5"
  }
 },
 "nbformat": 4,
 "nbformat_minor": 2
}
